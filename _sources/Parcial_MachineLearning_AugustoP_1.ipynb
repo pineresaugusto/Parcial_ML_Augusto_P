{
 "cells": [
  {
   "cell_type": "markdown",
   "metadata": {},
   "source": [
    "# Parcial Machine Learning Augusto Piñeres"
   ]
  },
  {
   "cell_type": "code",
   "execution_count": 226,
   "metadata": {},
   "outputs": [],
   "source": [
    "#Librerias\n",
    "import pandas as pd\n",
    "import numpy as np\n",
    "import plotly.express as px\n",
    "import matplotlib.pyplot as plt\n",
    "from sklearn.model_selection import train_test_split\n",
    "from sklearn.impute import SimpleImputer\n",
    "from statsmodels.stats.outliers_influence import variance_inflation_factor\n",
    "from sklearn.metrics import precision_score, recall_score, f1_score, roc_auc_score"
   ]
  },
  {
   "cell_type": "markdown",
   "metadata": {},
   "source": [
    "# EDA"
   ]
  },
  {
   "cell_type": "markdown",
   "metadata": {},
   "source": [
    "## Fraud Detection"
   ]
  },
  {
   "cell_type": "code",
   "execution_count": 2,
   "metadata": {},
   "outputs": [
    {
     "data": {
      "text/html": [
       "<div>\n",
       "<style scoped>\n",
       "    .dataframe tbody tr th:only-of-type {\n",
       "        vertical-align: middle;\n",
       "    }\n",
       "\n",
       "    .dataframe tbody tr th {\n",
       "        vertical-align: top;\n",
       "    }\n",
       "\n",
       "    .dataframe thead th {\n",
       "        text-align: right;\n",
       "    }\n",
       "</style>\n",
       "<table border=\"1\" class=\"dataframe\">\n",
       "  <thead>\n",
       "    <tr style=\"text-align: right;\">\n",
       "      <th></th>\n",
       "      <th>TransactionID</th>\n",
       "      <th>isFraud</th>\n",
       "      <th>TransactionDT</th>\n",
       "      <th>TransactionAmt</th>\n",
       "      <th>ProductCD</th>\n",
       "      <th>card1</th>\n",
       "      <th>card2</th>\n",
       "      <th>card3</th>\n",
       "      <th>card4</th>\n",
       "      <th>card5</th>\n",
       "      <th>...</th>\n",
       "      <th>id_31</th>\n",
       "      <th>id_32</th>\n",
       "      <th>id_33</th>\n",
       "      <th>id_34</th>\n",
       "      <th>id_35</th>\n",
       "      <th>id_36</th>\n",
       "      <th>id_37</th>\n",
       "      <th>id_38</th>\n",
       "      <th>DeviceType</th>\n",
       "      <th>DeviceInfo</th>\n",
       "    </tr>\n",
       "  </thead>\n",
       "  <tbody>\n",
       "    <tr>\n",
       "      <th>0</th>\n",
       "      <td>2987000</td>\n",
       "      <td>0</td>\n",
       "      <td>86400</td>\n",
       "      <td>68.5</td>\n",
       "      <td>W</td>\n",
       "      <td>13926</td>\n",
       "      <td>NaN</td>\n",
       "      <td>150.0</td>\n",
       "      <td>discover</td>\n",
       "      <td>142.0</td>\n",
       "      <td>...</td>\n",
       "      <td>NaN</td>\n",
       "      <td>NaN</td>\n",
       "      <td>NaN</td>\n",
       "      <td>NaN</td>\n",
       "      <td>NaN</td>\n",
       "      <td>NaN</td>\n",
       "      <td>NaN</td>\n",
       "      <td>NaN</td>\n",
       "      <td>NaN</td>\n",
       "      <td>NaN</td>\n",
       "    </tr>\n",
       "    <tr>\n",
       "      <th>1</th>\n",
       "      <td>2987001</td>\n",
       "      <td>0</td>\n",
       "      <td>86401</td>\n",
       "      <td>29.0</td>\n",
       "      <td>W</td>\n",
       "      <td>2755</td>\n",
       "      <td>404.0</td>\n",
       "      <td>150.0</td>\n",
       "      <td>mastercard</td>\n",
       "      <td>102.0</td>\n",
       "      <td>...</td>\n",
       "      <td>NaN</td>\n",
       "      <td>NaN</td>\n",
       "      <td>NaN</td>\n",
       "      <td>NaN</td>\n",
       "      <td>NaN</td>\n",
       "      <td>NaN</td>\n",
       "      <td>NaN</td>\n",
       "      <td>NaN</td>\n",
       "      <td>NaN</td>\n",
       "      <td>NaN</td>\n",
       "    </tr>\n",
       "    <tr>\n",
       "      <th>2</th>\n",
       "      <td>2987002</td>\n",
       "      <td>0</td>\n",
       "      <td>86469</td>\n",
       "      <td>59.0</td>\n",
       "      <td>W</td>\n",
       "      <td>4663</td>\n",
       "      <td>490.0</td>\n",
       "      <td>150.0</td>\n",
       "      <td>visa</td>\n",
       "      <td>166.0</td>\n",
       "      <td>...</td>\n",
       "      <td>NaN</td>\n",
       "      <td>NaN</td>\n",
       "      <td>NaN</td>\n",
       "      <td>NaN</td>\n",
       "      <td>NaN</td>\n",
       "      <td>NaN</td>\n",
       "      <td>NaN</td>\n",
       "      <td>NaN</td>\n",
       "      <td>NaN</td>\n",
       "      <td>NaN</td>\n",
       "    </tr>\n",
       "    <tr>\n",
       "      <th>3</th>\n",
       "      <td>2987003</td>\n",
       "      <td>0</td>\n",
       "      <td>86499</td>\n",
       "      <td>50.0</td>\n",
       "      <td>W</td>\n",
       "      <td>18132</td>\n",
       "      <td>567.0</td>\n",
       "      <td>150.0</td>\n",
       "      <td>mastercard</td>\n",
       "      <td>117.0</td>\n",
       "      <td>...</td>\n",
       "      <td>NaN</td>\n",
       "      <td>NaN</td>\n",
       "      <td>NaN</td>\n",
       "      <td>NaN</td>\n",
       "      <td>NaN</td>\n",
       "      <td>NaN</td>\n",
       "      <td>NaN</td>\n",
       "      <td>NaN</td>\n",
       "      <td>NaN</td>\n",
       "      <td>NaN</td>\n",
       "    </tr>\n",
       "    <tr>\n",
       "      <th>4</th>\n",
       "      <td>2987004</td>\n",
       "      <td>0</td>\n",
       "      <td>86506</td>\n",
       "      <td>50.0</td>\n",
       "      <td>H</td>\n",
       "      <td>4497</td>\n",
       "      <td>514.0</td>\n",
       "      <td>150.0</td>\n",
       "      <td>mastercard</td>\n",
       "      <td>102.0</td>\n",
       "      <td>...</td>\n",
       "      <td>samsung browser 6.2</td>\n",
       "      <td>32.0</td>\n",
       "      <td>2220x1080</td>\n",
       "      <td>match_status:2</td>\n",
       "      <td>T</td>\n",
       "      <td>F</td>\n",
       "      <td>T</td>\n",
       "      <td>T</td>\n",
       "      <td>mobile</td>\n",
       "      <td>SAMSUNG SM-G892A Build/NRD90M</td>\n",
       "    </tr>\n",
       "  </tbody>\n",
       "</table>\n",
       "<p>5 rows × 434 columns</p>\n",
       "</div>"
      ],
      "text/plain": [
       "   TransactionID  isFraud  TransactionDT  TransactionAmt ProductCD  card1  \\\n",
       "0        2987000        0          86400            68.5         W  13926   \n",
       "1        2987001        0          86401            29.0         W   2755   \n",
       "2        2987002        0          86469            59.0         W   4663   \n",
       "3        2987003        0          86499            50.0         W  18132   \n",
       "4        2987004        0          86506            50.0         H   4497   \n",
       "\n",
       "   card2  card3       card4  card5  ...                id_31  id_32  \\\n",
       "0    NaN  150.0    discover  142.0  ...                  NaN    NaN   \n",
       "1  404.0  150.0  mastercard  102.0  ...                  NaN    NaN   \n",
       "2  490.0  150.0        visa  166.0  ...                  NaN    NaN   \n",
       "3  567.0  150.0  mastercard  117.0  ...                  NaN    NaN   \n",
       "4  514.0  150.0  mastercard  102.0  ...  samsung browser 6.2   32.0   \n",
       "\n",
       "       id_33           id_34  id_35 id_36 id_37  id_38  DeviceType  \\\n",
       "0        NaN             NaN    NaN   NaN   NaN    NaN         NaN   \n",
       "1        NaN             NaN    NaN   NaN   NaN    NaN         NaN   \n",
       "2        NaN             NaN    NaN   NaN   NaN    NaN         NaN   \n",
       "3        NaN             NaN    NaN   NaN   NaN    NaN         NaN   \n",
       "4  2220x1080  match_status:2      T     F     T      T      mobile   \n",
       "\n",
       "                      DeviceInfo  \n",
       "0                            NaN  \n",
       "1                            NaN  \n",
       "2                            NaN  \n",
       "3                            NaN  \n",
       "4  SAMSUNG SM-G892A Build/NRD90M  \n",
       "\n",
       "[5 rows x 434 columns]"
      ]
     },
     "execution_count": 2,
     "metadata": {},
     "output_type": "execute_result"
    }
   ],
   "source": [
    "#Leer datos \n",
    "train_transactions = pd.read_csv(\"train_transaction.csv\")\n",
    "train_identity = pd.read_csv(\"train_identity.csv\")\n",
    "test_transactions = pd.read_csv(\"test_transaction.csv\")\n",
    "test_identity = pd.read_csv(\"test_identity.csv\")\n",
    "train_data_transactions = pd.merge(train_transactions, train_identity, on='TransactionID', how='left')\n",
    "test_data_transactions = pd.merge(test_transactions, test_identity, on='TransactionID', how='left')\n",
    "\n",
    "#Quiero ver las primeras 5 filas de train_data_transactions\n",
    "train_data_transactions.head(5)\n",
    "import warnings\n",
    "warnings.filterwarnings('ignore')"
   ]
  },
  {
   "cell_type": "code",
   "execution_count": 3,
   "metadata": {},
   "outputs": [
    {
     "data": {
      "text/plain": [
       "(590540, 434)"
      ]
     },
     "execution_count": 3,
     "metadata": {},
     "output_type": "execute_result"
    }
   ],
   "source": [
    "#Vamos a ver la cantidad de observaciones y variables para cada observacion\n",
    "train_data_transactions.shape"
   ]
  },
  {
   "cell_type": "code",
   "execution_count": 4,
   "metadata": {},
   "outputs": [
    {
     "data": {
      "text/plain": [
       "Index(['TransactionAmt', 'card2', 'card3', 'card5', 'addr1', 'addr2', 'dist1',\n",
       "       'dist2', 'C1', 'C2',\n",
       "       ...\n",
       "       'id_17', 'id_18', 'id_19', 'id_20', 'id_21', 'id_22', 'id_24', 'id_25',\n",
       "       'id_26', 'id_32'],\n",
       "      dtype='object', length=399)"
      ]
     },
     "execution_count": 4,
     "metadata": {},
     "output_type": "execute_result"
    }
   ],
   "source": [
    "#Vamos a ver las columnas con datos tipo float\n",
    "train_data_transactions.select_dtypes(include=['float64']).columns"
   ]
  },
  {
   "cell_type": "code",
   "execution_count": 8,
   "metadata": {},
   "outputs": [
    {
     "data": {
      "text/plain": [
       "Index(['TransactionID', 'isFraud', 'TransactionDT', 'card1'], dtype='object')"
      ]
     },
     "execution_count": 8,
     "metadata": {},
     "output_type": "execute_result"
    }
   ],
   "source": [
    "# Ahora observamos las columnas con datos tipo int\n",
    "train_data_transactions.select_dtypes(include=['int64']).columns"
   ]
  },
  {
   "cell_type": "code",
   "execution_count": 9,
   "metadata": {},
   "outputs": [
    {
     "data": {
      "text/plain": [
       "Index(['ProductCD', 'card4', 'card6', 'P_emaildomain', 'R_emaildomain', 'M1',\n",
       "       'M2', 'M3', 'M4', 'M5', 'M6', 'M7', 'M8', 'M9', 'id_12', 'id_15',\n",
       "       'id_16', 'id_23', 'id_27', 'id_28', 'id_29', 'id_30', 'id_31', 'id_33',\n",
       "       'id_34', 'id_35', 'id_36', 'id_37', 'id_38', 'DeviceType',\n",
       "       'DeviceInfo'],\n",
       "      dtype='object')"
      ]
     },
     "execution_count": 9,
     "metadata": {},
     "output_type": "execute_result"
    }
   ],
   "source": [
    "#Finalmente vemos las columnas con datos tipo object\n",
    "train_data_transactions.select_dtypes(include=['object']).columns"
   ]
  },
  {
   "cell_type": "code",
   "execution_count": 7,
   "metadata": {},
   "outputs": [
    {
     "data": {
      "text/html": [
       "<div>\n",
       "<style scoped>\n",
       "    .dataframe tbody tr th:only-of-type {\n",
       "        vertical-align: middle;\n",
       "    }\n",
       "\n",
       "    .dataframe tbody tr th {\n",
       "        vertical-align: top;\n",
       "    }\n",
       "\n",
       "    .dataframe thead th {\n",
       "        text-align: right;\n",
       "    }\n",
       "</style>\n",
       "<table border=\"1\" class=\"dataframe\">\n",
       "  <thead>\n",
       "    <tr style=\"text-align: right;\">\n",
       "      <th></th>\n",
       "      <th>TransactionID</th>\n",
       "      <th>isFraud</th>\n",
       "      <th>TransactionDT</th>\n",
       "      <th>TransactionAmt</th>\n",
       "      <th>card1</th>\n",
       "      <th>card2</th>\n",
       "      <th>card3</th>\n",
       "      <th>card5</th>\n",
       "      <th>addr1</th>\n",
       "      <th>addr2</th>\n",
       "      <th>...</th>\n",
       "      <th>id_17</th>\n",
       "      <th>id_18</th>\n",
       "      <th>id_19</th>\n",
       "      <th>id_20</th>\n",
       "      <th>id_21</th>\n",
       "      <th>id_22</th>\n",
       "      <th>id_24</th>\n",
       "      <th>id_25</th>\n",
       "      <th>id_26</th>\n",
       "      <th>id_32</th>\n",
       "    </tr>\n",
       "  </thead>\n",
       "  <tbody>\n",
       "    <tr>\n",
       "      <th>count</th>\n",
       "      <td>5.905400e+05</td>\n",
       "      <td>590540.000000</td>\n",
       "      <td>5.905400e+05</td>\n",
       "      <td>590540.000000</td>\n",
       "      <td>590540.000000</td>\n",
       "      <td>581607.000000</td>\n",
       "      <td>588975.000000</td>\n",
       "      <td>586281.000000</td>\n",
       "      <td>524834.000000</td>\n",
       "      <td>524834.000000</td>\n",
       "      <td>...</td>\n",
       "      <td>139369.000000</td>\n",
       "      <td>45113.000000</td>\n",
       "      <td>139318.000000</td>\n",
       "      <td>139261.000000</td>\n",
       "      <td>5159.000000</td>\n",
       "      <td>5169.000000</td>\n",
       "      <td>4747.000000</td>\n",
       "      <td>5132.000000</td>\n",
       "      <td>5163.000000</td>\n",
       "      <td>77586.000000</td>\n",
       "    </tr>\n",
       "    <tr>\n",
       "      <th>mean</th>\n",
       "      <td>3.282270e+06</td>\n",
       "      <td>0.034990</td>\n",
       "      <td>7.372311e+06</td>\n",
       "      <td>135.027176</td>\n",
       "      <td>9898.734658</td>\n",
       "      <td>362.555488</td>\n",
       "      <td>153.194925</td>\n",
       "      <td>199.278897</td>\n",
       "      <td>290.733794</td>\n",
       "      <td>86.800630</td>\n",
       "      <td>...</td>\n",
       "      <td>189.451377</td>\n",
       "      <td>14.237337</td>\n",
       "      <td>353.128174</td>\n",
       "      <td>403.882666</td>\n",
       "      <td>368.269820</td>\n",
       "      <td>16.002708</td>\n",
       "      <td>12.800927</td>\n",
       "      <td>329.608924</td>\n",
       "      <td>149.070308</td>\n",
       "      <td>26.508597</td>\n",
       "    </tr>\n",
       "    <tr>\n",
       "      <th>std</th>\n",
       "      <td>1.704744e+05</td>\n",
       "      <td>0.183755</td>\n",
       "      <td>4.617224e+06</td>\n",
       "      <td>239.162522</td>\n",
       "      <td>4901.170153</td>\n",
       "      <td>157.793246</td>\n",
       "      <td>11.336444</td>\n",
       "      <td>41.244453</td>\n",
       "      <td>101.741072</td>\n",
       "      <td>2.690623</td>\n",
       "      <td>...</td>\n",
       "      <td>30.375360</td>\n",
       "      <td>1.561302</td>\n",
       "      <td>141.095343</td>\n",
       "      <td>152.160327</td>\n",
       "      <td>198.847038</td>\n",
       "      <td>6.897665</td>\n",
       "      <td>2.372447</td>\n",
       "      <td>97.461089</td>\n",
       "      <td>32.101995</td>\n",
       "      <td>3.737502</td>\n",
       "    </tr>\n",
       "    <tr>\n",
       "      <th>min</th>\n",
       "      <td>2.987000e+06</td>\n",
       "      <td>0.000000</td>\n",
       "      <td>8.640000e+04</td>\n",
       "      <td>0.251000</td>\n",
       "      <td>1000.000000</td>\n",
       "      <td>100.000000</td>\n",
       "      <td>100.000000</td>\n",
       "      <td>100.000000</td>\n",
       "      <td>100.000000</td>\n",
       "      <td>10.000000</td>\n",
       "      <td>...</td>\n",
       "      <td>100.000000</td>\n",
       "      <td>10.000000</td>\n",
       "      <td>100.000000</td>\n",
       "      <td>100.000000</td>\n",
       "      <td>100.000000</td>\n",
       "      <td>10.000000</td>\n",
       "      <td>11.000000</td>\n",
       "      <td>100.000000</td>\n",
       "      <td>100.000000</td>\n",
       "      <td>0.000000</td>\n",
       "    </tr>\n",
       "    <tr>\n",
       "      <th>25%</th>\n",
       "      <td>3.134635e+06</td>\n",
       "      <td>0.000000</td>\n",
       "      <td>3.027058e+06</td>\n",
       "      <td>43.321000</td>\n",
       "      <td>6019.000000</td>\n",
       "      <td>214.000000</td>\n",
       "      <td>150.000000</td>\n",
       "      <td>166.000000</td>\n",
       "      <td>204.000000</td>\n",
       "      <td>87.000000</td>\n",
       "      <td>...</td>\n",
       "      <td>166.000000</td>\n",
       "      <td>13.000000</td>\n",
       "      <td>266.000000</td>\n",
       "      <td>256.000000</td>\n",
       "      <td>252.000000</td>\n",
       "      <td>14.000000</td>\n",
       "      <td>11.000000</td>\n",
       "      <td>321.000000</td>\n",
       "      <td>119.000000</td>\n",
       "      <td>24.000000</td>\n",
       "    </tr>\n",
       "    <tr>\n",
       "      <th>50%</th>\n",
       "      <td>3.282270e+06</td>\n",
       "      <td>0.000000</td>\n",
       "      <td>7.306528e+06</td>\n",
       "      <td>68.769000</td>\n",
       "      <td>9678.000000</td>\n",
       "      <td>361.000000</td>\n",
       "      <td>150.000000</td>\n",
       "      <td>226.000000</td>\n",
       "      <td>299.000000</td>\n",
       "      <td>87.000000</td>\n",
       "      <td>...</td>\n",
       "      <td>166.000000</td>\n",
       "      <td>15.000000</td>\n",
       "      <td>341.000000</td>\n",
       "      <td>472.000000</td>\n",
       "      <td>252.000000</td>\n",
       "      <td>14.000000</td>\n",
       "      <td>11.000000</td>\n",
       "      <td>321.000000</td>\n",
       "      <td>149.000000</td>\n",
       "      <td>24.000000</td>\n",
       "    </tr>\n",
       "    <tr>\n",
       "      <th>75%</th>\n",
       "      <td>3.429904e+06</td>\n",
       "      <td>0.000000</td>\n",
       "      <td>1.124662e+07</td>\n",
       "      <td>125.000000</td>\n",
       "      <td>14184.000000</td>\n",
       "      <td>512.000000</td>\n",
       "      <td>150.000000</td>\n",
       "      <td>226.000000</td>\n",
       "      <td>330.000000</td>\n",
       "      <td>87.000000</td>\n",
       "      <td>...</td>\n",
       "      <td>225.000000</td>\n",
       "      <td>15.000000</td>\n",
       "      <td>427.000000</td>\n",
       "      <td>533.000000</td>\n",
       "      <td>486.500000</td>\n",
       "      <td>14.000000</td>\n",
       "      <td>15.000000</td>\n",
       "      <td>371.000000</td>\n",
       "      <td>169.000000</td>\n",
       "      <td>32.000000</td>\n",
       "    </tr>\n",
       "    <tr>\n",
       "      <th>max</th>\n",
       "      <td>3.577539e+06</td>\n",
       "      <td>1.000000</td>\n",
       "      <td>1.581113e+07</td>\n",
       "      <td>31937.391000</td>\n",
       "      <td>18396.000000</td>\n",
       "      <td>600.000000</td>\n",
       "      <td>231.000000</td>\n",
       "      <td>237.000000</td>\n",
       "      <td>540.000000</td>\n",
       "      <td>102.000000</td>\n",
       "      <td>...</td>\n",
       "      <td>229.000000</td>\n",
       "      <td>29.000000</td>\n",
       "      <td>671.000000</td>\n",
       "      <td>661.000000</td>\n",
       "      <td>854.000000</td>\n",
       "      <td>44.000000</td>\n",
       "      <td>26.000000</td>\n",
       "      <td>548.000000</td>\n",
       "      <td>216.000000</td>\n",
       "      <td>32.000000</td>\n",
       "    </tr>\n",
       "  </tbody>\n",
       "</table>\n",
       "<p>8 rows × 403 columns</p>\n",
       "</div>"
      ],
      "text/plain": [
       "       TransactionID        isFraud  TransactionDT  TransactionAmt  \\\n",
       "count   5.905400e+05  590540.000000   5.905400e+05   590540.000000   \n",
       "mean    3.282270e+06       0.034990   7.372311e+06      135.027176   \n",
       "std     1.704744e+05       0.183755   4.617224e+06      239.162522   \n",
       "min     2.987000e+06       0.000000   8.640000e+04        0.251000   \n",
       "25%     3.134635e+06       0.000000   3.027058e+06       43.321000   \n",
       "50%     3.282270e+06       0.000000   7.306528e+06       68.769000   \n",
       "75%     3.429904e+06       0.000000   1.124662e+07      125.000000   \n",
       "max     3.577539e+06       1.000000   1.581113e+07    31937.391000   \n",
       "\n",
       "               card1          card2          card3          card5  \\\n",
       "count  590540.000000  581607.000000  588975.000000  586281.000000   \n",
       "mean     9898.734658     362.555488     153.194925     199.278897   \n",
       "std      4901.170153     157.793246      11.336444      41.244453   \n",
       "min      1000.000000     100.000000     100.000000     100.000000   \n",
       "25%      6019.000000     214.000000     150.000000     166.000000   \n",
       "50%      9678.000000     361.000000     150.000000     226.000000   \n",
       "75%     14184.000000     512.000000     150.000000     226.000000   \n",
       "max     18396.000000     600.000000     231.000000     237.000000   \n",
       "\n",
       "               addr1          addr2  ...          id_17         id_18  \\\n",
       "count  524834.000000  524834.000000  ...  139369.000000  45113.000000   \n",
       "mean      290.733794      86.800630  ...     189.451377     14.237337   \n",
       "std       101.741072       2.690623  ...      30.375360      1.561302   \n",
       "min       100.000000      10.000000  ...     100.000000     10.000000   \n",
       "25%       204.000000      87.000000  ...     166.000000     13.000000   \n",
       "50%       299.000000      87.000000  ...     166.000000     15.000000   \n",
       "75%       330.000000      87.000000  ...     225.000000     15.000000   \n",
       "max       540.000000     102.000000  ...     229.000000     29.000000   \n",
       "\n",
       "               id_19          id_20        id_21        id_22        id_24  \\\n",
       "count  139318.000000  139261.000000  5159.000000  5169.000000  4747.000000   \n",
       "mean      353.128174     403.882666   368.269820    16.002708    12.800927   \n",
       "std       141.095343     152.160327   198.847038     6.897665     2.372447   \n",
       "min       100.000000     100.000000   100.000000    10.000000    11.000000   \n",
       "25%       266.000000     256.000000   252.000000    14.000000    11.000000   \n",
       "50%       341.000000     472.000000   252.000000    14.000000    11.000000   \n",
       "75%       427.000000     533.000000   486.500000    14.000000    15.000000   \n",
       "max       671.000000     661.000000   854.000000    44.000000    26.000000   \n",
       "\n",
       "             id_25        id_26         id_32  \n",
       "count  5132.000000  5163.000000  77586.000000  \n",
       "mean    329.608924   149.070308     26.508597  \n",
       "std      97.461089    32.101995      3.737502  \n",
       "min     100.000000   100.000000      0.000000  \n",
       "25%     321.000000   119.000000     24.000000  \n",
       "50%     321.000000   149.000000     24.000000  \n",
       "75%     371.000000   169.000000     32.000000  \n",
       "max     548.000000   216.000000     32.000000  \n",
       "\n",
       "[8 rows x 403 columns]"
      ]
     },
     "execution_count": 7,
     "metadata": {},
     "output_type": "execute_result"
    }
   ],
   "source": [
    "#Vamos a revisar la media, desviacion estandar, minimo, maximo y cuartiles de las columnas con valores numericos\n",
    "train_data_transactions.describe()"
   ]
  },
  {
   "cell_type": "code",
   "execution_count": 5,
   "metadata": {},
   "outputs": [
    {
     "data": {
      "text/html": [
       "<div>\n",
       "<style scoped>\n",
       "    .dataframe tbody tr th:only-of-type {\n",
       "        vertical-align: middle;\n",
       "    }\n",
       "\n",
       "    .dataframe tbody tr th {\n",
       "        vertical-align: top;\n",
       "    }\n",
       "\n",
       "    .dataframe thead th {\n",
       "        text-align: right;\n",
       "    }\n",
       "</style>\n",
       "<table border=\"1\" class=\"dataframe\">\n",
       "  <thead>\n",
       "    <tr style=\"text-align: right;\">\n",
       "      <th></th>\n",
       "      <th>column_name</th>\n",
       "      <th>nas_percentage</th>\n",
       "    </tr>\n",
       "  </thead>\n",
       "  <tbody>\n",
       "    <tr>\n",
       "      <th>0</th>\n",
       "      <td>TransactionID</td>\n",
       "      <td>0.00000</td>\n",
       "    </tr>\n",
       "    <tr>\n",
       "      <th>30</th>\n",
       "      <td>C14</td>\n",
       "      <td>0.00000</td>\n",
       "    </tr>\n",
       "    <tr>\n",
       "      <th>29</th>\n",
       "      <td>C13</td>\n",
       "      <td>0.00000</td>\n",
       "    </tr>\n",
       "    <tr>\n",
       "      <th>28</th>\n",
       "      <td>C12</td>\n",
       "      <td>0.00000</td>\n",
       "    </tr>\n",
       "    <tr>\n",
       "      <th>27</th>\n",
       "      <td>C11</td>\n",
       "      <td>0.00000</td>\n",
       "    </tr>\n",
       "    <tr>\n",
       "      <th>26</th>\n",
       "      <td>C10</td>\n",
       "      <td>0.00000</td>\n",
       "    </tr>\n",
       "    <tr>\n",
       "      <th>24</th>\n",
       "      <td>C8</td>\n",
       "      <td>0.00000</td>\n",
       "    </tr>\n",
       "    <tr>\n",
       "      <th>23</th>\n",
       "      <td>C7</td>\n",
       "      <td>0.00000</td>\n",
       "    </tr>\n",
       "    <tr>\n",
       "      <th>22</th>\n",
       "      <td>C6</td>\n",
       "      <td>0.00000</td>\n",
       "    </tr>\n",
       "    <tr>\n",
       "      <th>21</th>\n",
       "      <td>C5</td>\n",
       "      <td>0.00000</td>\n",
       "    </tr>\n",
       "    <tr>\n",
       "      <th>20</th>\n",
       "      <td>C4</td>\n",
       "      <td>0.00000</td>\n",
       "    </tr>\n",
       "    <tr>\n",
       "      <th>19</th>\n",
       "      <td>C3</td>\n",
       "      <td>0.00000</td>\n",
       "    </tr>\n",
       "    <tr>\n",
       "      <th>18</th>\n",
       "      <td>C2</td>\n",
       "      <td>0.00000</td>\n",
       "    </tr>\n",
       "    <tr>\n",
       "      <th>17</th>\n",
       "      <td>C1</td>\n",
       "      <td>0.00000</td>\n",
       "    </tr>\n",
       "    <tr>\n",
       "      <th>25</th>\n",
       "      <td>C9</td>\n",
       "      <td>0.00000</td>\n",
       "    </tr>\n",
       "    <tr>\n",
       "      <th>1</th>\n",
       "      <td>isFraud</td>\n",
       "      <td>0.00000</td>\n",
       "    </tr>\n",
       "    <tr>\n",
       "      <th>2</th>\n",
       "      <td>TransactionDT</td>\n",
       "      <td>0.00000</td>\n",
       "    </tr>\n",
       "    <tr>\n",
       "      <th>3</th>\n",
       "      <td>TransactionAmt</td>\n",
       "      <td>0.00000</td>\n",
       "    </tr>\n",
       "    <tr>\n",
       "      <th>4</th>\n",
       "      <td>ProductCD</td>\n",
       "      <td>0.00000</td>\n",
       "    </tr>\n",
       "    <tr>\n",
       "      <th>5</th>\n",
       "      <td>card1</td>\n",
       "      <td>0.00000</td>\n",
       "    </tr>\n",
       "    <tr>\n",
       "      <th>344</th>\n",
       "      <td>V290</td>\n",
       "      <td>0.00002</td>\n",
       "    </tr>\n",
       "    <tr>\n",
       "      <th>360</th>\n",
       "      <td>V306</td>\n",
       "      <td>0.00002</td>\n",
       "    </tr>\n",
       "    <tr>\n",
       "      <th>361</th>\n",
       "      <td>V307</td>\n",
       "      <td>0.00002</td>\n",
       "    </tr>\n",
       "    <tr>\n",
       "      <th>362</th>\n",
       "      <td>V308</td>\n",
       "      <td>0.00002</td>\n",
       "    </tr>\n",
       "    <tr>\n",
       "      <th>363</th>\n",
       "      <td>V309</td>\n",
       "      <td>0.00002</td>\n",
       "    </tr>\n",
       "  </tbody>\n",
       "</table>\n",
       "</div>"
      ],
      "text/plain": [
       "        column_name  nas_percentage\n",
       "0     TransactionID         0.00000\n",
       "30              C14         0.00000\n",
       "29              C13         0.00000\n",
       "28              C12         0.00000\n",
       "27              C11         0.00000\n",
       "26              C10         0.00000\n",
       "24               C8         0.00000\n",
       "23               C7         0.00000\n",
       "22               C6         0.00000\n",
       "21               C5         0.00000\n",
       "20               C4         0.00000\n",
       "19               C3         0.00000\n",
       "18               C2         0.00000\n",
       "17               C1         0.00000\n",
       "25               C9         0.00000\n",
       "1           isFraud         0.00000\n",
       "2     TransactionDT         0.00000\n",
       "3    TransactionAmt         0.00000\n",
       "4         ProductCD         0.00000\n",
       "5             card1         0.00000\n",
       "344            V290         0.00002\n",
       "360            V306         0.00002\n",
       "361            V307         0.00002\n",
       "362            V308         0.00002\n",
       "363            V309         0.00002"
      ]
     },
     "execution_count": 5,
     "metadata": {},
     "output_type": "execute_result"
    }
   ],
   "source": [
    "#Ahora vamos a hacer un conteo de NAs por columna\n",
    "train_data_transactions.isnull().sum()\n",
    "#Vamos a ver el porcentaje de NAs por columna\n",
    "train_data_transactions.isnull().sum()/train_data_transactions.shape[0]\n",
    "#Ahora creamos un dataframe con el nombre de las columnas y su porcentaje de NAs para las 25 columnas con menos NAs\n",
    "NAs = pd.DataFrame(train_data_transactions.isnull().sum()/train_data_transactions.shape[0]).reset_index()\n",
    "NAs.columns = ['column_name', 'nas_percentage']\n",
    "NAs.sort_values(by='nas_percentage', ascending=True).head(25)"
   ]
  },
  {
   "cell_type": "code",
   "execution_count": 227,
   "metadata": {},
   "outputs": [
    {
     "data": {
      "image/png": "[encoded data removed]",
      "text/plain": [
       "<Figure size 1440x1080 with 1 Axes>"
      ]
     },
     "metadata": {
      "needs_background": "light"
     },
     "output_type": "display_data"
    }
   ],
   "source": [
    "#Ahora vamos a ver un grafico de barras con el porcentaje de NAs por columna con matplotlib\n",
    "NAs.sort_values(by='nas_percentage', ascending=True).plot.barh(x='column_name', y='nas_percentage', figsize=(20,15))\n",
    "plt.title('Porcentaje de NAs por columna', fontsize=20, fontweight='bold')\n",
    "plt.xlabel('Porcentaje', fontsize=15)\n",
    "plt.ylabel('Columna', fontsize=15)\n",
    "plt.show()"
   ]
  },
  {
   "cell_type": "markdown",
   "metadata": {},
   "source": [
    "Como podemos observar hay columnas que mayoria de sus datos son NAs pero tambien hay muchas en las que se tienen pocos o ninguno, estas son las que seleccionaran para observar con mas detalle en el EDA ya que se sospecha que son las que mejor nos ayudan a detectar fraudes."
   ]
  },
  {
   "cell_type": "code",
   "execution_count": 228,
   "metadata": {},
   "outputs": [
    {
     "data": {
      "image/png": "[encoded data removed]",
      "text/plain": [
       "<Figure size 432x288 with 1 Axes>"
      ]
     },
     "metadata": {
      "needs_background": "light"
     },
     "output_type": "display_data"
    }
   ],
   "source": [
    "#La variable respuesta es isFraud, es una variable binaria, vamos a ver la cantidad de 0 y 1 a ver si esta balanceada\n",
    "train_data_transactions['isFraud'].value_counts()\n",
    "#Lo vemos en un histograma con matplotlib\n",
    "train_data_transactions['isFraud'].value_counts().plot.bar()\n",
    "plt.title('Cantidad de 0 y 1 en isFraud', fontsize=20, fontweight='bold')\n",
    "plt.xlabel('isFraud', fontsize=15)\n",
    "plt.ylabel('Cantidad', fontsize=15)\n",
    "plt.show()"
   ]
  },
  {
   "cell_type": "markdown",
   "metadata": {},
   "source": [
    "La gran mayoria de nuestras muestras son casos que no son fraudes, es posible que un modelo generado a partir de este training set solo sea capaz de detectar casos no fraudes y se le sea dificil detectar fraudes. Ahora observaremos la distribucion en el testing data set."
   ]
  },
  {
   "cell_type": "code",
   "execution_count": 9,
   "metadata": {},
   "outputs": [
    {
     "data": {
      "text/html": [
       "<div>\n",
       "<style scoped>\n",
       "    .dataframe tbody tr th:only-of-type {\n",
       "        vertical-align: middle;\n",
       "    }\n",
       "\n",
       "    .dataframe tbody tr th {\n",
       "        vertical-align: top;\n",
       "    }\n",
       "\n",
       "    .dataframe thead th {\n",
       "        text-align: right;\n",
       "    }\n",
       "</style>\n",
       "<table border=\"1\" class=\"dataframe\">\n",
       "  <thead>\n",
       "    <tr style=\"text-align: right;\">\n",
       "      <th></th>\n",
       "      <th>TransactionID</th>\n",
       "      <th>TransactionDT</th>\n",
       "      <th>TransactionAmt</th>\n",
       "      <th>ProductCD</th>\n",
       "      <th>card1</th>\n",
       "      <th>card2</th>\n",
       "      <th>card3</th>\n",
       "      <th>card4</th>\n",
       "      <th>card5</th>\n",
       "      <th>card6</th>\n",
       "      <th>...</th>\n",
       "      <th>id-31</th>\n",
       "      <th>id-32</th>\n",
       "      <th>id-33</th>\n",
       "      <th>id-34</th>\n",
       "      <th>id-35</th>\n",
       "      <th>id-36</th>\n",
       "      <th>id-37</th>\n",
       "      <th>id-38</th>\n",
       "      <th>DeviceType</th>\n",
       "      <th>DeviceInfo</th>\n",
       "    </tr>\n",
       "  </thead>\n",
       "  <tbody>\n",
       "    <tr>\n",
       "      <th>0</th>\n",
       "      <td>3663549</td>\n",
       "      <td>18403224</td>\n",
       "      <td>31.95</td>\n",
       "      <td>W</td>\n",
       "      <td>10409</td>\n",
       "      <td>111.0</td>\n",
       "      <td>150.0</td>\n",
       "      <td>visa</td>\n",
       "      <td>226.0</td>\n",
       "      <td>debit</td>\n",
       "      <td>...</td>\n",
       "      <td>NaN</td>\n",
       "      <td>NaN</td>\n",
       "      <td>NaN</td>\n",
       "      <td>NaN</td>\n",
       "      <td>NaN</td>\n",
       "      <td>NaN</td>\n",
       "      <td>NaN</td>\n",
       "      <td>NaN</td>\n",
       "      <td>NaN</td>\n",
       "      <td>NaN</td>\n",
       "    </tr>\n",
       "    <tr>\n",
       "      <th>1</th>\n",
       "      <td>3663550</td>\n",
       "      <td>18403263</td>\n",
       "      <td>49.00</td>\n",
       "      <td>W</td>\n",
       "      <td>4272</td>\n",
       "      <td>111.0</td>\n",
       "      <td>150.0</td>\n",
       "      <td>visa</td>\n",
       "      <td>226.0</td>\n",
       "      <td>debit</td>\n",
       "      <td>...</td>\n",
       "      <td>NaN</td>\n",
       "      <td>NaN</td>\n",
       "      <td>NaN</td>\n",
       "      <td>NaN</td>\n",
       "      <td>NaN</td>\n",
       "      <td>NaN</td>\n",
       "      <td>NaN</td>\n",
       "      <td>NaN</td>\n",
       "      <td>NaN</td>\n",
       "      <td>NaN</td>\n",
       "    </tr>\n",
       "    <tr>\n",
       "      <th>2</th>\n",
       "      <td>3663551</td>\n",
       "      <td>18403310</td>\n",
       "      <td>171.00</td>\n",
       "      <td>W</td>\n",
       "      <td>4476</td>\n",
       "      <td>574.0</td>\n",
       "      <td>150.0</td>\n",
       "      <td>visa</td>\n",
       "      <td>226.0</td>\n",
       "      <td>debit</td>\n",
       "      <td>...</td>\n",
       "      <td>NaN</td>\n",
       "      <td>NaN</td>\n",
       "      <td>NaN</td>\n",
       "      <td>NaN</td>\n",
       "      <td>NaN</td>\n",
       "      <td>NaN</td>\n",
       "      <td>NaN</td>\n",
       "      <td>NaN</td>\n",
       "      <td>NaN</td>\n",
       "      <td>NaN</td>\n",
       "    </tr>\n",
       "    <tr>\n",
       "      <th>3</th>\n",
       "      <td>3663552</td>\n",
       "      <td>18403310</td>\n",
       "      <td>284.95</td>\n",
       "      <td>W</td>\n",
       "      <td>10989</td>\n",
       "      <td>360.0</td>\n",
       "      <td>150.0</td>\n",
       "      <td>visa</td>\n",
       "      <td>166.0</td>\n",
       "      <td>debit</td>\n",
       "      <td>...</td>\n",
       "      <td>NaN</td>\n",
       "      <td>NaN</td>\n",
       "      <td>NaN</td>\n",
       "      <td>NaN</td>\n",
       "      <td>NaN</td>\n",
       "      <td>NaN</td>\n",
       "      <td>NaN</td>\n",
       "      <td>NaN</td>\n",
       "      <td>NaN</td>\n",
       "      <td>NaN</td>\n",
       "    </tr>\n",
       "    <tr>\n",
       "      <th>4</th>\n",
       "      <td>3663553</td>\n",
       "      <td>18403317</td>\n",
       "      <td>67.95</td>\n",
       "      <td>W</td>\n",
       "      <td>18018</td>\n",
       "      <td>452.0</td>\n",
       "      <td>150.0</td>\n",
       "      <td>mastercard</td>\n",
       "      <td>117.0</td>\n",
       "      <td>debit</td>\n",
       "      <td>...</td>\n",
       "      <td>NaN</td>\n",
       "      <td>NaN</td>\n",
       "      <td>NaN</td>\n",
       "      <td>NaN</td>\n",
       "      <td>NaN</td>\n",
       "      <td>NaN</td>\n",
       "      <td>NaN</td>\n",
       "      <td>NaN</td>\n",
       "      <td>NaN</td>\n",
       "      <td>NaN</td>\n",
       "    </tr>\n",
       "  </tbody>\n",
       "</table>\n",
       "<p>5 rows × 433 columns</p>\n",
       "</div>"
      ],
      "text/plain": [
       "   TransactionID  TransactionDT  TransactionAmt ProductCD  card1  card2  \\\n",
       "0        3663549       18403224           31.95         W  10409  111.0   \n",
       "1        3663550       18403263           49.00         W   4272  111.0   \n",
       "2        3663551       18403310          171.00         W   4476  574.0   \n",
       "3        3663552       18403310          284.95         W  10989  360.0   \n",
       "4        3663553       18403317           67.95         W  18018  452.0   \n",
       "\n",
       "   card3       card4  card5  card6  ...  id-31  id-32  id-33  id-34 id-35  \\\n",
       "0  150.0        visa  226.0  debit  ...    NaN    NaN    NaN    NaN   NaN   \n",
       "1  150.0        visa  226.0  debit  ...    NaN    NaN    NaN    NaN   NaN   \n",
       "2  150.0        visa  226.0  debit  ...    NaN    NaN    NaN    NaN   NaN   \n",
       "3  150.0        visa  166.0  debit  ...    NaN    NaN    NaN    NaN   NaN   \n",
       "4  150.0  mastercard  117.0  debit  ...    NaN    NaN    NaN    NaN   NaN   \n",
       "\n",
       "  id-36  id-37  id-38  DeviceType  DeviceInfo  \n",
       "0   NaN    NaN    NaN         NaN         NaN  \n",
       "1   NaN    NaN    NaN         NaN         NaN  \n",
       "2   NaN    NaN    NaN         NaN         NaN  \n",
       "3   NaN    NaN    NaN         NaN         NaN  \n",
       "4   NaN    NaN    NaN         NaN         NaN  \n",
       "\n",
       "[5 rows x 433 columns]"
      ]
     },
     "execution_count": 9,
     "metadata": {},
     "output_type": "execute_result"
    }
   ],
   "source": [
    "test_data_transactions.head(5)"
   ]
  },
  {
   "cell_type": "markdown",
   "metadata": {},
   "source": [
    "La data de testing no tiene variable respuesta asi que es necesario generar un testing set a partir de la data de entrenamiento."
   ]
  },
  {
   "cell_type": "code",
   "execution_count": 6,
   "metadata": {},
   "outputs": [],
   "source": [
    "#Vamos a generar un set de test con el 20% de los datos de train_transactions_data\n",
    "#La idea es que el set de test tenga la misma proporcion de 0 y 1 que el set de train\n",
    "train_data_transactions['isFraud'].value_counts()\n",
    "#Vemos que hay 20663 observaciones con 1 y 569877 observaciones con 0\n",
    "#Vamos a generar un set de test con 4133 observaciones con 1 y 113975 observaciones con 0\n",
    "#Para eso vamos a hacer un split con la opcion stratify\n",
    "train_data_transactions['isFraud'].value_counts(normalize=True)\n",
    "#Vemos que el 3.5% de las observaciones tienen 1 y el 96.5% tienen 0\n",
    "#Vamos a hacer el split con la opcion stratify\n",
    "tr_train, tr_test = train_test_split(train_data_transactions, test_size=0.2, random_state=42, stratify=train_data_transactions['isFraud'])"
   ]
  },
  {
   "cell_type": "code",
   "execution_count": 7,
   "metadata": {},
   "outputs": [
    {
     "name": "stdout",
     "output_type": "stream",
     "text": [
      "0    0.965011\n",
      "1    0.034989\n",
      "Name: isFraud, dtype: float64 0    0.965007\n",
      "1    0.034993\n",
      "Name: isFraud, dtype: float64\n"
     ]
    }
   ],
   "source": [
    "#Vamos a observar la proporcion de 0 y 1 en el set de train y test en un dataframe\n",
    "tr_train['isFraud'].value_counts(normalize=True)\n",
    "tr_test['isFraud'].value_counts(normalize=True)\n",
    "print(tr_train['isFraud'].value_counts(normalize=True),tr_test['isFraud'].value_counts(normalize=True))\n"
   ]
  },
  {
   "cell_type": "markdown",
   "metadata": {},
   "source": [
    "Vemos que ahora si nuestros datasets tienen informacion de ambos tipos de respuesta. Se podrian generar datos sinteticos con tecnimas como Oversampling para balancear los datos y tener una cantidad similar para ambas respuestas sin embargo lo vamos a omitir por ahora ya que solo estamos analizando los datos y no generando modelos todavia. Es posible que al momento de generar el modelo, por cuestiones de tiempo no se contemple esta opcion pero en un contexto sin restricciones de tiempo vale la pena comparar resultados."
   ]
  },
  {
   "cell_type": "code",
   "execution_count": 229,
   "metadata": {},
   "outputs": [
    {
     "data": {
      "image/png": "[encoded data removed]",
      "text/plain": [
       "<Figure size 432x288 with 1 Axes>"
      ]
     },
     "metadata": {
      "needs_background": "light"
     },
     "output_type": "display_data"
    }
   ],
   "source": [
    "#Vamos analizar con mas detalle las variables TransactionAmt, ProductCD, TransactionDT, card1\n",
    "#Realizemos un analisis de simetria, datos atipicos, y dispersion para cada una\n",
    "#Primero vamos a ver la distribucion de TransactionAmt con matplotlib\n",
    "tr_train['TransactionAmt'].plot.hist(bins=100)\n",
    "plt.title('Distribucion de TransactionAmt', fontsize=20, fontweight='bold')\n",
    "plt.xlabel('TransactionAmt', fontsize=15)\n",
    "plt.ylabel('Frecuencia', fontsize=15)\n",
    "plt.show()"
   ]
  },
  {
   "cell_type": "markdown",
   "metadata": {},
   "source": [
    "Se puede evidenciar que tiene un sesgo a la derecha y es posible suponer que hay datos atipicos y la dispersion es alta."
   ]
  },
  {
   "cell_type": "code",
   "execution_count": 230,
   "metadata": {},
   "outputs": [
    {
     "data": {
      "image/png": "[encoded data removed]",
      "text/plain": [
       "<Figure size 432x288 with 1 Axes>"
      ]
     },
     "metadata": {
      "needs_background": "light"
     },
     "output_type": "display_data"
    }
   ],
   "source": [
    "#Repetimos para ProductCD con matplotlib\n",
    "tr_train['ProductCD'].value_counts().plot.bar()\n",
    "plt.title('Cantidad de observaciones por ProductCD', fontsize=20, fontweight='bold')\n",
    "plt.xlabel('ProductCD', fontsize=15)\n",
    "plt.ylabel('Cantidad', fontsize=15)\n",
    "plt.show()"
   ]
  },
  {
   "cell_type": "markdown",
   "metadata": {},
   "source": [
    "Esta variable es categorica, con 5 diferentes respuestas, la gran mayoria es de tipo W. Ahora veamos como se relaciona cada tipo con la variable respuesta."
   ]
  },
  {
   "cell_type": "code",
   "execution_count": 231,
   "metadata": {},
   "outputs": [
    {
     "data": {
      "image/png": "[encoded data removed]",
      "text/plain": [
       "<Figure size 432x288 with 1 Axes>"
      ]
     },
     "metadata": {
      "needs_background": "light"
     },
     "output_type": "display_data"
    }
   ],
   "source": [
    "#Veamos como se relaciona ProductCD con isFraud con matplotlib\n",
    "pd.crosstab(tr_train['ProductCD'], tr_train['isFraud']).plot.bar()\n",
    "plt.title('Cantidad de 0 y 1 en isFraud por ProductCD', fontsize=20, fontweight='bold')\n",
    "plt.xlabel('ProductCD', fontsize=15)\n",
    "plt.ylabel('Cantidad', fontsize=15)\n",
    "plt.show()"
   ]
  },
  {
   "cell_type": "markdown",
   "metadata": {},
   "source": [
    "En todas las opciones hay casos fraude asi que se mantienen en el estudio. Es posible tambien que la variable no un aporte significativo a la decision."
   ]
  },
  {
   "cell_type": "code",
   "execution_count": 232,
   "metadata": {},
   "outputs": [
    {
     "data": {
      "image/png": "[encoded data removed]",
      "text/plain": [
       "<Figure size 432x288 with 1 Axes>"
      ]
     },
     "metadata": {
      "needs_background": "light"
     },
     "output_type": "display_data"
    }
   ],
   "source": [
    "#Repetimos para TransactionDT con matplotlib\n",
    "tr_train['TransactionDT'].plot.hist(bins=100)\n",
    "plt.title('Distribucion de TransactionDT', fontsize=20, fontweight='bold')\n",
    "plt.xlabel('TransactionDT', fontsize=15)\n",
    "plt.ylabel('Frecuencia', fontsize=15)\n",
    "plt.show()"
   ]
  },
  {
   "cell_type": "markdown",
   "metadata": {},
   "source": [
    "Vemos que tiene una distribucion relativamente asimetrica y su rango de valores es enorme, es posible que dificilmente logre explicar la variable respuesta a partir de sus datos."
   ]
  },
  {
   "cell_type": "code",
   "execution_count": 233,
   "metadata": {},
   "outputs": [
    {
     "data": {
      "image/png": "[encoded data removed]",
      "text/plain": [
       "<Figure size 432x288 with 1 Axes>"
      ]
     },
     "metadata": {
      "needs_background": "light"
     },
     "output_type": "display_data"
    }
   ],
   "source": [
    "#Finalmente para card1 con matplotlib\n",
    "tr_train['card1'].plot.hist(bins=100)\n",
    "plt.title('Distribucion de card1', fontsize=20, fontweight='bold')\n",
    "plt.xlabel('card1', fontsize=15)\n",
    "plt.ylabel('Frecuencia', fontsize=15)\n",
    "plt.show()"
   ]
  },
  {
   "cell_type": "markdown",
   "metadata": {},
   "source": [
    "Podemos observar que su rango es muy amplio tambien, distribucion asimetrica y con posiblemente datos atipicos."
   ]
  },
  {
   "cell_type": "code",
   "execution_count": 8,
   "metadata": {},
   "outputs": [
    {
     "data": {
      "text/plain": [
       "(590540, 226)"
      ]
     },
     "execution_count": 8,
     "metadata": {},
     "output_type": "execute_result"
    }
   ],
   "source": [
    "#Vamos a eliminar las columnas con mas del 70% de NAs\n",
    "train_data_transactions_2 = train_data_transactions.loc[:, train_data_transactions.isnull().mean() < .7]\n",
    "train_data_transactions_2.shape"
   ]
  },
  {
   "cell_type": "code",
   "execution_count": 9,
   "metadata": {},
   "outputs": [],
   "source": [
    "#De nuevo ahora usamos nuestro nuevo set para train y test\n",
    "train_data_transactions_2['isFraud'].value_counts()\n",
    "train_data_transactions_2['isFraud'].value_counts(normalize=True)\n",
    "tr_train_2, tr_test_2 = train_test_split(train_data_transactions_2, test_size=0.2, random_state=42, stratify=train_data_transactions_2['isFraud'])"
   ]
  },
  {
   "cell_type": "code",
   "execution_count": 10,
   "metadata": {},
   "outputs": [],
   "source": [
    "#Ahora vamos a realizar imputacion de faltantes con la mediana en las columnas de tr_train_2\n",
    "#Usemos impute() de sklearn para imputar los faltantes\n",
    "imputer = SimpleImputer(strategy='median')\n",
    "#Vamos a filtrar las columnas numericas del set\n",
    "tr_train_2_num = tr_train_2.select_dtypes(include=['float64','int64'])\n",
    "#Ahora vamos a imputar los faltantes\n",
    "imputer.fit(tr_train_2_num)\n",
    "tr_train_2_num_imp = imputer.transform(tr_train_2_num)"
   ]
  },
  {
   "cell_type": "code",
   "execution_count": 11,
   "metadata": {},
   "outputs": [],
   "source": [
    "#Ahora usamos los valores de tr_train_2_num_imp para reemplazar las columnas numericas de tr_train_2\n",
    "tr_train_2_num_imp_df = pd.DataFrame(tr_train_2_num_imp, columns=tr_train_2_num.columns)\n",
    "#Ahora tr_train_2 le agregamos las columnas numericas imputadas\n",
    "tr_train_2 = tr_train_2.drop(columns=tr_train_2_num.columns)\n",
    "tr_train_2 = tr_train_2.merge(tr_train_2_num_imp_df, left_index=True, right_index=True)"
   ]
  },
  {
   "cell_type": "code",
   "execution_count": 12,
   "metadata": {},
   "outputs": [],
   "source": [
    "#Repetimos el proceso para testing\n",
    "tr_test_2_num = tr_test_2.select_dtypes(include=['float64','int64'])\n",
    "imputer.fit(tr_test_2_num)\n",
    "tr_test_2_num_imp = imputer.transform(tr_test_2_num)\n",
    "tr_test_2_num_imp_df = pd.DataFrame(tr_test_2_num_imp, columns=tr_test_2_num.columns)\n",
    "tr_test_2 = tr_test_2.drop(columns=tr_test_2_num.columns)\n",
    "tr_test_2 = tr_test_2.merge(tr_test_2_num_imp_df, left_index=True, right_index=True)"
   ]
  },
  {
   "cell_type": "code",
   "execution_count": 13,
   "metadata": {},
   "outputs": [
    {
     "data": {
      "text/html": [
       "<div>\n",
       "<style scoped>\n",
       "    .dataframe tbody tr th:only-of-type {\n",
       "        vertical-align: middle;\n",
       "    }\n",
       "\n",
       "    .dataframe tbody tr th {\n",
       "        vertical-align: top;\n",
       "    }\n",
       "\n",
       "    .dataframe thead th {\n",
       "        text-align: right;\n",
       "    }\n",
       "</style>\n",
       "<table border=\"1\" class=\"dataframe\">\n",
       "  <thead>\n",
       "    <tr style=\"text-align: right;\">\n",
       "      <th></th>\n",
       "      <th>TransactionID</th>\n",
       "      <th>TransactionDT</th>\n",
       "      <th>TransactionAmt</th>\n",
       "      <th>card1</th>\n",
       "      <th>card2</th>\n",
       "      <th>card3</th>\n",
       "      <th>card5</th>\n",
       "      <th>addr1</th>\n",
       "      <th>addr2</th>\n",
       "      <th>dist1</th>\n",
       "      <th>...</th>\n",
       "      <th>V312</th>\n",
       "      <th>V313</th>\n",
       "      <th>V314</th>\n",
       "      <th>V315</th>\n",
       "      <th>V316</th>\n",
       "      <th>V317</th>\n",
       "      <th>V318</th>\n",
       "      <th>V319</th>\n",
       "      <th>V320</th>\n",
       "      <th>V321</th>\n",
       "    </tr>\n",
       "  </thead>\n",
       "  <tbody>\n",
       "    <tr>\n",
       "      <th>TransactionID</th>\n",
       "      <td>1.000000</td>\n",
       "      <td>0.998280</td>\n",
       "      <td>0.012247</td>\n",
       "      <td>0.009052</td>\n",
       "      <td>-0.019369</td>\n",
       "      <td>-0.010626</td>\n",
       "      <td>-0.023389</td>\n",
       "      <td>-0.000902</td>\n",
       "      <td>0.056286</td>\n",
       "      <td>-0.028635</td>\n",
       "      <td>...</td>\n",
       "      <td>0.038697</td>\n",
       "      <td>0.029072</td>\n",
       "      <td>0.042493</td>\n",
       "      <td>0.028880</td>\n",
       "      <td>0.057764</td>\n",
       "      <td>0.056432</td>\n",
       "      <td>0.062696</td>\n",
       "      <td>0.017587</td>\n",
       "      <td>0.052934</td>\n",
       "      <td>0.039374</td>\n",
       "    </tr>\n",
       "    <tr>\n",
       "      <th>TransactionDT</th>\n",
       "      <td>0.998280</td>\n",
       "      <td>1.000000</td>\n",
       "      <td>0.012163</td>\n",
       "      <td>0.009557</td>\n",
       "      <td>-0.018673</td>\n",
       "      <td>-0.011793</td>\n",
       "      <td>-0.023637</td>\n",
       "      <td>-0.000576</td>\n",
       "      <td>0.051086</td>\n",
       "      <td>-0.028938</td>\n",
       "      <td>...</td>\n",
       "      <td>0.038928</td>\n",
       "      <td>0.028642</td>\n",
       "      <td>0.042564</td>\n",
       "      <td>0.028242</td>\n",
       "      <td>0.060126</td>\n",
       "      <td>0.058749</td>\n",
       "      <td>0.065319</td>\n",
       "      <td>0.018302</td>\n",
       "      <td>0.054955</td>\n",
       "      <td>0.040879</td>\n",
       "    </tr>\n",
       "    <tr>\n",
       "      <th>TransactionAmt</th>\n",
       "      <td>0.012247</td>\n",
       "      <td>0.012163</td>\n",
       "      <td>1.000000</td>\n",
       "      <td>-0.005959</td>\n",
       "      <td>0.015969</td>\n",
       "      <td>-0.109148</td>\n",
       "      <td>0.001496</td>\n",
       "      <td>-0.008658</td>\n",
       "      <td>0.027737</td>\n",
       "      <td>0.024938</td>\n",
       "      <td>...</td>\n",
       "      <td>0.103422</td>\n",
       "      <td>0.188066</td>\n",
       "      <td>0.145969</td>\n",
       "      <td>0.174331</td>\n",
       "      <td>0.013932</td>\n",
       "      <td>0.010876</td>\n",
       "      <td>0.013933</td>\n",
       "      <td>0.127611</td>\n",
       "      <td>0.102201</td>\n",
       "      <td>0.119556</td>\n",
       "    </tr>\n",
       "    <tr>\n",
       "      <th>card1</th>\n",
       "      <td>0.009052</td>\n",
       "      <td>0.009557</td>\n",
       "      <td>-0.005959</td>\n",
       "      <td>1.000000</td>\n",
       "      <td>0.003456</td>\n",
       "      <td>0.004068</td>\n",
       "      <td>-0.092662</td>\n",
       "      <td>0.020058</td>\n",
       "      <td>-0.000179</td>\n",
       "      <td>0.004999</td>\n",
       "      <td>...</td>\n",
       "      <td>0.005822</td>\n",
       "      <td>0.002300</td>\n",
       "      <td>0.012435</td>\n",
       "      <td>0.000875</td>\n",
       "      <td>0.045871</td>\n",
       "      <td>0.050707</td>\n",
       "      <td>0.051874</td>\n",
       "      <td>0.009020</td>\n",
       "      <td>0.036245</td>\n",
       "      <td>0.025729</td>\n",
       "    </tr>\n",
       "    <tr>\n",
       "      <th>card2</th>\n",
       "      <td>-0.019369</td>\n",
       "      <td>-0.018673</td>\n",
       "      <td>0.015969</td>\n",
       "      <td>0.003456</td>\n",
       "      <td>1.000000</td>\n",
       "      <td>0.025094</td>\n",
       "      <td>0.030027</td>\n",
       "      <td>0.030028</td>\n",
       "      <td>-0.022354</td>\n",
       "      <td>-0.014372</td>\n",
       "      <td>...</td>\n",
       "      <td>0.001238</td>\n",
       "      <td>-0.000363</td>\n",
       "      <td>0.004628</td>\n",
       "      <td>0.001120</td>\n",
       "      <td>0.029266</td>\n",
       "      <td>0.031910</td>\n",
       "      <td>0.032666</td>\n",
       "      <td>0.015716</td>\n",
       "      <td>0.030406</td>\n",
       "      <td>0.025467</td>\n",
       "    </tr>\n",
       "    <tr>\n",
       "      <th>...</th>\n",
       "      <td>...</td>\n",
       "      <td>...</td>\n",
       "      <td>...</td>\n",
       "      <td>...</td>\n",
       "      <td>...</td>\n",
       "      <td>...</td>\n",
       "      <td>...</td>\n",
       "      <td>...</td>\n",
       "      <td>...</td>\n",
       "      <td>...</td>\n",
       "      <td>...</td>\n",
       "      <td>...</td>\n",
       "      <td>...</td>\n",
       "      <td>...</td>\n",
       "      <td>...</td>\n",
       "      <td>...</td>\n",
       "      <td>...</td>\n",
       "      <td>...</td>\n",
       "      <td>...</td>\n",
       "      <td>...</td>\n",
       "      <td>...</td>\n",
       "    </tr>\n",
       "    <tr>\n",
       "      <th>V317</th>\n",
       "      <td>0.056432</td>\n",
       "      <td>0.058749</td>\n",
       "      <td>0.010876</td>\n",
       "      <td>0.050707</td>\n",
       "      <td>0.031910</td>\n",
       "      <td>-0.016395</td>\n",
       "      <td>-0.093664</td>\n",
       "      <td>0.014347</td>\n",
       "      <td>-0.003121</td>\n",
       "      <td>0.019272</td>\n",
       "      <td>...</td>\n",
       "      <td>0.222431</td>\n",
       "      <td>0.048310</td>\n",
       "      <td>0.186796</td>\n",
       "      <td>0.046652</td>\n",
       "      <td>0.909175</td>\n",
       "      <td>1.000000</td>\n",
       "      <td>0.968438</td>\n",
       "      <td>0.132213</td>\n",
       "      <td>0.590630</td>\n",
       "      <td>0.378573</td>\n",
       "    </tr>\n",
       "    <tr>\n",
       "      <th>V318</th>\n",
       "      <td>0.062696</td>\n",
       "      <td>0.065319</td>\n",
       "      <td>0.013933</td>\n",
       "      <td>0.051874</td>\n",
       "      <td>0.032666</td>\n",
       "      <td>-0.014966</td>\n",
       "      <td>-0.098958</td>\n",
       "      <td>0.015853</td>\n",
       "      <td>0.001599</td>\n",
       "      <td>0.014299</td>\n",
       "      <td>...</td>\n",
       "      <td>0.231721</td>\n",
       "      <td>0.054354</td>\n",
       "      <td>0.195217</td>\n",
       "      <td>0.050700</td>\n",
       "      <td>0.939396</td>\n",
       "      <td>0.968438</td>\n",
       "      <td>1.000000</td>\n",
       "      <td>0.144186</td>\n",
       "      <td>0.617874</td>\n",
       "      <td>0.408474</td>\n",
       "    </tr>\n",
       "    <tr>\n",
       "      <th>V319</th>\n",
       "      <td>0.017587</td>\n",
       "      <td>0.018302</td>\n",
       "      <td>0.127611</td>\n",
       "      <td>0.009020</td>\n",
       "      <td>0.015716</td>\n",
       "      <td>-0.014116</td>\n",
       "      <td>-0.018457</td>\n",
       "      <td>0.004619</td>\n",
       "      <td>0.003748</td>\n",
       "      <td>0.006956</td>\n",
       "      <td>...</td>\n",
       "      <td>0.052643</td>\n",
       "      <td>0.036706</td>\n",
       "      <td>0.048612</td>\n",
       "      <td>0.030407</td>\n",
       "      <td>0.135677</td>\n",
       "      <td>0.132213</td>\n",
       "      <td>0.144186</td>\n",
       "      <td>1.000000</td>\n",
       "      <td>0.788243</td>\n",
       "      <td>0.920414</td>\n",
       "    </tr>\n",
       "    <tr>\n",
       "      <th>V320</th>\n",
       "      <td>0.052934</td>\n",
       "      <td>0.054955</td>\n",
       "      <td>0.102201</td>\n",
       "      <td>0.036245</td>\n",
       "      <td>0.030406</td>\n",
       "      <td>-0.023520</td>\n",
       "      <td>-0.066935</td>\n",
       "      <td>0.010030</td>\n",
       "      <td>0.004369</td>\n",
       "      <td>0.013284</td>\n",
       "      <td>...</td>\n",
       "      <td>0.195654</td>\n",
       "      <td>0.065002</td>\n",
       "      <td>0.163226</td>\n",
       "      <td>0.062674</td>\n",
       "      <td>0.550614</td>\n",
       "      <td>0.590630</td>\n",
       "      <td>0.617874</td>\n",
       "      <td>0.788243</td>\n",
       "      <td>1.000000</td>\n",
       "      <td>0.938065</td>\n",
       "    </tr>\n",
       "    <tr>\n",
       "      <th>V321</th>\n",
       "      <td>0.039374</td>\n",
       "      <td>0.040879</td>\n",
       "      <td>0.119556</td>\n",
       "      <td>0.025729</td>\n",
       "      <td>0.025467</td>\n",
       "      <td>-0.019310</td>\n",
       "      <td>-0.050230</td>\n",
       "      <td>0.008866</td>\n",
       "      <td>0.004787</td>\n",
       "      <td>0.011604</td>\n",
       "      <td>...</td>\n",
       "      <td>0.140904</td>\n",
       "      <td>0.055400</td>\n",
       "      <td>0.116507</td>\n",
       "      <td>0.051259</td>\n",
       "      <td>0.363770</td>\n",
       "      <td>0.378573</td>\n",
       "      <td>0.408474</td>\n",
       "      <td>0.920414</td>\n",
       "      <td>0.938065</td>\n",
       "      <td>1.000000</td>\n",
       "    </tr>\n",
       "  </tbody>\n",
       "</table>\n",
       "<p>212 rows × 212 columns</p>\n",
       "</div>"
      ],
      "text/plain": [
       "                TransactionID  TransactionDT  TransactionAmt     card1  \\\n",
       "TransactionID        1.000000       0.998280        0.012247  0.009052   \n",
       "TransactionDT        0.998280       1.000000        0.012163  0.009557   \n",
       "TransactionAmt       0.012247       0.012163        1.000000 -0.005959   \n",
       "card1                0.009052       0.009557       -0.005959  1.000000   \n",
       "card2               -0.019369      -0.018673        0.015969  0.003456   \n",
       "...                       ...            ...             ...       ...   \n",
       "V317                 0.056432       0.058749        0.010876  0.050707   \n",
       "V318                 0.062696       0.065319        0.013933  0.051874   \n",
       "V319                 0.017587       0.018302        0.127611  0.009020   \n",
       "V320                 0.052934       0.054955        0.102201  0.036245   \n",
       "V321                 0.039374       0.040879        0.119556  0.025729   \n",
       "\n",
       "                   card2     card3     card5     addr1     addr2     dist1  \\\n",
       "TransactionID  -0.019369 -0.010626 -0.023389 -0.000902  0.056286 -0.028635   \n",
       "TransactionDT  -0.018673 -0.011793 -0.023637 -0.000576  0.051086 -0.028938   \n",
       "TransactionAmt  0.015969 -0.109148  0.001496 -0.008658  0.027737  0.024938   \n",
       "card1           0.003456  0.004068 -0.092662  0.020058 -0.000179  0.004999   \n",
       "card2           1.000000  0.025094  0.030027  0.030028 -0.022354 -0.014372   \n",
       "...                  ...       ...       ...       ...       ...       ...   \n",
       "V317            0.031910 -0.016395 -0.093664  0.014347 -0.003121  0.019272   \n",
       "V318            0.032666 -0.014966 -0.098958  0.015853  0.001599  0.014299   \n",
       "V319            0.015716 -0.014116 -0.018457  0.004619  0.003748  0.006956   \n",
       "V320            0.030406 -0.023520 -0.066935  0.010030  0.004369  0.013284   \n",
       "V321            0.025467 -0.019310 -0.050230  0.008866  0.004787  0.011604   \n",
       "\n",
       "                ...      V312      V313      V314      V315      V316  \\\n",
       "TransactionID   ...  0.038697  0.029072  0.042493  0.028880  0.057764   \n",
       "TransactionDT   ...  0.038928  0.028642  0.042564  0.028242  0.060126   \n",
       "TransactionAmt  ...  0.103422  0.188066  0.145969  0.174331  0.013932   \n",
       "card1           ...  0.005822  0.002300  0.012435  0.000875  0.045871   \n",
       "card2           ...  0.001238 -0.000363  0.004628  0.001120  0.029266   \n",
       "...             ...       ...       ...       ...       ...       ...   \n",
       "V317            ...  0.222431  0.048310  0.186796  0.046652  0.909175   \n",
       "V318            ...  0.231721  0.054354  0.195217  0.050700  0.939396   \n",
       "V319            ...  0.052643  0.036706  0.048612  0.030407  0.135677   \n",
       "V320            ...  0.195654  0.065002  0.163226  0.062674  0.550614   \n",
       "V321            ...  0.140904  0.055400  0.116507  0.051259  0.363770   \n",
       "\n",
       "                    V317      V318      V319      V320      V321  \n",
       "TransactionID   0.056432  0.062696  0.017587  0.052934  0.039374  \n",
       "TransactionDT   0.058749  0.065319  0.018302  0.054955  0.040879  \n",
       "TransactionAmt  0.010876  0.013933  0.127611  0.102201  0.119556  \n",
       "card1           0.050707  0.051874  0.009020  0.036245  0.025729  \n",
       "card2           0.031910  0.032666  0.015716  0.030406  0.025467  \n",
       "...                  ...       ...       ...       ...       ...  \n",
       "V317            1.000000  0.968438  0.132213  0.590630  0.378573  \n",
       "V318            0.968438  1.000000  0.144186  0.617874  0.408474  \n",
       "V319            0.132213  0.144186  1.000000  0.788243  0.920414  \n",
       "V320            0.590630  0.617874  0.788243  1.000000  0.938065  \n",
       "V321            0.378573  0.408474  0.920414  0.938065  1.000000  \n",
       "\n",
       "[212 rows x 212 columns]"
      ]
     },
     "execution_count": 13,
     "metadata": {},
     "output_type": "execute_result"
    }
   ],
   "source": [
    "#Ahora hacemos un analisis de correlacion entre las variables de tr_train_2 \n",
    "#Primero vamos a filtrar las columnas numericas y sin incluir isFraud\n",
    "tr_train_2_num_corr = tr_train_2_num.drop(columns=['isFraud'])\n",
    "#Ahora vamos a ver la correlacion entre las variables\n",
    "tr_train_2_num_corr.corr()"
   ]
  },
  {
   "cell_type": "code",
   "execution_count": 14,
   "metadata": {},
   "outputs": [],
   "source": [
    "matriz_correlacion = tr_train_2_num_corr.corr()"
   ]
  },
  {
   "cell_type": "code",
   "execution_count": 15,
   "metadata": {},
   "outputs": [],
   "source": [
    "#Quiero contar la cantidad de nan o infs en matriz_correlacion\n",
    "np.isnan(matriz_correlacion).sum().sum()\n",
    "#Remplazar los nan con 0 en matriz_correlacion para poder usar VIF\n",
    "matriz_correlacion = matriz_correlacion.fillna(0)"
   ]
  },
  {
   "cell_type": "code",
   "execution_count": 16,
   "metadata": {},
   "outputs": [
    {
     "data": {
      "text/html": [
       "<div>\n",
       "<style scoped>\n",
       "    .dataframe tbody tr th:only-of-type {\n",
       "        vertical-align: middle;\n",
       "    }\n",
       "\n",
       "    .dataframe tbody tr th {\n",
       "        vertical-align: top;\n",
       "    }\n",
       "\n",
       "    .dataframe thead th {\n",
       "        text-align: right;\n",
       "    }\n",
       "</style>\n",
       "<table border=\"1\" class=\"dataframe\">\n",
       "  <thead>\n",
       "    <tr style=\"text-align: right;\">\n",
       "      <th></th>\n",
       "      <th>variables</th>\n",
       "      <th>VIF</th>\n",
       "    </tr>\n",
       "  </thead>\n",
       "  <tbody>\n",
       "    <tr>\n",
       "      <th>165</th>\n",
       "      <td>V134</td>\n",
       "      <td>6.042497e+09</td>\n",
       "    </tr>\n",
       "    <tr>\n",
       "      <th>208</th>\n",
       "      <td>V318</td>\n",
       "      <td>3.898242e+09</td>\n",
       "    </tr>\n",
       "    <tr>\n",
       "      <th>163</th>\n",
       "      <td>V132</td>\n",
       "      <td>3.861261e+09</td>\n",
       "    </tr>\n",
       "    <tr>\n",
       "      <th>206</th>\n",
       "      <td>V316</td>\n",
       "      <td>2.975545e+09</td>\n",
       "    </tr>\n",
       "    <tr>\n",
       "      <th>196</th>\n",
       "      <td>V306</td>\n",
       "      <td>2.564640e+09</td>\n",
       "    </tr>\n",
       "  </tbody>\n",
       "</table>\n",
       "</div>"
      ],
      "text/plain": [
       "    variables           VIF\n",
       "165      V134  6.042497e+09\n",
       "208      V318  3.898242e+09\n",
       "163      V132  3.861261e+09\n",
       "206      V316  2.975545e+09\n",
       "196      V306  2.564640e+09"
      ]
     },
     "execution_count": 16,
     "metadata": {},
     "output_type": "execute_result"
    }
   ],
   "source": [
    "#Vamos a realizar el calculo de VIF para cada variable\n",
    "#Primero vamos a crear un dataframe con las variables y su VIF\n",
    "vif = pd.DataFrame()\n",
    "vif[\"variables\"] = matriz_correlacion.columns\n",
    "#Ahora calculamos el VIF para cada variable\n",
    "vif[\"VIF\"] = [variance_inflation_factor(matriz_correlacion.values, i) for i in range(matriz_correlacion.shape[1])]\n",
    "#Ahora revisamos si la mas alta es mayor a 5\n",
    "vif.sort_values(by='VIF', ascending=False).head(5)"
   ]
  },
  {
   "cell_type": "code",
   "execution_count": 17,
   "metadata": {},
   "outputs": [
    {
     "data": {
      "text/plain": [
       "211"
      ]
     },
     "execution_count": 17,
     "metadata": {},
     "output_type": "execute_result"
    }
   ],
   "source": [
    "#Vamos a contar cuantas variables tienen VIF mayor a 5\n",
    "vif[vif['VIF'] > 5].shape[0]"
   ]
  },
  {
   "cell_type": "markdown",
   "metadata": {},
   "source": [
    "Al observar que el VIF es tan grande en todas las variables, se puede asumir que debido a la gran cantidad de variables y sus valores de correlacion, es mejor manualmente revisar las correlaciones y hacer una filtracion mas manual con fines de continuar el estudio."
   ]
  },
  {
   "cell_type": "code",
   "execution_count": 18,
   "metadata": {},
   "outputs": [],
   "source": [
    "#Vamos a mirar el par de columnas con correlacion arriba de 0.95\n",
    "#Vamos a crear una lista con las columnas que tienen correlacion arriba de 0.95\n",
    "columnas_correlacion = []\n",
    "columnas_primera = []\n",
    "for i in range(len(matriz_correlacion.columns)):\n",
    "    for j in range(i):\n",
    "        if abs(matriz_correlacion.iloc[i, j]) > 0.95:\n",
    "            columna1 = matriz_correlacion.columns[i]\n",
    "            columna2 = matriz_correlacion.columns[j]\n",
    "            columna = str(columna1) + ' - ' + str(columna2)\n",
    "            columnas_correlacion.append(columna)\n",
    "            columnas_primera.append(columna1)"
   ]
  },
  {
   "cell_type": "code",
   "execution_count": 19,
   "metadata": {},
   "outputs": [
    {
     "data": {
      "text/plain": [
       "184"
      ]
     },
     "execution_count": 19,
     "metadata": {},
     "output_type": "execute_result"
    }
   ],
   "source": [
    "#Vamos a ver el tamaño de la lista\n",
    "len(columnas_correlacion)"
   ]
  },
  {
   "cell_type": "code",
   "execution_count": 20,
   "metadata": {},
   "outputs": [
    {
     "data": {
      "text/plain": [
       "[('V318', 13),\n",
       " ('V308', 11),\n",
       " ('V295', 9),\n",
       " ('V280', 8),\n",
       " ('V134', 7),\n",
       " ('V316', 7),\n",
       " ('C11', 6),\n",
       " ('V133', 6),\n",
       " ('V306', 6),\n",
       " ('V317', 6),\n",
       " ('C10', 5),\n",
       " ('V128', 5),\n",
       " ('V293', 5),\n",
       " ('V307', 5),\n",
       " ('C8', 4),\n",
       " ('V127', 4),\n",
       " ('V279', 4),\n",
       " ('C6', 3),\n",
       " ('C12', 3),\n",
       " ('C14', 3),\n",
       " ('V84', 3),\n",
       " ('V92', 3),\n",
       " ('V94', 3),\n",
       " ('V103', 3),\n",
       " ('V132', 3),\n",
       " ('V299', 3),\n",
       " ('C4', 2),\n",
       " ('V50', 2),\n",
       " ('V71', 2),\n",
       " ('V102', 2),\n",
       " ('V126', 2),\n",
       " ('V298', 2),\n",
       " ('TransactionDT', 1),\n",
       " ('C2', 1),\n",
       " ('D2', 1),\n",
       " ('V11', 1),\n",
       " ('V16', 1),\n",
       " ('V18', 1),\n",
       " ('V21', 1),\n",
       " ('V22', 1),\n",
       " ('V28', 1),\n",
       " ('V30', 1),\n",
       " ('V32', 1),\n",
       " ('V33', 1),\n",
       " ('V34', 1),\n",
       " ('V43', 1),\n",
       " ('V49', 1),\n",
       " ('V52', 1),\n",
       " ('V57', 1),\n",
       " ('V58', 1),\n",
       " ('V60', 1),\n",
       " ('V63', 1),\n",
       " ('V70', 1),\n",
       " ('V72', 1),\n",
       " ('V74', 1),\n",
       " ('V81', 1),\n",
       " ('V88', 1),\n",
       " ('V89', 1),\n",
       " ('V91', 1),\n",
       " ('V93', 1),\n",
       " ('V97', 1),\n",
       " ('V101', 1),\n",
       " ('V106', 1),\n",
       " ('V292', 1),\n",
       " ('V296', 1),\n",
       " ('V304', 1)]"
      ]
     },
     "execution_count": 20,
     "metadata": {},
     "output_type": "execute_result"
    }
   ],
   "source": [
    "#Hay 183 pares, vamos a revisar las variables mas repetidas en los pares\n",
    "#Vamos a contar las repeticiones de cada valor unico en columnas_primera\n",
    "from collections import Counter\n",
    "Counter(columnas_primera)\n",
    "#Ordenamos de mayor a menor\n",
    "Counter(columnas_primera).most_common()"
   ]
  },
  {
   "cell_type": "code",
   "execution_count": 21,
   "metadata": {},
   "outputs": [],
   "source": [
    "#Vamos a crear una lista con las columnas que vamos a eliminar, todas las que tengan mas de 3 repeticiones\n",
    "columnas_eliminar = []\n",
    "for i in range(len(Counter(columnas_primera).most_common())):\n",
    "    if Counter(columnas_primera).most_common()[i][1] > 3:\n",
    "        columnas_eliminar.append(Counter(columnas_primera).most_common()[i][0])"
   ]
  },
  {
   "cell_type": "code",
   "execution_count": 22,
   "metadata": {},
   "outputs": [
    {
     "data": {
      "text/plain": [
       "['V318',\n",
       " 'V308',\n",
       " 'V295',\n",
       " 'V280',\n",
       " 'V134',\n",
       " 'V316',\n",
       " 'C11',\n",
       " 'V133',\n",
       " 'V306',\n",
       " 'V317',\n",
       " 'C10',\n",
       " 'V128',\n",
       " 'V293',\n",
       " 'V307',\n",
       " 'C8',\n",
       " 'V127',\n",
       " 'V279']"
      ]
     },
     "execution_count": 22,
     "metadata": {},
     "output_type": "execute_result"
    }
   ],
   "source": [
    "columnas_eliminar"
   ]
  },
  {
   "cell_type": "code",
   "execution_count": 23,
   "metadata": {},
   "outputs": [
    {
     "data": {
      "text/plain": [
       "['ProductCD',\n",
       " 'card4',\n",
       " 'card6',\n",
       " 'P_emaildomain',\n",
       " 'M1',\n",
       " 'M2',\n",
       " 'M3',\n",
       " 'M4',\n",
       " 'M5',\n",
       " 'M6',\n",
       " 'M7',\n",
       " 'M8',\n",
       " 'M9']"
      ]
     },
     "execution_count": 23,
     "metadata": {},
     "output_type": "execute_result"
    }
   ],
   "source": [
    "#Vamos a agregar las columnas que no sean numericas a la lista de columnas a eliminar\n",
    "#Miremos que columnas no tienen type float o int\n",
    "no_numericas = list(tr_train_2.select_dtypes(exclude=['float64','int64']).columns)\n",
    "no_numericas"
   ]
  },
  {
   "cell_type": "markdown",
   "metadata": {},
   "source": [
    "Esta decision se tomo debido a un error durante el proceso del Pipeline, usando OneHotEncoding para estas variables. No era posible realizarlo implementado en un GridSearch y por motivos del examen se decidio continuar de esta manera y analizar los resultados obtenidos asi. Dado el caso que no sean buenos se visita retomarlos. "
   ]
  },
  {
   "cell_type": "code",
   "execution_count": 24,
   "metadata": {},
   "outputs": [],
   "source": [
    "#Agregamos no_numericas a columnas_eliminar\n",
    "columnas_eliminar = columnas_eliminar + no_numericas"
   ]
  },
  {
   "cell_type": "code",
   "execution_count": 25,
   "metadata": {},
   "outputs": [],
   "source": [
    "#Eliminamos las columnas de tr_train_2 y tr_test_2\n",
    "tr_train_2 = tr_train_2.drop(columns=columnas_eliminar)\n",
    "tr_test_2 = tr_test_2.drop(columns=columnas_eliminar)"
   ]
  },
  {
   "cell_type": "code",
   "execution_count": 26,
   "metadata": {},
   "outputs": [
    {
     "data": {
      "text/plain": [
       "(378060, 196)"
      ]
     },
     "execution_count": 26,
     "metadata": {},
     "output_type": "execute_result"
    }
   ],
   "source": [
    "tr_train_2.shape"
   ]
  },
  {
   "cell_type": "code",
   "execution_count": 27,
   "metadata": {},
   "outputs": [
    {
     "data": {
      "text/plain": [
       "(23668, 196)"
      ]
     },
     "execution_count": 27,
     "metadata": {},
     "output_type": "execute_result"
    }
   ],
   "source": [
    "tr_test_2.shape"
   ]
  },
  {
   "cell_type": "markdown",
   "metadata": {},
   "source": [
    "Con estos datos vamos a generar nuestros modelos. "
   ]
  },
  {
   "cell_type": "code",
   "execution_count": 33,
   "metadata": {},
   "outputs": [
    {
     "data": {
      "text/html": [
       "<div>\n",
       "<style scoped>\n",
       "    .dataframe tbody tr th:only-of-type {\n",
       "        vertical-align: middle;\n",
       "    }\n",
       "\n",
       "    .dataframe tbody tr th {\n",
       "        vertical-align: top;\n",
       "    }\n",
       "\n",
       "    .dataframe thead th {\n",
       "        text-align: right;\n",
       "    }\n",
       "</style>\n",
       "<table border=\"1\" class=\"dataframe\">\n",
       "  <thead>\n",
       "    <tr style=\"text-align: right;\">\n",
       "      <th></th>\n",
       "      <th>TransactionID</th>\n",
       "      <th>isFraud</th>\n",
       "      <th>TransactionDT</th>\n",
       "      <th>TransactionAmt</th>\n",
       "      <th>card1</th>\n",
       "      <th>card2</th>\n",
       "      <th>card3</th>\n",
       "      <th>card5</th>\n",
       "      <th>addr1</th>\n",
       "      <th>addr2</th>\n",
       "      <th>...</th>\n",
       "      <th>V309</th>\n",
       "      <th>V310</th>\n",
       "      <th>V311</th>\n",
       "      <th>V312</th>\n",
       "      <th>V313</th>\n",
       "      <th>V314</th>\n",
       "      <th>V315</th>\n",
       "      <th>V319</th>\n",
       "      <th>V320</th>\n",
       "      <th>V321</th>\n",
       "    </tr>\n",
       "  </thead>\n",
       "  <tbody>\n",
       "    <tr>\n",
       "      <th>40809</th>\n",
       "      <td>3115448.0</td>\n",
       "      <td>0.0</td>\n",
       "      <td>2562600.0</td>\n",
       "      <td>107.95</td>\n",
       "      <td>6530.0</td>\n",
       "      <td>206.0</td>\n",
       "      <td>150.0</td>\n",
       "      <td>166.0</td>\n",
       "      <td>485.0</td>\n",
       "      <td>87.0</td>\n",
       "      <td>...</td>\n",
       "      <td>0.0</td>\n",
       "      <td>500.799988</td>\n",
       "      <td>0.0</td>\n",
       "      <td>0.000000</td>\n",
       "      <td>0.0</td>\n",
       "      <td>0.000000</td>\n",
       "      <td>0.000000</td>\n",
       "      <td>0.0</td>\n",
       "      <td>0.0</td>\n",
       "      <td>0.0</td>\n",
       "    </tr>\n",
       "    <tr>\n",
       "      <th>285886</th>\n",
       "      <td>3298993.0</td>\n",
       "      <td>0.0</td>\n",
       "      <td>7766224.0</td>\n",
       "      <td>554.00</td>\n",
       "      <td>6394.0</td>\n",
       "      <td>225.0</td>\n",
       "      <td>150.0</td>\n",
       "      <td>224.0</td>\n",
       "      <td>203.0</td>\n",
       "      <td>87.0</td>\n",
       "      <td>...</td>\n",
       "      <td>0.0</td>\n",
       "      <td>0.000000</td>\n",
       "      <td>0.0</td>\n",
       "      <td>0.000000</td>\n",
       "      <td>0.0</td>\n",
       "      <td>0.000000</td>\n",
       "      <td>0.000000</td>\n",
       "      <td>0.0</td>\n",
       "      <td>0.0</td>\n",
       "      <td>0.0</td>\n",
       "    </tr>\n",
       "    <tr>\n",
       "      <th>104256</th>\n",
       "      <td>3055194.0</td>\n",
       "      <td>0.0</td>\n",
       "      <td>1542937.0</td>\n",
       "      <td>20.00</td>\n",
       "      <td>11275.0</td>\n",
       "      <td>420.0</td>\n",
       "      <td>150.0</td>\n",
       "      <td>195.0</td>\n",
       "      <td>315.0</td>\n",
       "      <td>87.0</td>\n",
       "      <td>...</td>\n",
       "      <td>0.0</td>\n",
       "      <td>65.000000</td>\n",
       "      <td>0.0</td>\n",
       "      <td>0.000000</td>\n",
       "      <td>50.0</td>\n",
       "      <td>65.000000</td>\n",
       "      <td>65.000000</td>\n",
       "      <td>0.0</td>\n",
       "      <td>0.0</td>\n",
       "      <td>0.0</td>\n",
       "    </tr>\n",
       "    <tr>\n",
       "      <th>196382</th>\n",
       "      <td>3311349.0</td>\n",
       "      <td>0.0</td>\n",
       "      <td>8020102.0</td>\n",
       "      <td>19.50</td>\n",
       "      <td>7919.0</td>\n",
       "      <td>194.0</td>\n",
       "      <td>150.0</td>\n",
       "      <td>166.0</td>\n",
       "      <td>272.0</td>\n",
       "      <td>87.0</td>\n",
       "      <td>...</td>\n",
       "      <td>0.0</td>\n",
       "      <td>0.000000</td>\n",
       "      <td>0.0</td>\n",
       "      <td>0.000000</td>\n",
       "      <td>0.0</td>\n",
       "      <td>0.000000</td>\n",
       "      <td>0.000000</td>\n",
       "      <td>0.0</td>\n",
       "      <td>0.0</td>\n",
       "      <td>0.0</td>\n",
       "    </tr>\n",
       "    <tr>\n",
       "      <th>175534</th>\n",
       "      <td>3541183.0</td>\n",
       "      <td>0.0</td>\n",
       "      <td>14657461.0</td>\n",
       "      <td>47.95</td>\n",
       "      <td>6550.0</td>\n",
       "      <td>361.0</td>\n",
       "      <td>150.0</td>\n",
       "      <td>226.0</td>\n",
       "      <td>184.0</td>\n",
       "      <td>87.0</td>\n",
       "      <td>...</td>\n",
       "      <td>0.0</td>\n",
       "      <td>73.900002</td>\n",
       "      <td>0.0</td>\n",
       "      <td>25.950001</td>\n",
       "      <td>0.0</td>\n",
       "      <td>73.900002</td>\n",
       "      <td>47.950001</td>\n",
       "      <td>0.0</td>\n",
       "      <td>0.0</td>\n",
       "      <td>0.0</td>\n",
       "    </tr>\n",
       "  </tbody>\n",
       "</table>\n",
       "<p>5 rows × 196 columns</p>\n",
       "</div>"
      ],
      "text/plain": [
       "        TransactionID  isFraud  TransactionDT  TransactionAmt    card1  card2  \\\n",
       "40809       3115448.0      0.0      2562600.0          107.95   6530.0  206.0   \n",
       "285886      3298993.0      0.0      7766224.0          554.00   6394.0  225.0   \n",
       "104256      3055194.0      0.0      1542937.0           20.00  11275.0  420.0   \n",
       "196382      3311349.0      0.0      8020102.0           19.50   7919.0  194.0   \n",
       "175534      3541183.0      0.0     14657461.0           47.95   6550.0  361.0   \n",
       "\n",
       "        card3  card5  addr1  addr2  ...  V309        V310  V311       V312  \\\n",
       "40809   150.0  166.0  485.0   87.0  ...   0.0  500.799988   0.0   0.000000   \n",
       "285886  150.0  224.0  203.0   87.0  ...   0.0    0.000000   0.0   0.000000   \n",
       "104256  150.0  195.0  315.0   87.0  ...   0.0   65.000000   0.0   0.000000   \n",
       "196382  150.0  166.0  272.0   87.0  ...   0.0    0.000000   0.0   0.000000   \n",
       "175534  150.0  226.0  184.0   87.0  ...   0.0   73.900002   0.0  25.950001   \n",
       "\n",
       "        V313       V314       V315  V319  V320  V321  \n",
       "40809    0.0   0.000000   0.000000   0.0   0.0   0.0  \n",
       "285886   0.0   0.000000   0.000000   0.0   0.0   0.0  \n",
       "104256  50.0  65.000000  65.000000   0.0   0.0   0.0  \n",
       "196382   0.0   0.000000   0.000000   0.0   0.0   0.0  \n",
       "175534   0.0  73.900002  47.950001   0.0   0.0   0.0  \n",
       "\n",
       "[5 rows x 196 columns]"
      ]
     },
     "execution_count": 33,
     "metadata": {},
     "output_type": "execute_result"
    }
   ],
   "source": [
    "tr_train_2.head(5)"
   ]
  },
  {
   "cell_type": "markdown",
   "metadata": {},
   "source": [
    "## Wind Speed"
   ]
  },
  {
   "cell_type": "code",
   "execution_count": 41,
   "metadata": {},
   "outputs": [
    {
     "data": {
      "text/html": [
       "<div>\n",
       "<style scoped>\n",
       "    .dataframe tbody tr th:only-of-type {\n",
       "        vertical-align: middle;\n",
       "    }\n",
       "\n",
       "    .dataframe tbody tr th {\n",
       "        vertical-align: top;\n",
       "    }\n",
       "\n",
       "    .dataframe thead th {\n",
       "        text-align: right;\n",
       "    }\n",
       "</style>\n",
       "<table border=\"1\" class=\"dataframe\">\n",
       "  <thead>\n",
       "    <tr style=\"text-align: right;\">\n",
       "      <th></th>\n",
       "      <th>HORA (UTC)</th>\n",
       "      <th>VENTO, DIREï¿½ï¿½O HORARIA (gr) (ï¿½ (gr))</th>\n",
       "      <th>VENTO, VELOCIDADE HORARIA (m/s)</th>\n",
       "      <th>UMIDADE REL. MAX. NA HORA ANT. (AUT) (%)</th>\n",
       "      <th>UMIDADE REL. MIN. NA HORA ANT. (AUT) (%)</th>\n",
       "      <th>TEMPERATURA Mï¿½XIMA NA HORA ANT. (AUT) (ï¿½C)</th>\n",
       "      <th>TEMPERATURA Mï¿½NIMA NA HORA ANT. (AUT) (ï¿½C)</th>\n",
       "      <th>UMIDADE RELATIVA DO AR, HORARIA (%)</th>\n",
       "      <th>PRESSAO ATMOSFERICA AO NIVEL DA ESTACAO, HORARIA (mB)</th>\n",
       "      <th>PRECIPITAï¿½ï¿½O TOTAL, HORï¿½RIO (mm)</th>\n",
       "      <th>VENTO, RAJADA MAXIMA (m/s)</th>\n",
       "      <th>PRESSï¿½O ATMOSFERICA MAX.NA HORA ANT. (AUT) (mB)</th>\n",
       "      <th>PRESSï¿½O ATMOSFERICA MIN. NA HORA ANT. (AUT) (mB)</th>\n",
       "    </tr>\n",
       "  </thead>\n",
       "  <tbody>\n",
       "    <tr>\n",
       "      <th>0</th>\n",
       "      <td>12:00</td>\n",
       "      <td>0.809017</td>\n",
       "      <td>1.8</td>\n",
       "      <td>69.0</td>\n",
       "      <td>60.0</td>\n",
       "      <td>22.6</td>\n",
       "      <td>20.7</td>\n",
       "      <td>61.0</td>\n",
       "      <td>888.2</td>\n",
       "      <td>0.0</td>\n",
       "      <td>3.8</td>\n",
       "      <td>888.2</td>\n",
       "      <td>887.7</td>\n",
       "    </tr>\n",
       "    <tr>\n",
       "      <th>1</th>\n",
       "      <td>13:00</td>\n",
       "      <td>0.965926</td>\n",
       "      <td>2.7</td>\n",
       "      <td>62.0</td>\n",
       "      <td>55.0</td>\n",
       "      <td>24.2</td>\n",
       "      <td>22.5</td>\n",
       "      <td>55.0</td>\n",
       "      <td>888.4</td>\n",
       "      <td>0.0</td>\n",
       "      <td>4.7</td>\n",
       "      <td>888.4</td>\n",
       "      <td>888.2</td>\n",
       "    </tr>\n",
       "    <tr>\n",
       "      <th>2</th>\n",
       "      <td>14:00</td>\n",
       "      <td>0.891007</td>\n",
       "      <td>2.0</td>\n",
       "      <td>56.0</td>\n",
       "      <td>50.0</td>\n",
       "      <td>25.5</td>\n",
       "      <td>24.3</td>\n",
       "      <td>51.0</td>\n",
       "      <td>888.1</td>\n",
       "      <td>0.0</td>\n",
       "      <td>4.9</td>\n",
       "      <td>888.4</td>\n",
       "      <td>888.1</td>\n",
       "    </tr>\n",
       "    <tr>\n",
       "      <th>3</th>\n",
       "      <td>15:00</td>\n",
       "      <td>0.848048</td>\n",
       "      <td>2.5</td>\n",
       "      <td>52.0</td>\n",
       "      <td>44.0</td>\n",
       "      <td>27.4</td>\n",
       "      <td>25.0</td>\n",
       "      <td>44.0</td>\n",
       "      <td>887.4</td>\n",
       "      <td>0.0</td>\n",
       "      <td>5.8</td>\n",
       "      <td>888.1</td>\n",
       "      <td>887.4</td>\n",
       "    </tr>\n",
       "    <tr>\n",
       "      <th>4</th>\n",
       "      <td>16:00</td>\n",
       "      <td>0.224951</td>\n",
       "      <td>2.4</td>\n",
       "      <td>50.0</td>\n",
       "      <td>43.0</td>\n",
       "      <td>27.1</td>\n",
       "      <td>25.5</td>\n",
       "      <td>46.0</td>\n",
       "      <td>886.5</td>\n",
       "      <td>0.0</td>\n",
       "      <td>5.8</td>\n",
       "      <td>887.4</td>\n",
       "      <td>886.5</td>\n",
       "    </tr>\n",
       "  </tbody>\n",
       "</table>\n",
       "</div>"
      ],
      "text/plain": [
       "  HORA (UTC)  VENTO, DIREï¿½ï¿½O HORARIA (gr) (ï¿½ (gr))  \\\n",
       "0      12:00                                    0.809017   \n",
       "1      13:00                                    0.965926   \n",
       "2      14:00                                    0.891007   \n",
       "3      15:00                                    0.848048   \n",
       "4      16:00                                    0.224951   \n",
       "\n",
       "   VENTO, VELOCIDADE HORARIA (m/s)  UMIDADE REL. MAX. NA HORA ANT. (AUT) (%)  \\\n",
       "0                              1.8                                      69.0   \n",
       "1                              2.7                                      62.0   \n",
       "2                              2.0                                      56.0   \n",
       "3                              2.5                                      52.0   \n",
       "4                              2.4                                      50.0   \n",
       "\n",
       "   UMIDADE REL. MIN. NA HORA ANT. (AUT) (%)  \\\n",
       "0                                      60.0   \n",
       "1                                      55.0   \n",
       "2                                      50.0   \n",
       "3                                      44.0   \n",
       "4                                      43.0   \n",
       "\n",
       "   TEMPERATURA Mï¿½XIMA NA HORA ANT. (AUT) (ï¿½C)  \\\n",
       "0                                            22.6   \n",
       "1                                            24.2   \n",
       "2                                            25.5   \n",
       "3                                            27.4   \n",
       "4                                            27.1   \n",
       "\n",
       "   TEMPERATURA Mï¿½NIMA NA HORA ANT. (AUT) (ï¿½C)  \\\n",
       "0                                            20.7   \n",
       "1                                            22.5   \n",
       "2                                            24.3   \n",
       "3                                            25.0   \n",
       "4                                            25.5   \n",
       "\n",
       "   UMIDADE RELATIVA DO AR, HORARIA (%)  \\\n",
       "0                                 61.0   \n",
       "1                                 55.0   \n",
       "2                                 51.0   \n",
       "3                                 44.0   \n",
       "4                                 46.0   \n",
       "\n",
       "   PRESSAO ATMOSFERICA AO NIVEL DA ESTACAO, HORARIA (mB)  \\\n",
       "0                                              888.2       \n",
       "1                                              888.4       \n",
       "2                                              888.1       \n",
       "3                                              887.4       \n",
       "4                                              886.5       \n",
       "\n",
       "   PRECIPITAï¿½ï¿½O TOTAL, HORï¿½RIO (mm)  VENTO, RAJADA MAXIMA (m/s)  \\\n",
       "0                                     0.0                         3.8   \n",
       "1                                     0.0                         4.7   \n",
       "2                                     0.0                         4.9   \n",
       "3                                     0.0                         5.8   \n",
       "4                                     0.0                         5.8   \n",
       "\n",
       "   PRESSï¿½O ATMOSFERICA MAX.NA HORA ANT. (AUT) (mB)  \\\n",
       "0                                              888.2   \n",
       "1                                              888.4   \n",
       "2                                              888.4   \n",
       "3                                              888.1   \n",
       "4                                              887.4   \n",
       "\n",
       "   PRESSï¿½O ATMOSFERICA MIN. NA HORA ANT. (AUT) (mB)  \n",
       "0                                              887.7   \n",
       "1                                              888.2   \n",
       "2                                              888.1   \n",
       "3                                              887.4   \n",
       "4                                              886.5   "
      ]
     },
     "execution_count": 41,
     "metadata": {},
     "output_type": "execute_result"
    }
   ],
   "source": [
    "#Vamos a leer los datos para wind speed\n",
    "train_wind = pd.read_csv(\"data_treino_dv_df_2000_2010.csv\")\n",
    "test_wind = pd.read_csv(\"data_teste_dv_df_2011.csv\")\n",
    "\n",
    "#Vemos las primeras 5 filas de train_wind\n",
    "train_wind.head(5)"
   ]
  },
  {
   "cell_type": "code",
   "execution_count": 42,
   "metadata": {},
   "outputs": [
    {
     "data": {
      "text/plain": [
       "(87693, 13)"
      ]
     },
     "execution_count": 42,
     "metadata": {},
     "output_type": "execute_result"
    }
   ],
   "source": [
    "#Vemos la cantidad de observaciones que tenemos\n",
    "train_wind.shape"
   ]
  },
  {
   "cell_type": "code",
   "execution_count": 50,
   "metadata": {},
   "outputs": [],
   "source": [
    "#Vamos a cambiar el nombre de las columnas para que sean mas faciles de usar\n",
    "#Hora se queda igual, vamos a cambiar las demas\n",
    "#La segunda pongamosle Direccion\n",
    "#La tercera pongamosle Velocidad\n",
    "#La cuarta pongamosle Humedad Min\n",
    "#La quinta pongamosle Humedad Max\n",
    "#La sexta pongamosle Temperatura Max\n",
    "#La septima pongamosle Temperatura Min\n",
    "#La octava pongamosle Humedad Relativa\n",
    "#La novena pongamosle Presion Atmosferica\n",
    "#La decima pongamosle Precipitacion\n",
    "#La decima primera pongamosle Rajada Maxima\n",
    "#La decima segunda pongamosle Presion Maxima\n",
    "#La decima tercera pongamosle Presion Minima\n",
    "#Ejecutamos cambios en una copia\n",
    "train_wind_2 = train_wind.copy()\n",
    "train_wind_2.columns = ['Hora', 'Direccion', 'Velocidad', 'Humedad Min', 'Humedad Max', 'Temperatura Max', 'Temperatura Min', 'Humedad Relativa', 'Presion Atmosferica', 'Precipitacion', 'Rajada Maxima', 'Presion Maxima', 'Presion Minima']"
   ]
  },
  {
   "cell_type": "code",
   "execution_count": 52,
   "metadata": {},
   "outputs": [
    {
     "data": {
      "text/plain": [
       "Hora                    object\n",
       "Direccion              float64\n",
       "Velocidad              float64\n",
       "Humedad Min            float64\n",
       "Humedad Max            float64\n",
       "Temperatura Max        float64\n",
       "Temperatura Min        float64\n",
       "Humedad Relativa       float64\n",
       "Presion Atmosferica    float64\n",
       "Precipitacion          float64\n",
       "Rajada Maxima          float64\n",
       "Presion Maxima         float64\n",
       "Presion Minima         float64\n",
       "dtype: object"
      ]
     },
     "execution_count": 52,
     "metadata": {},
     "output_type": "execute_result"
    }
   ],
   "source": [
    "#Vemos el tipo de datos que tenemos\n",
    "train_wind_2.dtypes"
   ]
  },
  {
   "cell_type": "code",
   "execution_count": 53,
   "metadata": {},
   "outputs": [
    {
     "data": {
      "text/html": [
       "<div>\n",
       "<style scoped>\n",
       "    .dataframe tbody tr th:only-of-type {\n",
       "        vertical-align: middle;\n",
       "    }\n",
       "\n",
       "    .dataframe tbody tr th {\n",
       "        vertical-align: top;\n",
       "    }\n",
       "\n",
       "    .dataframe thead th {\n",
       "        text-align: right;\n",
       "    }\n",
       "</style>\n",
       "<table border=\"1\" class=\"dataframe\">\n",
       "  <thead>\n",
       "    <tr style=\"text-align: right;\">\n",
       "      <th></th>\n",
       "      <th>Direccion</th>\n",
       "      <th>Velocidad</th>\n",
       "      <th>Humedad Min</th>\n",
       "      <th>Humedad Max</th>\n",
       "      <th>Temperatura Max</th>\n",
       "      <th>Temperatura Min</th>\n",
       "      <th>Humedad Relativa</th>\n",
       "      <th>Presion Atmosferica</th>\n",
       "      <th>Precipitacion</th>\n",
       "      <th>Rajada Maxima</th>\n",
       "      <th>Presion Maxima</th>\n",
       "      <th>Presion Minima</th>\n",
       "    </tr>\n",
       "  </thead>\n",
       "  <tbody>\n",
       "    <tr>\n",
       "      <th>count</th>\n",
       "      <td>87693.000000</td>\n",
       "      <td>87693.000000</td>\n",
       "      <td>87693.000000</td>\n",
       "      <td>87693.000000</td>\n",
       "      <td>87693.000000</td>\n",
       "      <td>87693.000000</td>\n",
       "      <td>87693.000000</td>\n",
       "      <td>87693.000000</td>\n",
       "      <td>87693.000000</td>\n",
       "      <td>87693.000000</td>\n",
       "      <td>87693.000000</td>\n",
       "      <td>87693.000000</td>\n",
       "    </tr>\n",
       "    <tr>\n",
       "      <th>mean</th>\n",
       "      <td>0.405810</td>\n",
       "      <td>2.466192</td>\n",
       "      <td>69.058465</td>\n",
       "      <td>63.176194</td>\n",
       "      <td>21.921264</td>\n",
       "      <td>20.684570</td>\n",
       "      <td>66.146682</td>\n",
       "      <td>887.251925</td>\n",
       "      <td>0.160907</td>\n",
       "      <td>5.161076</td>\n",
       "      <td>887.580724</td>\n",
       "      <td>886.891093</td>\n",
       "    </tr>\n",
       "    <tr>\n",
       "      <th>std</th>\n",
       "      <td>0.686247</td>\n",
       "      <td>1.313968</td>\n",
       "      <td>19.640222</td>\n",
       "      <td>20.166336</td>\n",
       "      <td>3.721386</td>\n",
       "      <td>3.513744</td>\n",
       "      <td>19.992327</td>\n",
       "      <td>4.012404</td>\n",
       "      <td>1.307515</td>\n",
       "      <td>2.311157</td>\n",
       "      <td>3.646750</td>\n",
       "      <td>3.564539</td>\n",
       "    </tr>\n",
       "    <tr>\n",
       "      <th>min</th>\n",
       "      <td>-1.000000</td>\n",
       "      <td>0.000000</td>\n",
       "      <td>12.000000</td>\n",
       "      <td>10.000000</td>\n",
       "      <td>9.200000</td>\n",
       "      <td>8.400000</td>\n",
       "      <td>10.000000</td>\n",
       "      <td>863.400000</td>\n",
       "      <td>0.000000</td>\n",
       "      <td>0.000000</td>\n",
       "      <td>865.300000</td>\n",
       "      <td>862.800000</td>\n",
       "    </tr>\n",
       "    <tr>\n",
       "      <th>25%</th>\n",
       "      <td>-0.156434</td>\n",
       "      <td>1.500000</td>\n",
       "      <td>54.000000</td>\n",
       "      <td>48.000000</td>\n",
       "      <td>19.200000</td>\n",
       "      <td>18.400000</td>\n",
       "      <td>51.000000</td>\n",
       "      <td>885.300000</td>\n",
       "      <td>0.000000</td>\n",
       "      <td>3.400000</td>\n",
       "      <td>885.600000</td>\n",
       "      <td>885.000000</td>\n",
       "    </tr>\n",
       "    <tr>\n",
       "      <th>50%</th>\n",
       "      <td>0.788011</td>\n",
       "      <td>2.400000</td>\n",
       "      <td>72.000000</td>\n",
       "      <td>64.000000</td>\n",
       "      <td>21.400000</td>\n",
       "      <td>20.200000</td>\n",
       "      <td>68.000000</td>\n",
       "      <td>887.200000</td>\n",
       "      <td>0.000000</td>\n",
       "      <td>5.000000</td>\n",
       "      <td>887.500000</td>\n",
       "      <td>886.900000</td>\n",
       "    </tr>\n",
       "    <tr>\n",
       "      <th>75%</th>\n",
       "      <td>0.970296</td>\n",
       "      <td>3.400000</td>\n",
       "      <td>87.000000</td>\n",
       "      <td>80.000000</td>\n",
       "      <td>24.700000</td>\n",
       "      <td>23.100000</td>\n",
       "      <td>84.000000</td>\n",
       "      <td>889.100000</td>\n",
       "      <td>0.000000</td>\n",
       "      <td>6.800000</td>\n",
       "      <td>889.300000</td>\n",
       "      <td>888.800000</td>\n",
       "    </tr>\n",
       "    <tr>\n",
       "      <th>max</th>\n",
       "      <td>1.000000</td>\n",
       "      <td>10.000000</td>\n",
       "      <td>100.000000</td>\n",
       "      <td>98.000000</td>\n",
       "      <td>35.300000</td>\n",
       "      <td>34.400000</td>\n",
       "      <td>99.000000</td>\n",
       "      <td>1023.500000</td>\n",
       "      <td>70.800000</td>\n",
       "      <td>24.300000</td>\n",
       "      <td>913.100000</td>\n",
       "      <td>910.900000</td>\n",
       "    </tr>\n",
       "  </tbody>\n",
       "</table>\n",
       "</div>"
      ],
      "text/plain": [
       "          Direccion     Velocidad   Humedad Min   Humedad Max  \\\n",
       "count  87693.000000  87693.000000  87693.000000  87693.000000   \n",
       "mean       0.405810      2.466192     69.058465     63.176194   \n",
       "std        0.686247      1.313968     19.640222     20.166336   \n",
       "min       -1.000000      0.000000     12.000000     10.000000   \n",
       "25%       -0.156434      1.500000     54.000000     48.000000   \n",
       "50%        0.788011      2.400000     72.000000     64.000000   \n",
       "75%        0.970296      3.400000     87.000000     80.000000   \n",
       "max        1.000000     10.000000    100.000000     98.000000   \n",
       "\n",
       "       Temperatura Max  Temperatura Min  Humedad Relativa  \\\n",
       "count     87693.000000     87693.000000      87693.000000   \n",
       "mean         21.921264        20.684570         66.146682   \n",
       "std           3.721386         3.513744         19.992327   \n",
       "min           9.200000         8.400000         10.000000   \n",
       "25%          19.200000        18.400000         51.000000   \n",
       "50%          21.400000        20.200000         68.000000   \n",
       "75%          24.700000        23.100000         84.000000   \n",
       "max          35.300000        34.400000         99.000000   \n",
       "\n",
       "       Presion Atmosferica  Precipitacion  Rajada Maxima  Presion Maxima  \\\n",
       "count         87693.000000   87693.000000   87693.000000    87693.000000   \n",
       "mean            887.251925       0.160907       5.161076      887.580724   \n",
       "std               4.012404       1.307515       2.311157        3.646750   \n",
       "min             863.400000       0.000000       0.000000      865.300000   \n",
       "25%             885.300000       0.000000       3.400000      885.600000   \n",
       "50%             887.200000       0.000000       5.000000      887.500000   \n",
       "75%             889.100000       0.000000       6.800000      889.300000   \n",
       "max            1023.500000      70.800000      24.300000      913.100000   \n",
       "\n",
       "       Presion Minima  \n",
       "count    87693.000000  \n",
       "mean       886.891093  \n",
       "std          3.564539  \n",
       "min        862.800000  \n",
       "25%        885.000000  \n",
       "50%        886.900000  \n",
       "75%        888.800000  \n",
       "max        910.900000  "
      ]
     },
     "execution_count": 53,
     "metadata": {},
     "output_type": "execute_result"
    }
   ],
   "source": [
    "#Vamos a revisar la media, desviacion estandar, minimo, maximo y cuartiles\n",
    "train_wind_2.describe()"
   ]
  },
  {
   "cell_type": "code",
   "execution_count": 55,
   "metadata": {},
   "outputs": [
    {
     "data": {
      "text/plain": [
       "Hora                   0\n",
       "Direccion              0\n",
       "Velocidad              0\n",
       "Humedad Min            0\n",
       "Humedad Max            0\n",
       "Temperatura Max        0\n",
       "Temperatura Min        0\n",
       "Humedad Relativa       0\n",
       "Presion Atmosferica    0\n",
       "Precipitacion          0\n",
       "Rajada Maxima          0\n",
       "Presion Maxima         0\n",
       "Presion Minima         0\n",
       "dtype: int64"
      ]
     },
     "execution_count": 55,
     "metadata": {},
     "output_type": "execute_result"
    }
   ],
   "source": [
    "#Ahora haremos un conteo de NAs\n",
    "train_wind_2.isnull().sum()"
   ]
  },
  {
   "cell_type": "code",
   "execution_count": 234,
   "metadata": {},
   "outputs": [
    {
     "data": {
      "image/png": "[encoded data removed]",
      "text/plain": [
       "<Figure size 432x288 with 1 Axes>"
      ]
     },
     "metadata": {
      "needs_background": "light"
     },
     "output_type": "display_data"
    }
   ],
   "source": [
    "#La variable respuesta Velocidad, es una variable continua, vamos a ver su distribucion con matplotlib\n",
    "train_wind_2['Velocidad'].plot.hist(bins=100)\n",
    "plt.title('Distribucion de Velocidad', fontsize=20, fontweight='bold')\n",
    "plt.xlabel('Velocidad', fontsize=15)\n",
    "plt.ylabel('Frecuencia', fontsize=15)\n",
    "plt.show()"
   ]
  },
  {
   "cell_type": "code",
   "execution_count": 235,
   "metadata": {},
   "outputs": [
    {
     "data": {
      "image/png": "[encoded data removed]",
      "text/plain": [
       "<Figure size 432x288 with 1 Axes>"
      ]
     },
     "metadata": {
      "needs_background": "light"
     },
     "output_type": "display_data"
    }
   ],
   "source": [
    "#Vamos a hacer el mismo cambio de columnas en test_wind\n",
    "test_wind_2 = test_wind.copy()\n",
    "test_wind_2.columns = ['Hora', 'Direccion', 'Velocidad', 'Humedad Min', 'Humedad Max', 'Temperatura Max', 'Temperatura Min', 'Humedad Relativa', 'Presion Atmosferica', 'Precipitacion', 'Rajada Maxima', 'Presion Maxima', 'Presion Minima']\n",
    "#Ahora vemos la distribucion de la variable respuesta en test_wind_2 con matplotlib\n",
    "test_wind_2['Velocidad'].plot.hist(bins=100)\n",
    "plt.title('Distribucion de Velocidad', fontsize=20, fontweight='bold')\n",
    "plt.xlabel('Velocidad', fontsize=15)\n",
    "plt.ylabel('Frecuencia', fontsize=15)\n",
    "plt.show()"
   ]
  },
  {
   "cell_type": "markdown",
   "metadata": {},
   "source": [
    "Podemos ver que es un comportamiento similar, cambia la magnitud de repeticiones por valor debido a la menor cantidad de observaciones. La gran diferencia es la cantidad de observaciones con velocidad 0, en training hay muchos casos. La velocidad del viento nunca debe ser exactamente 0 entonces se van a asumir como Nans."
   ]
  },
  {
   "cell_type": "code",
   "execution_count": 60,
   "metadata": {},
   "outputs": [
    {
     "data": {
      "text/plain": [
       "2178"
      ]
     },
     "execution_count": 60,
     "metadata": {},
     "output_type": "execute_result"
    }
   ],
   "source": [
    "#Vamos a contar los 0 en la variable Respuesta en train_wind_2\n",
    "#Solo contamos los 0\n",
    "train_wind_2['Velocidad'].value_counts()[0]"
   ]
  },
  {
   "cell_type": "code",
   "execution_count": 61,
   "metadata": {},
   "outputs": [],
   "source": [
    "#Eliminamos las observaciones con 0 de Velocidad en train_wind_2\n",
    "train_wind_2 = train_wind_2[train_wind_2['Velocidad'] != 0]\n",
    "#Reset el index\n",
    "train_wind_2 = train_wind_2.reset_index(drop=True)"
   ]
  },
  {
   "cell_type": "code",
   "execution_count": 236,
   "metadata": {},
   "outputs": [
    {
     "data": {
      "image/png": "[encoded data removed]",
      "text/plain": [
       "<Figure size 432x288 with 1 Axes>"
      ]
     },
     "metadata": {
      "needs_background": "light"
     },
     "output_type": "display_data"
    }
   ],
   "source": [
    "#Ahora vamos a escoger 4 columnas para analizar su comportamiento con la variable respuesta\n",
    "#Direccion, Precipitacion, Presion Atmosferica, Humedad Relativa\n",
    "#Primero vamos a ver la distribucion de Direccion con matplotlib\n",
    "train_wind_2['Direccion'].plot.hist(bins=100)\n",
    "plt.title('Distribucion de Direccion', fontsize=20, fontweight='bold')\n",
    "plt.xlabel('Direccion', fontsize=15)\n",
    "plt.ylabel('Frecuencia', fontsize=15)\n",
    "plt.show()"
   ]
  },
  {
   "cell_type": "markdown",
   "metadata": {},
   "source": [
    "Vemos que mayoria de los datos estan en el extremos derecho, es decir que es posible que nuestra prediccion se vea fuertemente afectada por una direccion del viento y no ambas."
   ]
  },
  {
   "cell_type": "code",
   "execution_count": 237,
   "metadata": {},
   "outputs": [
    {
     "data": {
      "image/png": "[encoded data removed]",
      "text/plain": [
       "<Figure size 432x288 with 1 Axes>"
      ]
     },
     "metadata": {
      "needs_background": "light"
     },
     "output_type": "display_data"
    }
   ],
   "source": [
    "#Ahora vamos a ver la distribucion de Precipitacion con matplotlib\n",
    "train_wind_2['Precipitacion'].plot.hist(bins=100)\n",
    "plt.title('Distribucion de Precipitacion', fontsize=20, fontweight='bold')\n",
    "plt.xlabel('Precipitacion', fontsize=15)\n",
    "plt.ylabel('Frecuencia', fontsize=15)\n",
    "plt.show()"
   ]
  },
  {
   "cell_type": "markdown",
   "metadata": {},
   "source": [
    "La gran mayoria de nuestros datos tienen la misma precipitacion, 0, lo cual nos puede decir que no es algo relevante en este caso para la velocidad del viento."
   ]
  },
  {
   "cell_type": "code",
   "execution_count": 238,
   "metadata": {},
   "outputs": [
    {
     "data": {
      "image/png": "[encoded data removed]",
      "text/plain": [
       "<Figure size 432x288 with 1 Axes>"
      ]
     },
     "metadata": {
      "needs_background": "light"
     },
     "output_type": "display_data"
    }
   ],
   "source": [
    "#Ahora vamos a ver la distribucion de Presion Atmosferica con matplotlib\n",
    "train_wind_2['Presion Atmosferica'].plot.hist(bins=100)\n",
    "plt.title('Distribucion de Presion Atmosferica', fontsize=20, fontweight='bold')\n",
    "plt.xlabel('Presion Atmosferica', fontsize=15)\n",
    "plt.ylabel('Frecuencia', fontsize=15)\n",
    "plt.show()"
   ]
  },
  {
   "cell_type": "markdown",
   "metadata": {},
   "source": [
    "En este caso vemos que es muy parecida a una distribucion normal, lo cual nos puede llevar a pensar que su diversidad en valores puede verse reflejada en nuestras predicciones, veamos como se comporta comparando con la variable respuesta."
   ]
  },
  {
   "cell_type": "code",
   "execution_count": 239,
   "metadata": {},
   "outputs": [
    {
     "data": {
      "image/png": "[encoded data removed]",
      "text/plain": [
       "<Figure size 432x288 with 1 Axes>"
      ]
     },
     "metadata": {
      "needs_background": "light"
     },
     "output_type": "display_data"
    }
   ],
   "source": [
    "#Vamos a ver Presion Atmosferica vs Velocidad con matplotlib\n",
    "plt.scatter(train_wind_2['Presion Atmosferica'], train_wind_2['Velocidad'])\n",
    "plt.title('Presion Atmosferica vs Velocidad', fontsize=20, fontweight='bold')\n",
    "plt.xlabel('Presion Atmosferica', fontsize=15)\n",
    "plt.ylabel('Velocidad', fontsize=15)\n",
    "plt.show()"
   ]
  },
  {
   "cell_type": "markdown",
   "metadata": {},
   "source": [
    "No es posible evidenciar un patron que relacione ambas variables, vemos que hay muchas velocidades para presiones altas y bajar, los pocos puntos extremos a la derecha podrian ser outliers."
   ]
  },
  {
   "cell_type": "code",
   "execution_count": 240,
   "metadata": {},
   "outputs": [
    {
     "data": {
      "image/png": "[encoded data removed]",
      "text/plain": [
       "<Figure size 432x288 with 1 Axes>"
      ]
     },
     "metadata": {
      "needs_background": "light"
     },
     "output_type": "display_data"
    }
   ],
   "source": [
    "#Ahora veamos la distribucion de Humedad Relativa con matplotlib\n",
    "train_wind_2['Humedad Relativa'].plot.hist(bins=100)\n",
    "plt.title('Distribucion de Humedad Relativa', fontsize=20, fontweight='bold')\n",
    "plt.xlabel('Humedad Relativa', fontsize=15)\n",
    "plt.ylabel('Frecuencia', fontsize=15)\n",
    "plt.show()"
   ]
  },
  {
   "cell_type": "markdown",
   "metadata": {},
   "source": [
    "Vemos que esta sesgada a la izquierda relativamente. No se puede hacer ninguna conclusion unicamente viendo esto, veamos con respecto a la velocidad."
   ]
  },
  {
   "cell_type": "code",
   "execution_count": 241,
   "metadata": {},
   "outputs": [
    {
     "data": {
      "image/png": "[encoded data removed]",
      "text/plain": [
       "<Figure size 432x288 with 1 Axes>"
      ]
     },
     "metadata": {
      "needs_background": "light"
     },
     "output_type": "display_data"
    }
   ],
   "source": [
    "#Vamos a ver Humedad Relativa vs Velocidad con matplotlib\n",
    "plt.scatter(train_wind_2['Humedad Relativa'], train_wind_2['Velocidad'])\n",
    "plt.title('Humedad Relativa vs Velocidad', fontsize=20, fontweight='bold')\n",
    "plt.xlabel('Humedad Relativa', fontsize=15)\n",
    "plt.ylabel('Velocidad', fontsize=15)\n",
    "plt.show()"
   ]
  },
  {
   "cell_type": "markdown",
   "metadata": {},
   "source": [
    "Un balance entre todo tipo de respuesta para todo tipo de valor, tampoco podemos ver un patron o alguna indicacion de relacion entre ellas."
   ]
  },
  {
   "cell_type": "code",
   "execution_count": 68,
   "metadata": {},
   "outputs": [
    {
     "data": {
      "text/html": [
       "<div>\n",
       "<style scoped>\n",
       "    .dataframe tbody tr th:only-of-type {\n",
       "        vertical-align: middle;\n",
       "    }\n",
       "\n",
       "    .dataframe tbody tr th {\n",
       "        vertical-align: top;\n",
       "    }\n",
       "\n",
       "    .dataframe thead th {\n",
       "        text-align: right;\n",
       "    }\n",
       "</style>\n",
       "<table border=\"1\" class=\"dataframe\">\n",
       "  <thead>\n",
       "    <tr style=\"text-align: right;\">\n",
       "      <th></th>\n",
       "      <th>Direccion</th>\n",
       "      <th>Humedad Min</th>\n",
       "      <th>Humedad Max</th>\n",
       "      <th>Temperatura Max</th>\n",
       "      <th>Temperatura Min</th>\n",
       "      <th>Humedad Relativa</th>\n",
       "      <th>Presion Atmosferica</th>\n",
       "      <th>Precipitacion</th>\n",
       "      <th>Rajada Maxima</th>\n",
       "      <th>Presion Maxima</th>\n",
       "      <th>Presion Minima</th>\n",
       "    </tr>\n",
       "  </thead>\n",
       "  <tbody>\n",
       "    <tr>\n",
       "      <th>Direccion</th>\n",
       "      <td>1.000000</td>\n",
       "      <td>-0.326667</td>\n",
       "      <td>-0.302374</td>\n",
       "      <td>-0.012953</td>\n",
       "      <td>-0.013646</td>\n",
       "      <td>-0.326705</td>\n",
       "      <td>0.315755</td>\n",
       "      <td>-0.079645</td>\n",
       "      <td>0.146310</td>\n",
       "      <td>0.340376</td>\n",
       "      <td>0.352621</td>\n",
       "    </tr>\n",
       "    <tr>\n",
       "      <th>Humedad Min</th>\n",
       "      <td>-0.326667</td>\n",
       "      <td>1.000000</td>\n",
       "      <td>0.976785</td>\n",
       "      <td>-0.631264</td>\n",
       "      <td>-0.620211</td>\n",
       "      <td>0.984132</td>\n",
       "      <td>-0.198858</td>\n",
       "      <td>0.153376</td>\n",
       "      <td>-0.294332</td>\n",
       "      <td>-0.255968</td>\n",
       "      <td>-0.247689</td>\n",
       "    </tr>\n",
       "    <tr>\n",
       "      <th>Humedad Max</th>\n",
       "      <td>-0.302374</td>\n",
       "      <td>0.976785</td>\n",
       "      <td>1.000000</td>\n",
       "      <td>-0.682356</td>\n",
       "      <td>-0.634072</td>\n",
       "      <td>0.983185</td>\n",
       "      <td>-0.195350</td>\n",
       "      <td>0.121833</td>\n",
       "      <td>-0.323942</td>\n",
       "      <td>-0.257320</td>\n",
       "      <td>-0.240975</td>\n",
       "    </tr>\n",
       "    <tr>\n",
       "      <th>Temperatura Max</th>\n",
       "      <td>-0.012953</td>\n",
       "      <td>-0.631264</td>\n",
       "      <td>-0.682356</td>\n",
       "      <td>1.000000</td>\n",
       "      <td>0.974334</td>\n",
       "      <td>-0.656647</td>\n",
       "      <td>-0.061698</td>\n",
       "      <td>-0.040625</td>\n",
       "      <td>0.360628</td>\n",
       "      <td>-0.009466</td>\n",
       "      <td>-0.044401</td>\n",
       "    </tr>\n",
       "    <tr>\n",
       "      <th>Temperatura Min</th>\n",
       "      <td>-0.013646</td>\n",
       "      <td>-0.620211</td>\n",
       "      <td>-0.634072</td>\n",
       "      <td>0.974334</td>\n",
       "      <td>1.000000</td>\n",
       "      <td>-0.627314</td>\n",
       "      <td>-0.087847</td>\n",
       "      <td>-0.080528</td>\n",
       "      <td>0.326173</td>\n",
       "      <td>-0.043007</td>\n",
       "      <td>-0.068592</td>\n",
       "    </tr>\n",
       "    <tr>\n",
       "      <th>Humedad Relativa</th>\n",
       "      <td>-0.326705</td>\n",
       "      <td>0.984132</td>\n",
       "      <td>0.983185</td>\n",
       "      <td>-0.656647</td>\n",
       "      <td>-0.627314</td>\n",
       "      <td>1.000000</td>\n",
       "      <td>-0.222388</td>\n",
       "      <td>0.158464</td>\n",
       "      <td>-0.310587</td>\n",
       "      <td>-0.285112</td>\n",
       "      <td>-0.272718</td>\n",
       "    </tr>\n",
       "    <tr>\n",
       "      <th>Presion Atmosferica</th>\n",
       "      <td>0.315755</td>\n",
       "      <td>-0.198858</td>\n",
       "      <td>-0.195350</td>\n",
       "      <td>-0.061698</td>\n",
       "      <td>-0.087847</td>\n",
       "      <td>-0.222388</td>\n",
       "      <td>1.000000</td>\n",
       "      <td>-0.074028</td>\n",
       "      <td>0.140169</td>\n",
       "      <td>0.880074</td>\n",
       "      <td>0.884014</td>\n",
       "    </tr>\n",
       "    <tr>\n",
       "      <th>Precipitacion</th>\n",
       "      <td>-0.079645</td>\n",
       "      <td>0.153376</td>\n",
       "      <td>0.121833</td>\n",
       "      <td>-0.040625</td>\n",
       "      <td>-0.080528</td>\n",
       "      <td>0.158464</td>\n",
       "      <td>-0.074028</td>\n",
       "      <td>1.000000</td>\n",
       "      <td>0.124105</td>\n",
       "      <td>-0.066247</td>\n",
       "      <td>-0.085072</td>\n",
       "    </tr>\n",
       "    <tr>\n",
       "      <th>Rajada Maxima</th>\n",
       "      <td>0.146310</td>\n",
       "      <td>-0.294332</td>\n",
       "      <td>-0.323942</td>\n",
       "      <td>0.360628</td>\n",
       "      <td>0.326173</td>\n",
       "      <td>-0.310587</td>\n",
       "      <td>0.140169</td>\n",
       "      <td>0.124105</td>\n",
       "      <td>1.000000</td>\n",
       "      <td>0.187934</td>\n",
       "      <td>0.167328</td>\n",
       "    </tr>\n",
       "    <tr>\n",
       "      <th>Presion Maxima</th>\n",
       "      <td>0.340376</td>\n",
       "      <td>-0.255968</td>\n",
       "      <td>-0.257320</td>\n",
       "      <td>-0.009466</td>\n",
       "      <td>-0.043007</td>\n",
       "      <td>-0.285112</td>\n",
       "      <td>0.880074</td>\n",
       "      <td>-0.066247</td>\n",
       "      <td>0.187934</td>\n",
       "      <td>1.000000</td>\n",
       "      <td>0.964624</td>\n",
       "    </tr>\n",
       "    <tr>\n",
       "      <th>Presion Minima</th>\n",
       "      <td>0.352621</td>\n",
       "      <td>-0.247689</td>\n",
       "      <td>-0.240975</td>\n",
       "      <td>-0.044401</td>\n",
       "      <td>-0.068592</td>\n",
       "      <td>-0.272718</td>\n",
       "      <td>0.884014</td>\n",
       "      <td>-0.085072</td>\n",
       "      <td>0.167328</td>\n",
       "      <td>0.964624</td>\n",
       "      <td>1.000000</td>\n",
       "    </tr>\n",
       "  </tbody>\n",
       "</table>\n",
       "</div>"
      ],
      "text/plain": [
       "                     Direccion  Humedad Min  Humedad Max  Temperatura Max  \\\n",
       "Direccion             1.000000    -0.326667    -0.302374        -0.012953   \n",
       "Humedad Min          -0.326667     1.000000     0.976785        -0.631264   \n",
       "Humedad Max          -0.302374     0.976785     1.000000        -0.682356   \n",
       "Temperatura Max      -0.012953    -0.631264    -0.682356         1.000000   \n",
       "Temperatura Min      -0.013646    -0.620211    -0.634072         0.974334   \n",
       "Humedad Relativa     -0.326705     0.984132     0.983185        -0.656647   \n",
       "Presion Atmosferica   0.315755    -0.198858    -0.195350        -0.061698   \n",
       "Precipitacion        -0.079645     0.153376     0.121833        -0.040625   \n",
       "Rajada Maxima         0.146310    -0.294332    -0.323942         0.360628   \n",
       "Presion Maxima        0.340376    -0.255968    -0.257320        -0.009466   \n",
       "Presion Minima        0.352621    -0.247689    -0.240975        -0.044401   \n",
       "\n",
       "                     Temperatura Min  Humedad Relativa  Presion Atmosferica  \\\n",
       "Direccion                  -0.013646         -0.326705             0.315755   \n",
       "Humedad Min                -0.620211          0.984132            -0.198858   \n",
       "Humedad Max                -0.634072          0.983185            -0.195350   \n",
       "Temperatura Max             0.974334         -0.656647            -0.061698   \n",
       "Temperatura Min             1.000000         -0.627314            -0.087847   \n",
       "Humedad Relativa           -0.627314          1.000000            -0.222388   \n",
       "Presion Atmosferica        -0.087847         -0.222388             1.000000   \n",
       "Precipitacion              -0.080528          0.158464            -0.074028   \n",
       "Rajada Maxima               0.326173         -0.310587             0.140169   \n",
       "Presion Maxima             -0.043007         -0.285112             0.880074   \n",
       "Presion Minima             -0.068592         -0.272718             0.884014   \n",
       "\n",
       "                     Precipitacion  Rajada Maxima  Presion Maxima  \\\n",
       "Direccion                -0.079645       0.146310        0.340376   \n",
       "Humedad Min               0.153376      -0.294332       -0.255968   \n",
       "Humedad Max               0.121833      -0.323942       -0.257320   \n",
       "Temperatura Max          -0.040625       0.360628       -0.009466   \n",
       "Temperatura Min          -0.080528       0.326173       -0.043007   \n",
       "Humedad Relativa          0.158464      -0.310587       -0.285112   \n",
       "Presion Atmosferica      -0.074028       0.140169        0.880074   \n",
       "Precipitacion             1.000000       0.124105       -0.066247   \n",
       "Rajada Maxima             0.124105       1.000000        0.187934   \n",
       "Presion Maxima           -0.066247       0.187934        1.000000   \n",
       "Presion Minima           -0.085072       0.167328        0.964624   \n",
       "\n",
       "                     Presion Minima  \n",
       "Direccion                  0.352621  \n",
       "Humedad Min               -0.247689  \n",
       "Humedad Max               -0.240975  \n",
       "Temperatura Max           -0.044401  \n",
       "Temperatura Min           -0.068592  \n",
       "Humedad Relativa          -0.272718  \n",
       "Presion Atmosferica        0.884014  \n",
       "Precipitacion             -0.085072  \n",
       "Rajada Maxima              0.167328  \n",
       "Presion Maxima             0.964624  \n",
       "Presion Minima             1.000000  "
      ]
     },
     "execution_count": 68,
     "metadata": {},
     "output_type": "execute_result"
    }
   ],
   "source": [
    "#Ahora hagamos un analisis de correlacion entre las variables de train_wind_2 sin incluir la variable respuesta\n",
    "#Primero vamos a filtrar las columnas numericas y sin incluir Velocidad\n",
    "train_wind_2_num = train_wind_2.select_dtypes(include=['float64','int64'])\n",
    "train_wind_2_num_corr = train_wind_2_num.drop(columns=['Velocidad'])\n",
    "#Ahora vamos a ver la correlacion entre las variables\n",
    "wind_corr_matrix = train_wind_2_num_corr.corr()\n",
    "wind_corr_matrix"
   ]
  },
  {
   "cell_type": "code",
   "execution_count": 70,
   "metadata": {},
   "outputs": [],
   "source": [
    "#Vamos a contar la cantidad de nans e infs en wind_corr_matrix\n",
    "np.isnan(wind_corr_matrix).sum().sum()\n",
    "#Remplazar nan con 0s con el fin de usar VIF\n",
    "wind_corr_matrix = wind_corr_matrix.fillna(0)"
   ]
  },
  {
   "cell_type": "code",
   "execution_count": 71,
   "metadata": {},
   "outputs": [
    {
     "data": {
      "text/html": [
       "<div>\n",
       "<style scoped>\n",
       "    .dataframe tbody tr th:only-of-type {\n",
       "        vertical-align: middle;\n",
       "    }\n",
       "\n",
       "    .dataframe tbody tr th {\n",
       "        vertical-align: top;\n",
       "    }\n",
       "\n",
       "    .dataframe thead th {\n",
       "        text-align: right;\n",
       "    }\n",
       "</style>\n",
       "<table border=\"1\" class=\"dataframe\">\n",
       "  <thead>\n",
       "    <tr style=\"text-align: right;\">\n",
       "      <th></th>\n",
       "      <th>variables</th>\n",
       "      <th>VIF</th>\n",
       "    </tr>\n",
       "  </thead>\n",
       "  <tbody>\n",
       "    <tr>\n",
       "      <th>2</th>\n",
       "      <td>Humedad Max</td>\n",
       "      <td>64818.385031</td>\n",
       "    </tr>\n",
       "    <tr>\n",
       "      <th>1</th>\n",
       "      <td>Humedad Min</td>\n",
       "      <td>61427.813095</td>\n",
       "    </tr>\n",
       "    <tr>\n",
       "      <th>3</th>\n",
       "      <td>Temperatura Max</td>\n",
       "      <td>49380.443041</td>\n",
       "    </tr>\n",
       "    <tr>\n",
       "      <th>4</th>\n",
       "      <td>Temperatura Min</td>\n",
       "      <td>39118.395794</td>\n",
       "    </tr>\n",
       "    <tr>\n",
       "      <th>5</th>\n",
       "      <td>Humedad Relativa</td>\n",
       "      <td>16640.302772</td>\n",
       "    </tr>\n",
       "  </tbody>\n",
       "</table>\n",
       "</div>"
      ],
      "text/plain": [
       "          variables           VIF\n",
       "2       Humedad Max  64818.385031\n",
       "1       Humedad Min  61427.813095\n",
       "3   Temperatura Max  49380.443041\n",
       "4   Temperatura Min  39118.395794\n",
       "5  Humedad Relativa  16640.302772"
      ]
     },
     "execution_count": 71,
     "metadata": {},
     "output_type": "execute_result"
    }
   ],
   "source": [
    "#Vamos a realizar el calculo de VIF para cada variable\n",
    "#Primero vamos a crear un dataframe con las variables y su VIF\n",
    "vif = pd.DataFrame()\n",
    "vif[\"variables\"] = wind_corr_matrix.columns\n",
    "#Ahora calculamos el VIF para cada variable\n",
    "vif[\"VIF\"] = [variance_inflation_factor(wind_corr_matrix.values, i) for i in range(wind_corr_matrix.shape[1])]\n",
    "#Ahora revisamos si la mas alta es mayor a 5\n",
    "vif.sort_values(by='VIF', ascending=False).head(5)"
   ]
  },
  {
   "cell_type": "code",
   "execution_count": 73,
   "metadata": {},
   "outputs": [
    {
     "data": {
      "text/plain": [
       "0.9090909090909091"
      ]
     },
     "execution_count": 73,
     "metadata": {},
     "output_type": "execute_result"
    }
   ],
   "source": [
    "#Miramos cuantas columnas tienen un VIF mayor a 5\n",
    "vif[vif['VIF'] > 5].shape[0]\n",
    "#El porcentaje de columnas con VIF mayor a 5\n",
    "vif[vif['VIF'] > 5].shape[0]/vif.shape[0]"
   ]
  },
  {
   "cell_type": "markdown",
   "metadata": {},
   "source": [
    "Al ver esto, es posible un error de calculo y no vale la pena eliminar el 90% de nuestras variables. Mejor llevemos a cabo el analisis de correlacion de otra manera."
   ]
  },
  {
   "cell_type": "code",
   "execution_count": 243,
   "metadata": {},
   "outputs": [
    {
     "data": {
      "image/png": "[encoded data removed]",
      "text/plain": [
       "<Figure size 432x288 with 2 Axes>"
      ]
     },
     "metadata": {
      "needs_background": "light"
     },
     "output_type": "display_data"
    }
   ],
   "source": [
    "#Veamos un heatmap usando px para ver la correlacion entre las variables con matplotlib\n",
    "# Create a figure\n",
    "fig, ax = plt.subplots()\n",
    "\n",
    "# Set the axes labels\n",
    "ax.set_xlabel('Variables')\n",
    "ax.set_ylabel('Variables')\n",
    "\n",
    "# Create the heatmap\n",
    "heatmap = ax.imshow(wind_corr_matrix, cmap='coolwarm')\n",
    "\n",
    "# Add a colorbar\n",
    "plt.colorbar(heatmap)\n",
    "\n",
    "# Show the heatmap\n",
    "plt.show()"
   ]
  },
  {
   "cell_type": "markdown",
   "metadata": {},
   "source": [
    "De esto podemos observar que los valores altos de correlacion se encuentran entre las variables que si estan relacionadas, por ejemplo la Humedad Relativa con sus valores maximos y minimos, lo mismo sucede con la Presion Atmosferica. Podemos reducir la complejidad eliminando los valores maximos y minimos de estas variables y lograr nuestros objetivos con menos columnas."
   ]
  },
  {
   "cell_type": "code",
   "execution_count": 75,
   "metadata": {},
   "outputs": [],
   "source": [
    "#Vamos a eliminar las columnas Humedad Max, Humedad Min, Presion Maxima, y Presion Minima\n",
    "train_wind_2 = train_wind_2.drop(columns=['Humedad Max', 'Humedad Min', 'Presion Maxima', 'Presion Minima'])"
   ]
  },
  {
   "cell_type": "code",
   "execution_count": 76,
   "metadata": {},
   "outputs": [],
   "source": [
    "#Ahora veamos nuestro test_wind_2 y eliminamos las mismas columnas\n",
    "test_wind_2 = test_wind_2.drop(columns=['Humedad Max', 'Humedad Min', 'Presion Maxima', 'Presion Minima'])"
   ]
  },
  {
   "cell_type": "code",
   "execution_count": 78,
   "metadata": {},
   "outputs": [
    {
     "data": {
      "text/plain": [
       "(85515, 9)"
      ]
     },
     "execution_count": 78,
     "metadata": {},
     "output_type": "execute_result"
    }
   ],
   "source": [
    "#Comparamos tamaños de train_wind_2 y test_wind_2\n",
    "train_wind_2.shape"
   ]
  },
  {
   "cell_type": "code",
   "execution_count": 79,
   "metadata": {},
   "outputs": [
    {
     "data": {
      "text/plain": [
       "(8726, 9)"
      ]
     },
     "execution_count": 79,
     "metadata": {},
     "output_type": "execute_result"
    }
   ],
   "source": [
    "test_wind_2.shape"
   ]
  },
  {
   "cell_type": "markdown",
   "metadata": {},
   "source": [
    "Con estos datos vamos a llevar a cabo nuestro modelo de Regresion para pronosticar Velocidad."
   ]
  },
  {
   "cell_type": "markdown",
   "metadata": {},
   "source": [
    "# Modelo de Regresion"
   ]
  },
  {
   "cell_type": "code",
   "execution_count": 80,
   "metadata": {},
   "outputs": [
    {
     "data": {
      "text/plain": [
       "20:00    3674\n",
       "18:00    3672\n",
       "16:00    3666\n",
       "17:00    3665\n",
       "15:00    3662\n",
       "19:00    3660\n",
       "14:00    3647\n",
       "13:00    3641\n",
       "12:00    3633\n",
       "22:00    3624\n",
       "21:00    3623\n",
       "23:00    3605\n",
       "01:00    3588\n",
       "00:00    3569\n",
       "11:00    3557\n",
       "02:00    3544\n",
       "03:00    3515\n",
       "04:00    3479\n",
       "05:00    3452\n",
       "10:00    3431\n",
       "06:00    3430\n",
       "07:00    3413\n",
       "08:00    3403\n",
       "09:00    3362\n",
       "Name: Hora, dtype: int64"
      ]
     },
     "execution_count": 80,
     "metadata": {},
     "output_type": "execute_result"
    }
   ],
   "source": [
    "#Veamos cuantas observaciones tenemos para cada valor de la columna Hora\n",
    "train_wind_2['Hora'].value_counts()"
   ]
  },
  {
   "cell_type": "markdown",
   "metadata": {},
   "source": [
    "Vamos a generar un set de train con las primeras 24 observaciones y un test para las segundas 24 observaciones. La idea es tener datos de un dia para entrenar y datos de otro dia para testear. A partir de un dia pronosticar el siguiente. Luego la idea is pasar a las primeras 48 observaciones para train y las 24 siguientes para test. Ir aumentando asi hasta tener un train de 360 observaciones que representan 15 dias y un test de 24 observaciones que representan 1 dia."
   ]
  },
  {
   "cell_type": "code",
   "execution_count": 106,
   "metadata": {},
   "outputs": [],
   "source": [
    "#Vamos a generar un set de train con las primeras 24 observaciones y un test para las segundas 24 observaciones\n",
    "#La idea es tener datos de un dia para entrenar y datos de otro dia para testear\n",
    "#A partir de un dia pronosticar el siguiente\n",
    "#Luego la idea is pasar a las primeras 48 observaciones para train y las 24 siguientes para test\n",
    "#Ir aumentando asi hasta tener un train de 168 observaciones que representan 7 dias y un test de 24 observaciones que representan 1 dia\n",
    "#Vamos a evaluar para los siguientes modelos: KNN, Ridge, Lasso, XGBoost, SVM, MLP\n",
    "#Vamos a crear un dataframe resultados_regression para guardar los mejores resultados de cada modelo\n",
    "#Las columnas son Modelo, MAPE, RMSE, y R2\n",
    "resultados_regression = pd.DataFrame(columns=['Modelo', 'MAPE', 'RMSE', 'R2'])\n",
    "#Vamos a crear un ciclo que hace cada modelo cambiando el tamaño de train y el que mejor RMSE tenga lo guardamos en resultados_regression\n",
    "#Por ejemplo si el KNN con train de 48 observaciones tiene el mejor RMSE, guardamos bajo la columna modelo \"KNN 48\" y sus valores de desempeño en el resto\n"
   ]
  },
  {
   "cell_type": "markdown",
   "metadata": {},
   "source": [
    "La columna hora la vamos a cambiar empezando en 12:00 por 1, significa que es la primera hora del dia. De esa manera podemos tratar la columna como variable de pronostico. "
   ]
  },
  {
   "cell_type": "code",
   "execution_count": 112,
   "metadata": {},
   "outputs": [],
   "source": [
    "#Haremos una copia de train_wind_2 para poder hacer cambios sin afectar el original\n",
    "train_wind_3 = train_wind_2.copy()\n",
    "#La columna Hora empieza con valores 12:00 y le corresponde a 1, luego 13:00 le corresponde a 2, etc\n",
    "#Vamos a cambiar los valores de Hora para que empiecen en 1 hasta 24\n",
    "#Primero vamos a crear una lista con los valores de Hora\n",
    "horas = list(train_wind_3['Hora'].value_counts().index)\n",
    "#Vamos a quitarle el :00 y nos quedamos solo con los primeros dos digitos de la hora\n",
    "horas_2 = []\n",
    "for i in range(len(horas)):\n",
    "    horas_2.append(horas[i][0:2])\n",
    "horas_2\n",
    "#Vamos a cambiar los valores de Hora\n",
    "train_wind_3['Hora'] = train_wind_3['Hora'].replace(horas, horas_2)"
   ]
  },
  {
   "cell_type": "code",
   "execution_count": 117,
   "metadata": {},
   "outputs": [],
   "source": [
    "#Repetimos el proceso para test_wind_2\n",
    "test_wind_3 = test_wind_2.copy()\n",
    "horas = list(test_wind_3['Hora'].value_counts().index)\n",
    "horas_2 = []\n",
    "for i in range(len(horas)):\n",
    "    horas_2.append(horas[i][0:2])\n",
    "test_wind_3['Hora'] = test_wind_3['Hora'].replace(horas, horas_2)"
   ]
  },
  {
   "cell_type": "code",
   "execution_count": 118,
   "metadata": {},
   "outputs": [],
   "source": [
    "#Ahora volvemos Hora a numericas\n",
    "train_wind_3['Hora'] = pd.to_numeric(train_wind_3['Hora'])\n",
    "test_wind_3['Hora'] = pd.to_numeric(test_wind_3['Hora'])"
   ]
  },
  {
   "cell_type": "code",
   "execution_count": 114,
   "metadata": {},
   "outputs": [],
   "source": [
    "#Comenzemos con KNN \n",
    "#Primero vamos a importar KNeighborsRegressor\n",
    "from sklearn.neighbors import KNeighborsRegressor\n",
    "#Vamos a crear un dataframe para guardar los resultados de KNN\n",
    "resultados_knn = pd.DataFrame(columns=['Train', 'Test', 'RMSE'])\n",
    "#Vamos a crear un ciclo que hace KNN para cada tamaño de train\n",
    "#Vamos a usar un tamaño de train de 24 a 168\n",
    "#Vamos a usar un tamaño de test de 24\n",
    "#Vamos a guardar el RMSE de cada modelo en resultados_knn\n",
    "#Comenzemos\n",
    "for i in [24,48,72,96,120,144,168]:\n",
    "    #Primero vamos a crear el set de train y test\n",
    "    train = train_wind_3.iloc[:i, :]\n",
    "    test = train_wind_3.iloc[i:i+24, :]\n",
    "    #Ahora vamos a crear X_train, y_train, X_test, y_test\n",
    "    X_train = train.drop(columns=['Velocidad'])\n",
    "    y_train = train['Velocidad']\n",
    "    X_test = test.drop(columns=['Velocidad'])\n",
    "    y_test = test['Velocidad']\n",
    "    #Ahora vamos a crear el modelo\n",
    "    knn = KNeighborsRegressor()\n",
    "    #Ahora vamos a entrenar el modelo\n",
    "    knn.fit(X_train, y_train)\n",
    "    #Ahora vamos a predecir\n",
    "    y_pred = knn.predict(X_test)\n",
    "    #Ahora vamos a calcular el RMSE\n",
    "    rmse = np.sqrt(np.mean((y_test - y_pred)**2))\n",
    "    #Ahora vamos a guardar el resultado en resultados_knn\n",
    "    resultados_knn = resultados_knn.append({'Train': i, 'Test': 24, 'RMSE': rmse}, ignore_index=True)"
   ]
  },
  {
   "cell_type": "code",
   "execution_count": 116,
   "metadata": {},
   "outputs": [
    {
     "data": {
      "text/html": [
       "<div>\n",
       "<style scoped>\n",
       "    .dataframe tbody tr th:only-of-type {\n",
       "        vertical-align: middle;\n",
       "    }\n",
       "\n",
       "    .dataframe tbody tr th {\n",
       "        vertical-align: top;\n",
       "    }\n",
       "\n",
       "    .dataframe thead th {\n",
       "        text-align: right;\n",
       "    }\n",
       "</style>\n",
       "<table border=\"1\" class=\"dataframe\">\n",
       "  <thead>\n",
       "    <tr style=\"text-align: right;\">\n",
       "      <th></th>\n",
       "      <th>Train</th>\n",
       "      <th>Test</th>\n",
       "      <th>RMSE</th>\n",
       "    </tr>\n",
       "  </thead>\n",
       "  <tbody>\n",
       "    <tr>\n",
       "      <th>0</th>\n",
       "      <td>24.0</td>\n",
       "      <td>24.0</td>\n",
       "      <td>1.033957</td>\n",
       "    </tr>\n",
       "    <tr>\n",
       "      <th>1</th>\n",
       "      <td>48.0</td>\n",
       "      <td>24.0</td>\n",
       "      <td>0.639127</td>\n",
       "    </tr>\n",
       "    <tr>\n",
       "      <th>2</th>\n",
       "      <td>72.0</td>\n",
       "      <td>24.0</td>\n",
       "      <td>0.910741</td>\n",
       "    </tr>\n",
       "    <tr>\n",
       "      <th>3</th>\n",
       "      <td>96.0</td>\n",
       "      <td>24.0</td>\n",
       "      <td>0.880360</td>\n",
       "    </tr>\n",
       "    <tr>\n",
       "      <th>4</th>\n",
       "      <td>120.0</td>\n",
       "      <td>24.0</td>\n",
       "      <td>0.826892</td>\n",
       "    </tr>\n",
       "    <tr>\n",
       "      <th>5</th>\n",
       "      <td>144.0</td>\n",
       "      <td>24.0</td>\n",
       "      <td>0.936340</td>\n",
       "    </tr>\n",
       "    <tr>\n",
       "      <th>6</th>\n",
       "      <td>168.0</td>\n",
       "      <td>24.0</td>\n",
       "      <td>1.132343</td>\n",
       "    </tr>\n",
       "  </tbody>\n",
       "</table>\n",
       "</div>"
      ],
      "text/plain": [
       "   Train  Test      RMSE\n",
       "0   24.0  24.0  1.033957\n",
       "1   48.0  24.0  0.639127\n",
       "2   72.0  24.0  0.910741\n",
       "3   96.0  24.0  0.880360\n",
       "4  120.0  24.0  0.826892\n",
       "5  144.0  24.0  0.936340\n",
       "6  168.0  24.0  1.132343"
      ]
     },
     "execution_count": 116,
     "metadata": {},
     "output_type": "execute_result"
    }
   ],
   "source": [
    "resultados_knn"
   ]
  },
  {
   "cell_type": "code",
   "execution_count": 119,
   "metadata": {},
   "outputs": [],
   "source": [
    "#Escogemos el mejor RMSE y con ese hacemos el modelo final para KNN y lo guardamos en resultados_regression\n",
    "#El RMSE mas bajo fue con train de 48 observaciones\n",
    "#Vamos a crear el set de train y test\n",
    "train = train_wind_3.iloc[:48, :]\n",
    "#Usamos los primeros 24 de test_wind_2 para test\n",
    "test = test_wind_3.iloc[:24, :]\n",
    "#Ahora vamos a crear X_train, y_train, X_test, y_test\n",
    "X_train = train.drop(columns=['Velocidad'])\n",
    "y_train = train['Velocidad']\n",
    "X_test = test.drop(columns=['Velocidad'])\n",
    "y_test = test['Velocidad']\n",
    "#Ahora vamos a crear el modelo\n",
    "knn = KNeighborsRegressor()\n",
    "#Ahora vamos a entrenar el modelo\n",
    "knn.fit(X_train, y_train)\n",
    "#Ahora vamos a predecir\n",
    "y_pred = knn.predict(X_test)"
   ]
  },
  {
   "cell_type": "code",
   "execution_count": 120,
   "metadata": {},
   "outputs": [],
   "source": [
    "#Calculamos el desempeño para guardar resultados en resultados_regression\n",
    "#Calculamos MAPE\n",
    "mape = np.mean(np.abs((y_test - y_pred)/y_test))\n",
    "#Calculamos RMSE\n",
    "rmse = np.sqrt(np.mean((y_test - y_pred)**2))\n",
    "#Calculamos R2\n",
    "r2 = knn.score(X_test, y_test)\n",
    "#Guardamos en resultados_regression\n",
    "resultados_regression = resultados_regression.append({'Modelo': 'KNN 48', 'MAPE': mape, 'RMSE': rmse, 'R2': r2}, ignore_index=True)"
   ]
  },
  {
   "cell_type": "code",
   "execution_count": 121,
   "metadata": {},
   "outputs": [],
   "source": [
    "#Ahora vamos a revisar Ridge\n",
    "#Primero vamos a importar Ridge\n",
    "from sklearn.linear_model import Ridge\n",
    "#Vamos a crear un dataframe para guardar los resultados de Ridge\n",
    "resultados_ridge = pd.DataFrame(columns=['Train', 'Test', 'RMSE'])\n",
    "#Vamos a crear un ciclo que hace Ridge para cada tamaño de train\n",
    "#Vamos a usar un tamaño de train de 24 a 168\n",
    "#Vamos a usar un tamaño de test de 24\n",
    "#Vamos a guardar el RMSE de cada modelo en resultados_ridge\n",
    "#Comenzemos\n",
    "for i in [24,48,72,96,120,144,168]:\n",
    "    #Primero vamos a crear el set de train y test\n",
    "    train = train_wind_3.iloc[:i, :]\n",
    "    test = train_wind_3.iloc[i:i+24, :]\n",
    "    #Ahora vamos a crear X_train, y_train, X_test, y_test\n",
    "    X_train = train.drop(columns=['Velocidad'])\n",
    "    y_train = train['Velocidad']\n",
    "    X_test = test.drop(columns=['Velocidad'])\n",
    "    y_test = test['Velocidad']\n",
    "    #Ahora vamos a crear el modelo\n",
    "    ridge = Ridge()\n",
    "    #Ahora vamos a entrenar el modelo\n",
    "    ridge.fit(X_train, y_train)\n",
    "    #Ahora vamos a predecir\n",
    "    y_pred = ridge.predict(X_test)\n",
    "    #Ahora vamos a calcular el RMSE\n",
    "    rmse = np.sqrt(np.mean((y_test - y_pred)**2))\n",
    "    #Ahora vamos a guardar el resultado en resultados_ridge\n",
    "    resultados_ridge = resultados_ridge.append({'Train': i, 'Test': 24, 'RMSE': rmse}, ignore_index=True)"
   ]
  },
  {
   "cell_type": "code",
   "execution_count": 122,
   "metadata": {},
   "outputs": [
    {
     "data": {
      "text/html": [
       "<div>\n",
       "<style scoped>\n",
       "    .dataframe tbody tr th:only-of-type {\n",
       "        vertical-align: middle;\n",
       "    }\n",
       "\n",
       "    .dataframe tbody tr th {\n",
       "        vertical-align: top;\n",
       "    }\n",
       "\n",
       "    .dataframe thead th {\n",
       "        text-align: right;\n",
       "    }\n",
       "</style>\n",
       "<table border=\"1\" class=\"dataframe\">\n",
       "  <thead>\n",
       "    <tr style=\"text-align: right;\">\n",
       "      <th></th>\n",
       "      <th>Train</th>\n",
       "      <th>Test</th>\n",
       "      <th>RMSE</th>\n",
       "    </tr>\n",
       "  </thead>\n",
       "  <tbody>\n",
       "    <tr>\n",
       "      <th>0</th>\n",
       "      <td>24.0</td>\n",
       "      <td>24.0</td>\n",
       "      <td>0.490990</td>\n",
       "    </tr>\n",
       "    <tr>\n",
       "      <th>1</th>\n",
       "      <td>48.0</td>\n",
       "      <td>24.0</td>\n",
       "      <td>0.458227</td>\n",
       "    </tr>\n",
       "    <tr>\n",
       "      <th>2</th>\n",
       "      <td>72.0</td>\n",
       "      <td>24.0</td>\n",
       "      <td>0.449504</td>\n",
       "    </tr>\n",
       "    <tr>\n",
       "      <th>3</th>\n",
       "      <td>96.0</td>\n",
       "      <td>24.0</td>\n",
       "      <td>0.394707</td>\n",
       "    </tr>\n",
       "    <tr>\n",
       "      <th>4</th>\n",
       "      <td>120.0</td>\n",
       "      <td>24.0</td>\n",
       "      <td>0.429247</td>\n",
       "    </tr>\n",
       "    <tr>\n",
       "      <th>5</th>\n",
       "      <td>144.0</td>\n",
       "      <td>24.0</td>\n",
       "      <td>0.505533</td>\n",
       "    </tr>\n",
       "    <tr>\n",
       "      <th>6</th>\n",
       "      <td>168.0</td>\n",
       "      <td>24.0</td>\n",
       "      <td>0.591741</td>\n",
       "    </tr>\n",
       "  </tbody>\n",
       "</table>\n",
       "</div>"
      ],
      "text/plain": [
       "   Train  Test      RMSE\n",
       "0   24.0  24.0  0.490990\n",
       "1   48.0  24.0  0.458227\n",
       "2   72.0  24.0  0.449504\n",
       "3   96.0  24.0  0.394707\n",
       "4  120.0  24.0  0.429247\n",
       "5  144.0  24.0  0.505533\n",
       "6  168.0  24.0  0.591741"
      ]
     },
     "execution_count": 122,
     "metadata": {},
     "output_type": "execute_result"
    }
   ],
   "source": [
    "resultados_ridge"
   ]
  },
  {
   "cell_type": "code",
   "execution_count": 123,
   "metadata": {},
   "outputs": [],
   "source": [
    "#El menor fue con train de 96 observaciones\n",
    "#Vamos a crear el set de train y test\n",
    "train = train_wind_3.iloc[:96, :]\n",
    "#Usamos los primeros 24 de test_wind_2 para test\n",
    "test = test_wind_3.iloc[:24, :]\n",
    "#Ahora vamos a crear X_train, y_train, X_test, y_test\n",
    "X_train = train.drop(columns=['Velocidad'])\n",
    "y_train = train['Velocidad']\n",
    "X_test = test.drop(columns=['Velocidad'])\n",
    "y_test = test['Velocidad']\n",
    "#Ahora vamos a crear el modelo\n",
    "ridge = Ridge()\n",
    "#Ahora vamos a entrenar el modelo\n",
    "ridge.fit(X_train, y_train)\n",
    "#Ahora vamos a predecir\n",
    "y_pred = ridge.predict(X_test)"
   ]
  },
  {
   "cell_type": "code",
   "execution_count": 124,
   "metadata": {},
   "outputs": [],
   "source": [
    "#Calculamos el desempeño para guardar resultados en resultados_regression\n",
    "#Calculamos MAPE\n",
    "mape = np.mean(np.abs((y_test - y_pred)/y_test))\n",
    "#Calculamos RMSE\n",
    "rmse = np.sqrt(np.mean((y_test - y_pred)**2))\n",
    "#Calculamos R2\n",
    "r2 = ridge.score(X_test, y_test)\n",
    "#Guardamos en resultados_regression\n",
    "resultados_regression = resultados_regression.append({'Modelo': 'Ridge 96', 'MAPE': mape, 'RMSE': rmse, 'R2': r2}, ignore_index=True)"
   ]
  },
  {
   "cell_type": "code",
   "execution_count": 126,
   "metadata": {},
   "outputs": [],
   "source": [
    "#Ahora vamos a revisar Lasso\n",
    "#Primero vamos a importar Lasso\n",
    "from sklearn.linear_model import Lasso\n",
    "#Vamos a crear un dataframe para guardar los resultados de Lasso\n",
    "resultados_lasso = pd.DataFrame(columns=['Train', 'Test', 'RMSE'])\n",
    "#Vamos a crear un ciclo que hace Lasso para cada tamaño de train\n",
    "#Vamos a usar un tamaño de train de 24 a 168\n",
    "#Vamos a usar un tamaño de test de 24\n",
    "#Vamos a guardar el RMSE de cada modelo en resultados_lasso\n",
    "#Comenzemos\n",
    "for i in [24,48,72,96,120,144,168]:\n",
    "    #Primero vamos a crear el set de train y test\n",
    "    train = train_wind_3.iloc[:i, :]\n",
    "    test = train_wind_3.iloc[i:i+24, :]\n",
    "    #Ahora vamos a crear X_train, y_train, X_test, y_test\n",
    "    X_train = train.drop(columns=['Velocidad'])\n",
    "    y_train = train['Velocidad']\n",
    "    X_test = test.drop(columns=['Velocidad'])\n",
    "    y_test = test['Velocidad']\n",
    "    #Ahora vamos a crear el modelo\n",
    "    lasso = Lasso()\n",
    "    #Ahora vamos a entrenar el modelo\n",
    "    lasso.fit(X_train, y_train)\n",
    "    #Ahora vamos a predecir\n",
    "    y_pred = lasso.predict(X_test)\n",
    "    #Ahora vamos a calcular el RMSE\n",
    "    rmse = np.sqrt(np.mean((y_test - y_pred)**2))\n",
    "    #Ahora vamos a guardar el resultado en resultados_lasso\n",
    "    resultados_lasso = resultados_lasso.append({'Train': i, 'Test': 24, 'RMSE': rmse}, ignore_index=True)"
   ]
  },
  {
   "cell_type": "code",
   "execution_count": 127,
   "metadata": {},
   "outputs": [
    {
     "data": {
      "text/html": [
       "<div>\n",
       "<style scoped>\n",
       "    .dataframe tbody tr th:only-of-type {\n",
       "        vertical-align: middle;\n",
       "    }\n",
       "\n",
       "    .dataframe tbody tr th {\n",
       "        vertical-align: top;\n",
       "    }\n",
       "\n",
       "    .dataframe thead th {\n",
       "        text-align: right;\n",
       "    }\n",
       "</style>\n",
       "<table border=\"1\" class=\"dataframe\">\n",
       "  <thead>\n",
       "    <tr style=\"text-align: right;\">\n",
       "      <th></th>\n",
       "      <th>Train</th>\n",
       "      <th>Test</th>\n",
       "      <th>RMSE</th>\n",
       "    </tr>\n",
       "  </thead>\n",
       "  <tbody>\n",
       "    <tr>\n",
       "      <th>0</th>\n",
       "      <td>24.0</td>\n",
       "      <td>24.0</td>\n",
       "      <td>1.226494</td>\n",
       "    </tr>\n",
       "    <tr>\n",
       "      <th>1</th>\n",
       "      <td>48.0</td>\n",
       "      <td>24.0</td>\n",
       "      <td>0.707227</td>\n",
       "    </tr>\n",
       "    <tr>\n",
       "      <th>2</th>\n",
       "      <td>72.0</td>\n",
       "      <td>24.0</td>\n",
       "      <td>0.932788</td>\n",
       "    </tr>\n",
       "    <tr>\n",
       "      <th>3</th>\n",
       "      <td>96.0</td>\n",
       "      <td>24.0</td>\n",
       "      <td>0.987514</td>\n",
       "    </tr>\n",
       "    <tr>\n",
       "      <th>4</th>\n",
       "      <td>120.0</td>\n",
       "      <td>24.0</td>\n",
       "      <td>1.025434</td>\n",
       "    </tr>\n",
       "    <tr>\n",
       "      <th>5</th>\n",
       "      <td>144.0</td>\n",
       "      <td>24.0</td>\n",
       "      <td>1.130218</td>\n",
       "    </tr>\n",
       "    <tr>\n",
       "      <th>6</th>\n",
       "      <td>168.0</td>\n",
       "      <td>24.0</td>\n",
       "      <td>0.805828</td>\n",
       "    </tr>\n",
       "  </tbody>\n",
       "</table>\n",
       "</div>"
      ],
      "text/plain": [
       "   Train  Test      RMSE\n",
       "0   24.0  24.0  1.226494\n",
       "1   48.0  24.0  0.707227\n",
       "2   72.0  24.0  0.932788\n",
       "3   96.0  24.0  0.987514\n",
       "4  120.0  24.0  1.025434\n",
       "5  144.0  24.0  1.130218\n",
       "6  168.0  24.0  0.805828"
      ]
     },
     "execution_count": 127,
     "metadata": {},
     "output_type": "execute_result"
    }
   ],
   "source": [
    "resultados_lasso"
   ]
  },
  {
   "cell_type": "code",
   "execution_count": 128,
   "metadata": {},
   "outputs": [],
   "source": [
    "#El menor fue con train de 48 observaciones\n",
    "#Vamos a crear el set de train y test\n",
    "train = train_wind_3.iloc[:48, :]\n",
    "#Usamos los primeros 24 de test_wind_2 para test\n",
    "test = test_wind_3.iloc[:24, :]\n",
    "#Ahora vamos a crear X_train, y_train, X_test, y_test\n",
    "X_train = train.drop(columns=['Velocidad'])\n",
    "y_train = train['Velocidad']\n",
    "X_test = test.drop(columns=['Velocidad'])\n",
    "y_test = test['Velocidad']\n",
    "#Ahora vamos a crear el modelo\n",
    "lasso = Lasso()\n",
    "#Ahora vamos a entrenar el modelo\n",
    "lasso.fit(X_train, y_train)\n",
    "#Ahora vamos a predecir\n",
    "y_pred = lasso.predict(X_test)"
   ]
  },
  {
   "cell_type": "code",
   "execution_count": 129,
   "metadata": {},
   "outputs": [],
   "source": [
    "#Calculamos el desempeño para guardar resultados en resultados_regression\n",
    "#Calculamos MAPE\n",
    "mape = np.mean(np.abs((y_test - y_pred)/y_test))\n",
    "#Calculamos RMSE\n",
    "rmse = np.sqrt(np.mean((y_test - y_pred)**2))\n",
    "#Calculamos R2\n",
    "r2 = lasso.score(X_test, y_test)\n",
    "#Guardamos en resultados_regression\n",
    "resultados_regression = resultados_regression.append({'Modelo': 'Lasso 48', 'MAPE': mape, 'RMSE': rmse, 'R2': r2}, ignore_index=True)"
   ]
  },
  {
   "cell_type": "code",
   "execution_count": 132,
   "metadata": {},
   "outputs": [],
   "source": [
    "#Ahora vamos a revisar XGBoost\n",
    "#Primero vamos a importar XGBRegressor de sklearn\n",
    "from xgboost import XGBRegressor\n",
    "#Vamos a crear un dataframe para guardar los resultados de XGBoost\n",
    "resultados_xgb = pd.DataFrame(columns=['Train', 'Test', 'RMSE'])\n",
    "#Vamos a crear un ciclo que hace XGBoost para cada tamaño de train\n",
    "#Vamos a usar un tamaño de train de 24 a 168\n",
    "#Vamos a usar un tamaño de test de 24\n",
    "#Vamos a guardar el RMSE de cada modelo en resultados_xgb\n",
    "#Comenzemos\n",
    "for i in [24,48,72,96,120,144,168]:\n",
    "    #Primero vamos a crear el set de train y test\n",
    "    train = train_wind_3.iloc[:i, :]\n",
    "    test = train_wind_3.iloc[i:i+24, :]\n",
    "    #Ahora vamos a crear X_train, y_train, X_test, y_test\n",
    "    X_train = train.drop(columns=['Velocidad'])\n",
    "    y_train = train['Velocidad']\n",
    "    X_test = test.drop(columns=['Velocidad'])\n",
    "    y_test = test['Velocidad']\n",
    "    #Ahora vamos a crear el modelo\n",
    "    xgb = XGBRegressor()\n",
    "    #Ahora vamos a entrenar el modelo\n",
    "    xgb.fit(X_train, y_train)\n",
    "    #Ahora vamos a predecir\n",
    "    y_pred = xgb.predict(X_test)\n",
    "    #Ahora vamos a calcular el RMSE\n",
    "    rmse = np.sqrt(np.mean((y_test - y_pred)**2))\n",
    "    #Ahora vamos a guardar el resultado en resultados_xgb\n",
    "    resultados_xgb = resultados_xgb.append({'Train': i, 'Test': 24, 'RMSE': rmse}, ignore_index=True)"
   ]
  },
  {
   "cell_type": "code",
   "execution_count": 133,
   "metadata": {},
   "outputs": [
    {
     "data": {
      "text/html": [
       "<div>\n",
       "<style scoped>\n",
       "    .dataframe tbody tr th:only-of-type {\n",
       "        vertical-align: middle;\n",
       "    }\n",
       "\n",
       "    .dataframe tbody tr th {\n",
       "        vertical-align: top;\n",
       "    }\n",
       "\n",
       "    .dataframe thead th {\n",
       "        text-align: right;\n",
       "    }\n",
       "</style>\n",
       "<table border=\"1\" class=\"dataframe\">\n",
       "  <thead>\n",
       "    <tr style=\"text-align: right;\">\n",
       "      <th></th>\n",
       "      <th>Train</th>\n",
       "      <th>Test</th>\n",
       "      <th>RMSE</th>\n",
       "    </tr>\n",
       "  </thead>\n",
       "  <tbody>\n",
       "    <tr>\n",
       "      <th>0</th>\n",
       "      <td>24.0</td>\n",
       "      <td>24.0</td>\n",
       "      <td>0.723291</td>\n",
       "    </tr>\n",
       "    <tr>\n",
       "      <th>1</th>\n",
       "      <td>48.0</td>\n",
       "      <td>24.0</td>\n",
       "      <td>0.433022</td>\n",
       "    </tr>\n",
       "    <tr>\n",
       "      <th>2</th>\n",
       "      <td>72.0</td>\n",
       "      <td>24.0</td>\n",
       "      <td>0.508024</td>\n",
       "    </tr>\n",
       "    <tr>\n",
       "      <th>3</th>\n",
       "      <td>96.0</td>\n",
       "      <td>24.0</td>\n",
       "      <td>0.537528</td>\n",
       "    </tr>\n",
       "    <tr>\n",
       "      <th>4</th>\n",
       "      <td>120.0</td>\n",
       "      <td>24.0</td>\n",
       "      <td>0.566880</td>\n",
       "    </tr>\n",
       "    <tr>\n",
       "      <th>5</th>\n",
       "      <td>144.0</td>\n",
       "      <td>24.0</td>\n",
       "      <td>0.760675</td>\n",
       "    </tr>\n",
       "    <tr>\n",
       "      <th>6</th>\n",
       "      <td>168.0</td>\n",
       "      <td>24.0</td>\n",
       "      <td>0.497700</td>\n",
       "    </tr>\n",
       "  </tbody>\n",
       "</table>\n",
       "</div>"
      ],
      "text/plain": [
       "   Train  Test      RMSE\n",
       "0   24.0  24.0  0.723291\n",
       "1   48.0  24.0  0.433022\n",
       "2   72.0  24.0  0.508024\n",
       "3   96.0  24.0  0.537528\n",
       "4  120.0  24.0  0.566880\n",
       "5  144.0  24.0  0.760675\n",
       "6  168.0  24.0  0.497700"
      ]
     },
     "execution_count": 133,
     "metadata": {},
     "output_type": "execute_result"
    }
   ],
   "source": [
    "resultados_xgb"
   ]
  },
  {
   "cell_type": "code",
   "execution_count": 134,
   "metadata": {},
   "outputs": [],
   "source": [
    "#El mejor fue con train de 48 observaciones\n",
    "#Vamos a crear el set de train y test\n",
    "train = train_wind_3.iloc[:48, :]\n",
    "#Usamos los primeros 24 de test_wind_2 para test\n",
    "test = test_wind_3.iloc[:24, :]\n",
    "#Ahora vamos a crear X_train, y_train, X_test, y_test\n",
    "X_train = train.drop(columns=['Velocidad'])\n",
    "y_train = train['Velocidad']\n",
    "X_test = test.drop(columns=['Velocidad'])\n",
    "y_test = test['Velocidad']\n",
    "#Ahora vamos a crear el modelo\n",
    "xgb = XGBRegressor()\n",
    "#Ahora vamos a entrenar el modelo\n",
    "xgb.fit(X_train, y_train)\n",
    "#Ahora vamos a predecir\n",
    "y_pred = xgb.predict(X_test)"
   ]
  },
  {
   "cell_type": "code",
   "execution_count": 135,
   "metadata": {},
   "outputs": [],
   "source": [
    "#Calculamos el desempeño para guardar resultados en resultados_regression\n",
    "#Calculamos MAPE\n",
    "mape = np.mean(np.abs((y_test - y_pred)/y_test))\n",
    "#Calculamos RMSE\n",
    "rmse = np.sqrt(np.mean((y_test - y_pred)**2))\n",
    "#Calculamos R2\n",
    "r2 = xgb.score(X_test, y_test)\n",
    "#Guardamos en resultados_regression\n",
    "resultados_regression = resultados_regression.append({'Modelo': 'XGBoost 48', 'MAPE': mape, 'RMSE': rmse, 'R2': r2}, ignore_index=True)"
   ]
  },
  {
   "cell_type": "code",
   "execution_count": 137,
   "metadata": {},
   "outputs": [],
   "source": [
    "#Ahora vamos a revisar SVM\n",
    "#Primero vamos a importar SVR de sklearn\n",
    "from sklearn.svm import SVR\n",
    "#Vamos a crear un dataframe para guardar los resultados de SVR\n",
    "resultados_svr = pd.DataFrame(columns=['Train', 'Test', 'RMSE'])\n",
    "#Vamos a crear un ciclo que hace SVR para cada tamaño de train\n",
    "#Vamos a usar un tamaño de train de 24 a 168\n",
    "#Vamos a usar un tamaño de test de 24\n",
    "#Vamos a guardar el RMSE de cada modelo en resultados_svr\n",
    "#Comenzemos\n",
    "for i in [24,48,72,96,120,144,168]:\n",
    "    #Primero vamos a crear el set de train y test\n",
    "    train = train_wind_3.iloc[:i, :]\n",
    "    test = train_wind_3.iloc[i:i+24, :]\n",
    "    #Ahora vamos a crear X_train, y_train, X_test, y_test\n",
    "    X_train = train.drop(columns=['Velocidad'])\n",
    "    y_train = train['Velocidad']\n",
    "    X_test = test.drop(columns=['Velocidad'])\n",
    "    y_test = test['Velocidad']\n",
    "    #Ahora vamos a crear el modelo\n",
    "    svr = SVR()\n",
    "    #Ahora vamos a entrenar el modelo\n",
    "    svr.fit(X_train, y_train)\n",
    "    #Ahora vamos a predecir\n",
    "    y_pred = svr.predict(X_test)\n",
    "    #Ahora vamos a calcular el RMSE\n",
    "    rmse = np.sqrt(np.mean((y_test - y_pred)**2))\n",
    "    #Ahora vamos a guardar el resultado en resultados_svr\n",
    "    resultados_svr = resultados_svr.append({'Train': i, 'Test': 24, 'RMSE': rmse}, ignore_index=True)"
   ]
  },
  {
   "cell_type": "code",
   "execution_count": 138,
   "metadata": {},
   "outputs": [
    {
     "data": {
      "text/html": [
       "<div>\n",
       "<style scoped>\n",
       "    .dataframe tbody tr th:only-of-type {\n",
       "        vertical-align: middle;\n",
       "    }\n",
       "\n",
       "    .dataframe tbody tr th {\n",
       "        vertical-align: top;\n",
       "    }\n",
       "\n",
       "    .dataframe thead th {\n",
       "        text-align: right;\n",
       "    }\n",
       "</style>\n",
       "<table border=\"1\" class=\"dataframe\">\n",
       "  <thead>\n",
       "    <tr style=\"text-align: right;\">\n",
       "      <th></th>\n",
       "      <th>Train</th>\n",
       "      <th>Test</th>\n",
       "      <th>RMSE</th>\n",
       "    </tr>\n",
       "  </thead>\n",
       "  <tbody>\n",
       "    <tr>\n",
       "      <th>0</th>\n",
       "      <td>24.0</td>\n",
       "      <td>24.0</td>\n",
       "      <td>1.227505</td>\n",
       "    </tr>\n",
       "    <tr>\n",
       "      <th>1</th>\n",
       "      <td>48.0</td>\n",
       "      <td>24.0</td>\n",
       "      <td>0.799118</td>\n",
       "    </tr>\n",
       "    <tr>\n",
       "      <th>2</th>\n",
       "      <td>72.0</td>\n",
       "      <td>24.0</td>\n",
       "      <td>1.058214</td>\n",
       "    </tr>\n",
       "    <tr>\n",
       "      <th>3</th>\n",
       "      <td>96.0</td>\n",
       "      <td>24.0</td>\n",
       "      <td>1.187703</td>\n",
       "    </tr>\n",
       "    <tr>\n",
       "      <th>4</th>\n",
       "      <td>120.0</td>\n",
       "      <td>24.0</td>\n",
       "      <td>1.177261</td>\n",
       "    </tr>\n",
       "    <tr>\n",
       "      <th>5</th>\n",
       "      <td>144.0</td>\n",
       "      <td>24.0</td>\n",
       "      <td>1.377451</td>\n",
       "    </tr>\n",
       "    <tr>\n",
       "      <th>6</th>\n",
       "      <td>168.0</td>\n",
       "      <td>24.0</td>\n",
       "      <td>1.034751</td>\n",
       "    </tr>\n",
       "  </tbody>\n",
       "</table>\n",
       "</div>"
      ],
      "text/plain": [
       "   Train  Test      RMSE\n",
       "0   24.0  24.0  1.227505\n",
       "1   48.0  24.0  0.799118\n",
       "2   72.0  24.0  1.058214\n",
       "3   96.0  24.0  1.187703\n",
       "4  120.0  24.0  1.177261\n",
       "5  144.0  24.0  1.377451\n",
       "6  168.0  24.0  1.034751"
      ]
     },
     "execution_count": 138,
     "metadata": {},
     "output_type": "execute_result"
    }
   ],
   "source": [
    "resultados_svr"
   ]
  },
  {
   "cell_type": "code",
   "execution_count": 139,
   "metadata": {},
   "outputs": [],
   "source": [
    "#El mejor fue con train de 48 observaciones\n",
    "#Vamos a crear el set de train y test\n",
    "train = train_wind_3.iloc[:48, :]\n",
    "#Usamos los primeros 24 de test_wind_2 para test\n",
    "test = test_wind_3.iloc[:24, :]\n",
    "#Ahora vamos a crear X_train, y_train, X_test, y_test\n",
    "X_train = train.drop(columns=['Velocidad'])\n",
    "y_train = train['Velocidad']\n",
    "X_test = test.drop(columns=['Velocidad'])\n",
    "y_test = test['Velocidad']\n",
    "#Ahora vamos a crear el modelo\n",
    "svr = SVR()\n",
    "#Ahora vamos a entrenar el modelo\n",
    "svr.fit(X_train, y_train)\n",
    "#Ahora vamos a predecir\n",
    "y_pred = svr.predict(X_test)"
   ]
  },
  {
   "cell_type": "code",
   "execution_count": 140,
   "metadata": {},
   "outputs": [],
   "source": [
    "#Calculamos el desempeño para guardar resultados en resultados_regression\n",
    "#Calculamos MAPE\n",
    "mape = np.mean(np.abs((y_test - y_pred)/y_test))\n",
    "#Calculamos RMSE\n",
    "rmse = np.sqrt(np.mean((y_test - y_pred)**2))\n",
    "#Calculamos R2\n",
    "r2 = svr.score(X_test, y_test)\n",
    "#Guardamos en resultados_regression\n",
    "resultados_regression = resultados_regression.append({'Modelo': 'SVM 48', 'MAPE': mape, 'RMSE': rmse, 'R2': r2}, ignore_index=True)"
   ]
  },
  {
   "cell_type": "code",
   "execution_count": 211,
   "metadata": {},
   "outputs": [],
   "source": [
    "#Ahora vamos a revisar MLP\n",
    "#Usemos random seed\n",
    "np.random.seed(499)\n",
    "#Primero vamos a importar MLPRegressor de sklearn\n",
    "from sklearn.neural_network import MLPRegressor\n",
    "#Vamos a crear un dataframe para guardar los resultados de MLP\n",
    "resultados_mlp = pd.DataFrame(columns=['Train', 'Test', 'RMSE'])\n",
    "#Vamos a crear un ciclo que hace MLP para cada tamaño de train\n",
    "#Vamos a usar un tamaño de train de 24 a 168\n",
    "#Vamos a usar un tamaño de test de 24\n",
    "#Vamos a guardar el RMSE de cada modelo en resultados_mlp\n",
    "#Comenzemos\n",
    "for i in [24,48,72,96,120,144,168]:\n",
    "    #Primero vamos a crear el set de train y test\n",
    "    train = train_wind_3.iloc[:i, :]\n",
    "    test = train_wind_3.iloc[i:i+24, :]\n",
    "    #Ahora vamos a crear X_train, y_train, X_test, y_test\n",
    "    X_train = train.drop(columns=['Velocidad'])\n",
    "    y_train = train['Velocidad']\n",
    "    X_test = test.drop(columns=['Velocidad'])\n",
    "    y_test = test['Velocidad']\n",
    "    #Ahora vamos a crear el modelo\n",
    "    mlp = MLPRegressor(max_iter=2000, learning_rate='constant', learning_rate_init=0.01, solver='adam', activation='relu', alpha=0.01)\n",
    "    #Ahora vamos a entrenar el modelo\n",
    "    mlp.fit(X_train, y_train)\n",
    "    #Ahora vamos a predecir\n",
    "    y_pred = mlp.predict(X_test)\n",
    "    #Ahora vamos a calcular el RMSE\n",
    "    rmse = np.sqrt(np.mean((y_test - y_pred)**2))\n",
    "    #Ahora vamos a guardar el resultado en resultados_mlp\n",
    "    resultados_mlp = resultados_mlp.append({'Train': i, 'Test': 24, 'RMSE': rmse}, ignore_index=True)   "
   ]
  },
  {
   "cell_type": "code",
   "execution_count": 222,
   "metadata": {},
   "outputs": [],
   "source": [
    "#Usemos random seed\n",
    "np.random.seed(99)\n",
    "#El mejor fue con train de 96 observaciones\n",
    "#Vamos a crear el set de train y test\n",
    "train = train_wind_3.iloc[:96, :]\n",
    "#Usamos los primeros 24 de test_wind_2 para test\n",
    "test = test_wind_3.iloc[:24, :]\n",
    "#Ahora vamos a crear X_train, y_train, X_test, y_test\n",
    "X_train = train.drop(columns=['Velocidad'])\n",
    "y_train = train['Velocidad']\n",
    "X_test = test.drop(columns=['Velocidad'])\n",
    "y_test = test['Velocidad']\n",
    "#Ahora vamos a crear el modelo\n",
    "mlp = MLPRegressor(max_iter=2000, learning_rate='constant', learning_rate_init=0.01, solver='adam', activation='relu', alpha=0.01)\n",
    "#Ahora vamos a entrenar el modelo\n",
    "mlp.fit(X_train, y_train)\n",
    "#Ahora vamos a predecir\n",
    "y_pred = mlp.predict(X_test)"
   ]
  },
  {
   "cell_type": "code",
   "execution_count": 224,
   "metadata": {},
   "outputs": [],
   "source": [
    "#Calculamos el desempeño para guardar resultados en resultados_regression\n",
    "#Calculamos MAPE\n",
    "mape = np.mean(np.abs((y_test - y_pred)/y_test))\n",
    "#Calculamos RMSE\n",
    "rmse = np.sqrt(np.mean((y_test - y_pred)**2))\n",
    "#Calculamos R2\n",
    "r2 = mlp.score(X_test, y_test)\n",
    "#Guardamos en resultados_regression\n",
    "resultados_regression = resultados_regression.append({'Modelo': 'MLP 96', 'MAPE': mape, 'RMSE': rmse, 'R2': r2}, ignore_index=True)"
   ]
  },
  {
   "cell_type": "code",
   "execution_count": 225,
   "metadata": {},
   "outputs": [
    {
     "data": {
      "text/html": [
       "<div>\n",
       "<style scoped>\n",
       "    .dataframe tbody tr th:only-of-type {\n",
       "        vertical-align: middle;\n",
       "    }\n",
       "\n",
       "    .dataframe tbody tr th {\n",
       "        vertical-align: top;\n",
       "    }\n",
       "\n",
       "    .dataframe thead th {\n",
       "        text-align: right;\n",
       "    }\n",
       "</style>\n",
       "<table border=\"1\" class=\"dataframe\">\n",
       "  <thead>\n",
       "    <tr style=\"text-align: right;\">\n",
       "      <th></th>\n",
       "      <th>Modelo</th>\n",
       "      <th>MAPE</th>\n",
       "      <th>RMSE</th>\n",
       "      <th>R2</th>\n",
       "    </tr>\n",
       "  </thead>\n",
       "  <tbody>\n",
       "    <tr>\n",
       "      <th>0</th>\n",
       "      <td>KNN 48</td>\n",
       "      <td>0.389324</td>\n",
       "      <td>1.578264</td>\n",
       "      <td>-2.712015</td>\n",
       "    </tr>\n",
       "    <tr>\n",
       "      <th>1</th>\n",
       "      <td>Ridge 96</td>\n",
       "      <td>0.590210</td>\n",
       "      <td>2.007932</td>\n",
       "      <td>-5.008256</td>\n",
       "    </tr>\n",
       "    <tr>\n",
       "      <th>2</th>\n",
       "      <td>Lasso 48</td>\n",
       "      <td>0.359294</td>\n",
       "      <td>1.430733</td>\n",
       "      <td>-2.050477</td>\n",
       "    </tr>\n",
       "    <tr>\n",
       "      <th>3</th>\n",
       "      <td>XGBoost 48</td>\n",
       "      <td>0.196452</td>\n",
       "      <td>0.951838</td>\n",
       "      <td>-0.350132</td>\n",
       "    </tr>\n",
       "    <tr>\n",
       "      <th>4</th>\n",
       "      <td>SVM 48</td>\n",
       "      <td>0.444494</td>\n",
       "      <td>1.736982</td>\n",
       "      <td>-3.496153</td>\n",
       "    </tr>\n",
       "    <tr>\n",
       "      <th>5</th>\n",
       "      <td>MLP 96</td>\n",
       "      <td>0.404304</td>\n",
       "      <td>1.475985</td>\n",
       "      <td>-2.246492</td>\n",
       "    </tr>\n",
       "  </tbody>\n",
       "</table>\n",
       "</div>"
      ],
      "text/plain": [
       "       Modelo      MAPE      RMSE        R2\n",
       "0      KNN 48  0.389324  1.578264 -2.712015\n",
       "1    Ridge 96  0.590210  2.007932 -5.008256\n",
       "2    Lasso 48  0.359294  1.430733 -2.050477\n",
       "3  XGBoost 48  0.196452  0.951838 -0.350132\n",
       "4      SVM 48  0.444494  1.736982 -3.496153\n",
       "5      MLP 96  0.404304  1.475985 -2.246492"
      ]
     },
     "execution_count": 225,
     "metadata": {},
     "output_type": "execute_result"
    }
   ],
   "source": [
    "resultados_regression"
   ]
  },
  {
   "cell_type": "markdown",
   "metadata": {},
   "source": [
    "XGBoosting tiene el mejor desempeño general, con un MAPE, un RMSE y un R2 más bajos que los otros modelos. SVM y Lasso tienen un desempeño similar, con un MAPE y un RMSE relativamente bajos. KNN y MLP tienen un desempeño deficiente, con un MAPE y un RMSE relativamente altos. El R2 de todos los modelos es negativo. Esto significa que los modelos no son capaces de explicar la variabilidad de la variable de respuesta. En este caso, el R2 de XGBoosting es el más cercano a 0, lo que indica que este modelo es el que mejor explica la variabilidad de la variable de respuesta."
   ]
  },
  {
   "cell_type": "markdown",
   "metadata": {},
   "source": [
    "# Modelo de Clasificacion"
   ]
  },
  {
   "cell_type": "code",
   "execution_count": 81,
   "metadata": {},
   "outputs": [],
   "source": [
    "#Se reciben los sets tr_train_2 y tr_test_2\n",
    "#Vamos a realizar modelos de clasificacion para predecir isFraud\n",
    "#Usaremos los siguientes modelos : K-NN, Ridge, Lasso, Naive Bayes, XGBoost, SVM, y MLP\n",
    "#La idea es armar una tabla de error que mida precision, recall, f1, y AUC para cada modelo\n",
    "#La idea es usar GridSearchCV y Pipeline para optimizar los hiperparametros de cada modelo y evaluarlos\n",
    "#Vamos a usar cross validation con 3 folds stratificados\n",
    "#Vamos a usar como metrica de optimizacion el AUC\n",
    "#Vamos a usar como metricas de evaluacion precision, recall, f1, y AUC\n",
    "#Vamos a usar como metrica de comparacion el AUC\n",
    "#Creemos un dataframe para guardar los resultados\n",
    "resultados = pd.DataFrame(columns=['Modelo','Precision','Recall','F1','AUC'])\n",
    "#Primero vamos a separar las variables de respuesta de las explicativas\n",
    "x_train = tr_train_2.drop(columns=['isFraud'])\n",
    "y_train = tr_train_2['isFraud']\n",
    "x_test = tr_test_2.drop(columns=['isFraud'])\n",
    "y_test = tr_test_2['isFraud']"
   ]
  },
  {
   "cell_type": "code",
   "execution_count": 82,
   "metadata": {},
   "outputs": [],
   "source": [
    "#Por cuestion de tiempo vamos a usar solo 10000 observaciones de train para entrenar los modelos\n",
    "#La idea es mantener la proporcion de 0 y 1 en isFraud\n",
    "#Vamos a usar sample para tomar 10000 observaciones en tr_train_2\n",
    "#Ya que se tienen pocos 1, vamos a tomar 10000 observaciones de 0 y 10000 de 1\n",
    "tr_train_2['isFraud'].value_counts()\n",
    "#Vemos que hay 569877 observaciones de 0 y 20663 de 1\n",
    "#Usamos 10000 de 0 y 10000 de 1\n",
    "tr_train_2_0 = tr_train_2[tr_train_2['isFraud']==0].sample(n=10000, random_state=42)\n",
    "tr_train_2_1 = tr_train_2[tr_train_2['isFraud']==1].sample(n=10000, random_state=42)\n",
    "#Combinamos los dos sets\n",
    "tr_train_2_sample = pd.concat([tr_train_2_0, tr_train_2_1])\n",
    "#Vamos a mezclar las observaciones\n",
    "tr_train_2_sample = tr_train_2_sample.sample(frac=1, random_state=42)\n",
    "#Vamos a separar las variables de respuesta de las explicativas\n",
    "x_train_sample = tr_train_2_sample.drop(columns=['isFraud'])\n",
    "y_train_sample = tr_train_2_sample['isFraud']"
   ]
  },
  {
   "cell_type": "code",
   "execution_count": 83,
   "metadata": {},
   "outputs": [],
   "source": [
    "#Ahora creamos x_test y y_test a partir de tr_test_2 de la misma manera\n",
    "tr_test_2['isFraud'].value_counts()\n",
    "#Usamos 4000 y 4000\n",
    "tr_test_2_0 = tr_test_2[tr_test_2['isFraud']==0].sample(n=2000, random_state=42)\n",
    "tr_test_2_1 = tr_test_2[tr_test_2['isFraud']==1].sample(n=800, random_state=42)\n",
    "#Combinamos los dos sets\n",
    "tr_test_2_sample = pd.concat([tr_test_2_0, tr_test_2_1])\n",
    "#Vamos a mezclar las observaciones\n",
    "tr_test_2_sample = tr_test_2_sample.sample(frac=1, random_state=42)\n",
    "#Vamos a separar las variables de respuesta de las explicativas\n",
    "x_test_sample = tr_test_2_sample.drop(columns=['isFraud'])\n",
    "y_test_sample = tr_test_2_sample['isFraud']"
   ]
  },
  {
   "cell_type": "code",
   "execution_count": 84,
   "metadata": {},
   "outputs": [
    {
     "data": {
      "text/plain": [
       "GridSearchCV(cv=StratifiedKFold(n_splits=3, random_state=None, shuffle=False),\n",
       "             estimator=KNeighborsClassifier(),\n",
       "             param_grid={'n_neighbors': [3, 5, 8, 12, 15, 20, 25]},\n",
       "             scoring='roc_auc')"
      ]
     },
     "execution_count": 84,
     "metadata": {},
     "output_type": "execute_result"
    }
   ],
   "source": [
    "#Vamos a crear un GridSearchCV para KNN sin Pipeline   \n",
    "from sklearn.neighbors import KNeighborsClassifier\n",
    "from sklearn.model_selection import GridSearchCV\n",
    "from sklearn.model_selection import StratifiedKFold\n",
    "#Vamos a crear un diccionario con los hiperparametros\n",
    "param_grid = {'n_neighbors': [3,5,8,12,15,20,25]}\n",
    "#Vamos a crear el GridSearchCV\n",
    "knn_grid_search = GridSearchCV(KNeighborsClassifier(), param_grid, cv=StratifiedKFold(n_splits=3), scoring='roc_auc')\n",
    "#Vamos a entrenar el modelo\n",
    "knn_grid_search.fit(x_train_sample, y_train_sample)"
   ]
  },
  {
   "cell_type": "code",
   "execution_count": 85,
   "metadata": {},
   "outputs": [],
   "source": [
    "#Vamos a usar el mejor modelo para predecir en el set de test\n",
    "#Primero vamos a ver el mejor modelo\n",
    "knn_grid_search.best_estimator_\n",
    "#Vamos a predecir en el set de test\n",
    "y_pred = knn_grid_search.predict(x_test_sample)\n",
    "#Agregamos resultados en el dataframe\n",
    "resultados.loc[0,'Modelo'] = 'KNN'\n",
    "resultados.loc[0,'Precision'] = precision_score(y_test_sample, y_pred)\n",
    "resultados.loc[0,'Recall'] = recall_score(y_test_sample, y_pred)\n",
    "resultados.loc[0,'F1'] = f1_score(y_test_sample, y_pred)\n",
    "resultados.loc[0,'AUC'] = roc_auc_score(y_test_sample, y_pred)\n"
   ]
  },
  {
   "cell_type": "code",
   "execution_count": 86,
   "metadata": {},
   "outputs": [
    {
     "name": "stderr",
     "output_type": "stream",
     "text": [
      "c:\\Users\\USUARIO\\miniconda3\\envs\\ml_venv\\lib\\site-packages\\sklearn\\linear_model\\_ridge.py:157: LinAlgWarning:\n",
      "\n",
      "Ill-conditioned matrix (rcond=3.53973e-19): result may not be accurate.\n",
      "\n",
      "c:\\Users\\USUARIO\\miniconda3\\envs\\ml_venv\\lib\\site-packages\\sklearn\\linear_model\\_ridge.py:157: LinAlgWarning:\n",
      "\n",
      "Ill-conditioned matrix (rcond=3.54029e-19): result may not be accurate.\n",
      "\n",
      "c:\\Users\\USUARIO\\miniconda3\\envs\\ml_venv\\lib\\site-packages\\sklearn\\linear_model\\_ridge.py:157: LinAlgWarning:\n",
      "\n",
      "Ill-conditioned matrix (rcond=3.48526e-19): result may not be accurate.\n",
      "\n",
      "c:\\Users\\USUARIO\\miniconda3\\envs\\ml_venv\\lib\\site-packages\\sklearn\\linear_model\\_ridge.py:157: LinAlgWarning:\n",
      "\n",
      "Ill-conditioned matrix (rcond=1.76987e-18): result may not be accurate.\n",
      "\n",
      "c:\\Users\\USUARIO\\miniconda3\\envs\\ml_venv\\lib\\site-packages\\sklearn\\linear_model\\_ridge.py:157: LinAlgWarning:\n",
      "\n",
      "Ill-conditioned matrix (rcond=1.77014e-18): result may not be accurate.\n",
      "\n",
      "c:\\Users\\USUARIO\\miniconda3\\envs\\ml_venv\\lib\\site-packages\\sklearn\\linear_model\\_ridge.py:157: LinAlgWarning:\n",
      "\n",
      "Ill-conditioned matrix (rcond=1.74263e-18): result may not be accurate.\n",
      "\n",
      "c:\\Users\\USUARIO\\miniconda3\\envs\\ml_venv\\lib\\site-packages\\sklearn\\linear_model\\_ridge.py:157: LinAlgWarning:\n",
      "\n",
      "Ill-conditioned matrix (rcond=3.53973e-18): result may not be accurate.\n",
      "\n",
      "c:\\Users\\USUARIO\\miniconda3\\envs\\ml_venv\\lib\\site-packages\\sklearn\\linear_model\\_ridge.py:157: LinAlgWarning:\n",
      "\n",
      "Ill-conditioned matrix (rcond=3.54029e-18): result may not be accurate.\n",
      "\n",
      "c:\\Users\\USUARIO\\miniconda3\\envs\\ml_venv\\lib\\site-packages\\sklearn\\linear_model\\_ridge.py:157: LinAlgWarning:\n",
      "\n",
      "Ill-conditioned matrix (rcond=3.48526e-18): result may not be accurate.\n",
      "\n",
      "c:\\Users\\USUARIO\\miniconda3\\envs\\ml_venv\\lib\\site-packages\\sklearn\\linear_model\\_ridge.py:157: LinAlgWarning:\n",
      "\n",
      "Ill-conditioned matrix (rcond=7.07946e-18): result may not be accurate.\n",
      "\n",
      "c:\\Users\\USUARIO\\miniconda3\\envs\\ml_venv\\lib\\site-packages\\sklearn\\linear_model\\_ridge.py:157: LinAlgWarning:\n",
      "\n",
      "Ill-conditioned matrix (rcond=7.08057e-18): result may not be accurate.\n",
      "\n",
      "c:\\Users\\USUARIO\\miniconda3\\envs\\ml_venv\\lib\\site-packages\\sklearn\\linear_model\\_ridge.py:157: LinAlgWarning:\n",
      "\n",
      "Ill-conditioned matrix (rcond=6.97052e-18): result may not be accurate.\n",
      "\n",
      "c:\\Users\\USUARIO\\miniconda3\\envs\\ml_venv\\lib\\site-packages\\sklearn\\linear_model\\_ridge.py:157: LinAlgWarning:\n",
      "\n",
      "Ill-conditioned matrix (rcond=1.76987e-17): result may not be accurate.\n",
      "\n",
      "c:\\Users\\USUARIO\\miniconda3\\envs\\ml_venv\\lib\\site-packages\\sklearn\\linear_model\\_ridge.py:157: LinAlgWarning:\n",
      "\n",
      "Ill-conditioned matrix (rcond=1.77014e-17): result may not be accurate.\n",
      "\n",
      "c:\\Users\\USUARIO\\miniconda3\\envs\\ml_venv\\lib\\site-packages\\sklearn\\linear_model\\_ridge.py:157: LinAlgWarning:\n",
      "\n",
      "Ill-conditioned matrix (rcond=1.74263e-17): result may not be accurate.\n",
      "\n",
      "c:\\Users\\USUARIO\\miniconda3\\envs\\ml_venv\\lib\\site-packages\\sklearn\\linear_model\\_ridge.py:157: LinAlgWarning:\n",
      "\n",
      "Ill-conditioned matrix (rcond=2.48998e-17): result may not be accurate.\n",
      "\n",
      "c:\\Users\\USUARIO\\miniconda3\\envs\\ml_venv\\lib\\site-packages\\sklearn\\linear_model\\_ridge.py:157: LinAlgWarning:\n",
      "\n",
      "Ill-conditioned matrix (rcond=2.35643e-17): result may not be accurate.\n",
      "\n",
      "c:\\Users\\USUARIO\\miniconda3\\envs\\ml_venv\\lib\\site-packages\\sklearn\\linear_model\\_ridge.py:157: LinAlgWarning:\n",
      "\n",
      "Ill-conditioned matrix (rcond=3.48526e-17): result may not be accurate.\n",
      "\n",
      "c:\\Users\\USUARIO\\miniconda3\\envs\\ml_venv\\lib\\site-packages\\sklearn\\linear_model\\_ridge.py:157: LinAlgWarning:\n",
      "\n",
      "Ill-conditioned matrix (rcond=2.34771e-17): result may not be accurate.\n",
      "\n"
     ]
    },
    {
     "data": {
      "text/plain": [
       "GridSearchCV(cv=StratifiedKFold(n_splits=3, random_state=None, shuffle=False),\n",
       "             estimator=RidgeClassifier(),\n",
       "             param_grid={'alpha': [0.1, 0.5, 1, 2, 5, 10]}, scoring='roc_auc')"
      ]
     },
     "execution_count": 86,
     "metadata": {},
     "output_type": "execute_result"
    }
   ],
   "source": [
    "#Ahora para el modelo Ridge\n",
    "from sklearn.linear_model import RidgeClassifier\n",
    "#Vamos a crear un diccionario con los hiperparametros\n",
    "param_grid = {'alpha': [0.1,0.5,1,2,5,10]}\n",
    "#Vamos a crear el GridSearchCV\n",
    "ridge_grid_search = GridSearchCV(RidgeClassifier(), param_grid, cv=StratifiedKFold(n_splits=3), scoring='roc_auc')\n",
    "#Vamos a entrenar el modelo\n",
    "ridge_grid_search.fit(x_train_sample, y_train_sample)"
   ]
  },
  {
   "cell_type": "code",
   "execution_count": 87,
   "metadata": {},
   "outputs": [],
   "source": [
    "#Vamos a usar el mejor modelo para predecir en el set de test\n",
    "#Primero vamos a ver el mejor modelo\n",
    "ridge_grid_search.best_estimator_\n",
    "#Vamos a predecir en el set de test\n",
    "y_pred = ridge_grid_search.predict(x_test_sample)\n",
    "#Agregamos resultados en el dataframe\n",
    "resultados.loc[1,'Modelo'] = 'Ridge'\n",
    "resultados.loc[1,'Precision'] = precision_score(y_test_sample, y_pred)\n",
    "resultados.loc[1,'Recall'] = recall_score(y_test_sample, y_pred)\n",
    "resultados.loc[1,'F1'] = f1_score(y_test_sample, y_pred)\n",
    "resultados.loc[1,'AUC'] = roc_auc_score(y_test_sample, y_pred)"
   ]
  },
  {
   "cell_type": "code",
   "execution_count": 244,
   "metadata": {},
   "outputs": [
    {
     "data": {
      "text/plain": [
       "GridSearchCV(cv=StratifiedKFold(n_splits=3, random_state=None, shuffle=False),\n",
       "             estimator=LogisticRegression(),\n",
       "             param_grid=[{'C': [1, 0.5, 0.1, 0.01, 0.001, 0.0001]}],\n",
       "             scoring='roc_auc')"
      ]
     },
     "execution_count": 244,
     "metadata": {},
     "output_type": "execute_result"
    }
   ],
   "source": [
    "#Ahora para el modelo Lasso\n",
    "from sklearn.linear_model import LogisticRegression\n",
    "#Vamos a crear un diccionario con los hiperparametros\n",
    "param_grid = [{'C': [1,0.5,0.1,0.01,0.001,0.0001]}]\n",
    "#Vamos a crear el GridSearchCV\n",
    "lasso_grid_search_2 = GridSearchCV(LogisticRegression(), param_grid, cv=StratifiedKFold(n_splits=3), scoring='roc_auc')\n",
    "#Vamos a entrenar el modelo\n",
    "lasso_grid_search_2.fit(x_train_sample, y_train_sample)"
   ]
  },
  {
   "cell_type": "code",
   "execution_count": 246,
   "metadata": {},
   "outputs": [],
   "source": [
    "#Vamos a usar el mejor modelo para predecir en el set de test\n",
    "#Primero vamos a ver el mejor modelo\n",
    "lasso_grid_search_2.best_estimator_\n",
    "#Vaamos a predecir en el set de test\n",
    "y_pred = lasso_grid_search_2.predict(x_test_sample)"
   ]
  },
  {
   "cell_type": "code",
   "execution_count": 251,
   "metadata": {},
   "outputs": [],
   "source": [
    "#Agregamos resultados en el dataframe\n",
    "resultados.loc[2,'Modelo'] = 'Lasso'\n",
    "resultados.loc[2,'Precision'] = precision_score(y_test_sample, y_pred)\n",
    "resultados.loc[2,'Recall'] = recall_score(y_test_sample, y_pred)\n",
    "resultados.loc[2,'F1'] = f1_score(y_test_sample, y_pred)\n",
    "resultados.loc[2,'AUC'] = roc_auc_score(y_test_sample, y_pred)"
   ]
  },
  {
   "cell_type": "code",
   "execution_count": 91,
   "metadata": {},
   "outputs": [],
   "source": [
    "#Modelo Naive Bayes\n",
    "#Para este modelo no vamos a iterar Parametros ni hacer GridSearchCV\n",
    "#Vamos a generar el modelo con GaussianNB\n",
    "from sklearn.naive_bayes import GaussianNB\n",
    "#Vamos a entrenar el modelo\n",
    "gaussian = GaussianNB()\n",
    "gaussian.fit(x_train_sample, y_train_sample)\n",
    "#Vamos a predecir en el set de test\n",
    "y_pred = gaussian.predict(x_test_sample)"
   ]
  },
  {
   "cell_type": "code",
   "execution_count": 92,
   "metadata": {},
   "outputs": [],
   "source": [
    "#Agregamos los resultados en el dataframe\n",
    "resultados.loc[3,'Modelo'] = 'Naive Bayes'\n",
    "resultados.loc[3,'Precision'] = precision_score(y_test_sample, y_pred)\n",
    "resultados.loc[3,'Recall'] = recall_score(y_test_sample, y_pred)\n",
    "resultados.loc[3,'F1'] = f1_score(y_test_sample, y_pred)\n",
    "resultados.loc[3,'AUC'] = roc_auc_score(y_test_sample, y_pred)"
   ]
  },
  {
   "cell_type": "code",
   "execution_count": 93,
   "metadata": {},
   "outputs": [
    {
     "data": {
      "text/plain": [
       "GridSearchCV(cv=StratifiedKFold(n_splits=3, random_state=None, shuffle=False),\n",
       "             estimator=GradientBoostingClassifier(),\n",
       "             param_grid={'learning_rate': [0.1, 0.5, 1, 2],\n",
       "                         'max_depth': [3, 5, 8, 12],\n",
       "                         'n_estimators': [50, 100, 200, 300]},\n",
       "             scoring='roc_auc')"
      ]
     },
     "execution_count": 93,
     "metadata": {},
     "output_type": "execute_result"
    }
   ],
   "source": [
    "#Modelo XGBoost\n",
    "#Importamos el modelo\n",
    "#XGBoost from sklearn\n",
    "from sklearn.ensemble import GradientBoostingClassifier\n",
    "#Vamos a crear un diccionario con los hiperparametros\n",
    "param_grid = {'max_depth': [3,5,8,12], 'learning_rate': [0.1,0.5,1,2], 'n_estimators': [50,100,200,300]}\n",
    "#Vamos a crear el GridSearchCV\n",
    "xgb_grid_search = GridSearchCV(GradientBoostingClassifier(), param_grid, cv=StratifiedKFold(n_splits=3), scoring='roc_auc')\n",
    "#Vamos a entrenar el modelo\n",
    "xgb_grid_search.fit(x_train_sample, y_train_sample)"
   ]
  },
  {
   "cell_type": "code",
   "execution_count": 95,
   "metadata": {},
   "outputs": [],
   "source": [
    "#Predecimos en test\n",
    "y_pred = xgb_grid_search.predict(x_test_sample)"
   ]
  },
  {
   "cell_type": "code",
   "execution_count": 96,
   "metadata": {},
   "outputs": [],
   "source": [
    "#Agregamos los resultados en el dataframe\n",
    "resultados.loc[4,'Modelo'] = 'XGBoost'\n",
    "resultados.loc[4,'Precision'] = precision_score(y_test_sample, y_pred)\n",
    "resultados.loc[4,'Recall'] = recall_score(y_test_sample, y_pred)\n",
    "resultados.loc[4,'F1'] = f1_score(y_test_sample, y_pred)\n",
    "resultados.loc[4,'AUC'] = roc_auc_score(y_test_sample, y_pred)"
   ]
  },
  {
   "cell_type": "code",
   "execution_count": 37,
   "metadata": {},
   "outputs": [],
   "source": [
    "#Modelo SVM\n",
    "#Importamos el modelo\n",
    "from sklearn.svm import SVC\n",
    "#Vamos a crear un diccionario con los hiperparametros\n",
    "#param_grid = {'C': [0.1,0.5,1,2,5,10], 'kernel': ['linear','poly','rbf','sigmoid']}\n",
    "param_grid = {'C': [0.1], 'kernel': ['linear']}\n",
    "#Vamos a crear el GridSearchCV\n",
    "svm_grid_search = GridSearchCV(SVC(), param_grid, cv=StratifiedKFold(n_splits=3), scoring='roc_auc')\n",
    "#Vamos a entrenar el modelo\n",
    "svm_grid_search.fit(x_train_sample, y_train_sample)"
   ]
  },
  {
   "cell_type": "code",
   "execution_count": 253,
   "metadata": {},
   "outputs": [
    {
     "data": {
      "text/plain": [
       "SVC()"
      ]
     },
     "execution_count": 253,
     "metadata": {},
     "output_type": "execute_result"
    }
   ],
   "source": [
    "#Vamos a hacer un modelo SVC sin gridsearch por cuestiones de tiempo de procesamiento\n",
    "#Vamos a entrenar el modelo\n",
    "#Importamos el modelo\n",
    "from sklearn.svm import SVC\n",
    "#Importamos MinMaxScaler\n",
    "from sklearn.preprocessing import MinMaxScaler\n",
    "#Escalamos las variables\n",
    "scaler = MinMaxScaler()\n",
    "x_train_sample_scaled = scaler.fit_transform(x_train_sample)\n",
    "x_test_sample_scaled = scaler.transform(x_test_sample)\n",
    "svm = SVC()\n",
    "svm.fit(x_train_sample_scaled, y_train_sample)"
   ]
  },
  {
   "cell_type": "code",
   "execution_count": 257,
   "metadata": {},
   "outputs": [],
   "source": [
    "#Predecimos con test el svc\n",
    "y_pred = svm.predict(x_test_sample_scaled)"
   ]
  },
  {
   "cell_type": "code",
   "execution_count": 258,
   "metadata": {},
   "outputs": [],
   "source": [
    "#Agregamos los resultados en el dataframe\n",
    "resultados.loc[5,'Modelo'] = 'SVM'\n",
    "resultados.loc[5,'Precision'] = precision_score(y_test_sample, y_pred)\n",
    "resultados.loc[5,'Recall'] = recall_score(y_test_sample, y_pred)\n",
    "resultados.loc[5,'F1'] = f1_score(y_test_sample, y_pred)\n",
    "resultados.loc[5,'AUC'] = roc_auc_score(y_test_sample, y_pred)"
   ]
  },
  {
   "cell_type": "code",
   "execution_count": 101,
   "metadata": {},
   "outputs": [
    {
     "data": {
      "text/plain": [
       "GridSearchCV(cv=StratifiedKFold(n_splits=3, random_state=None, shuffle=False),\n",
       "             estimator=MLPClassifier(),\n",
       "             param_grid={'activation': ['identity', 'logistic', 'tanh', 'relu'],\n",
       "                         'hidden_layer_sizes': [(10,), (50,), (100,)]},\n",
       "             scoring='roc_auc')"
      ]
     },
     "execution_count": 101,
     "metadata": {},
     "output_type": "execute_result"
    }
   ],
   "source": [
    "#Por Ulitmo el modelo MLP\n",
    "from sklearn.model_selection import GridSearchCV\n",
    "from sklearn.model_selection import StratifiedKFold\n",
    "from sklearn.neural_network import MLPClassifier\n",
    "#Vamos a crear un diccionario con los hiperparametros\n",
    "param_grid = {'hidden_layer_sizes': [(10,),(50,),(100,)], 'activation': ['identity','logistic','tanh','relu']}\n",
    "#Vamos a crear el GridSearchCV\n",
    "mlp_grid_search = GridSearchCV(MLPClassifier(), param_grid, cv=StratifiedKFold(n_splits=3), scoring='roc_auc')\n",
    "#Vamos a entrenar el modelo\n",
    "mlp_grid_search.fit(x_train_sample, y_train_sample)"
   ]
  },
  {
   "cell_type": "code",
   "execution_count": 102,
   "metadata": {},
   "outputs": [],
   "source": [
    "#Predecimos para test con el MLP\n",
    "y_pred = mlp_grid_search.predict(x_test_sample)"
   ]
  },
  {
   "cell_type": "code",
   "execution_count": 103,
   "metadata": {},
   "outputs": [],
   "source": [
    "#Agregamos los resultados en el dataframe\n",
    "resultados.loc[6,'Modelo'] = 'MLP'\n",
    "resultados.loc[6,'Precision'] = precision_score(y_test_sample, y_pred)\n",
    "resultados.loc[6,'Recall'] = recall_score(y_test_sample, y_pred)\n",
    "resultados.loc[6,'F1'] = f1_score(y_test_sample, y_pred)\n",
    "resultados.loc[6,'AUC'] = roc_auc_score(y_test_sample, y_pred)"
   ]
  },
  {
   "cell_type": "code",
   "execution_count": 260,
   "metadata": {},
   "outputs": [
    {
     "data": {
      "text/html": [
       "<div>\n",
       "<style scoped>\n",
       "    .dataframe tbody tr th:only-of-type {\n",
       "        vertical-align: middle;\n",
       "    }\n",
       "\n",
       "    .dataframe tbody tr th {\n",
       "        vertical-align: top;\n",
       "    }\n",
       "\n",
       "    .dataframe thead th {\n",
       "        text-align: right;\n",
       "    }\n",
       "</style>\n",
       "<table border=\"1\" class=\"dataframe\">\n",
       "  <thead>\n",
       "    <tr style=\"text-align: right;\">\n",
       "      <th></th>\n",
       "      <th>Modelo</th>\n",
       "      <th>Precision</th>\n",
       "      <th>Recall</th>\n",
       "      <th>F1</th>\n",
       "      <th>AUC</th>\n",
       "    </tr>\n",
       "  </thead>\n",
       "  <tbody>\n",
       "    <tr>\n",
       "      <th>0</th>\n",
       "      <td>KNN</td>\n",
       "      <td>0.353641</td>\n",
       "      <td>0.63125</td>\n",
       "      <td>0.453321</td>\n",
       "      <td>0.584875</td>\n",
       "    </tr>\n",
       "    <tr>\n",
       "      <th>1</th>\n",
       "      <td>Ridge</td>\n",
       "      <td>0.552941</td>\n",
       "      <td>0.76375</td>\n",
       "      <td>0.64147</td>\n",
       "      <td>0.758375</td>\n",
       "    </tr>\n",
       "    <tr>\n",
       "      <th>2</th>\n",
       "      <td>Lasso</td>\n",
       "      <td>0.390915</td>\n",
       "      <td>0.76375</td>\n",
       "      <td>0.517139</td>\n",
       "      <td>0.643875</td>\n",
       "    </tr>\n",
       "    <tr>\n",
       "      <th>3</th>\n",
       "      <td>Naive Bayes</td>\n",
       "      <td>0.300278</td>\n",
       "      <td>0.94625</td>\n",
       "      <td>0.455887</td>\n",
       "      <td>0.532125</td>\n",
       "    </tr>\n",
       "    <tr>\n",
       "      <th>4</th>\n",
       "      <td>XGBoost</td>\n",
       "      <td>0.732768</td>\n",
       "      <td>0.86375</td>\n",
       "      <td>0.792886</td>\n",
       "      <td>0.868875</td>\n",
       "    </tr>\n",
       "    <tr>\n",
       "      <th>5</th>\n",
       "      <td>SVM</td>\n",
       "      <td>0.554228</td>\n",
       "      <td>0.75375</td>\n",
       "      <td>0.638771</td>\n",
       "      <td>0.755625</td>\n",
       "    </tr>\n",
       "    <tr>\n",
       "      <th>6</th>\n",
       "      <td>MLP</td>\n",
       "      <td>0.320371</td>\n",
       "      <td>0.90625</td>\n",
       "      <td>0.473392</td>\n",
       "      <td>0.568625</td>\n",
       "    </tr>\n",
       "  </tbody>\n",
       "</table>\n",
       "</div>"
      ],
      "text/plain": [
       "        Modelo Precision   Recall        F1       AUC\n",
       "0          KNN  0.353641  0.63125  0.453321  0.584875\n",
       "1        Ridge  0.552941  0.76375   0.64147  0.758375\n",
       "2        Lasso  0.390915  0.76375  0.517139  0.643875\n",
       "3  Naive Bayes  0.300278  0.94625  0.455887  0.532125\n",
       "4      XGBoost  0.732768  0.86375  0.792886  0.868875\n",
       "5          SVM  0.554228  0.75375  0.638771  0.755625\n",
       "6          MLP  0.320371  0.90625  0.473392  0.568625"
      ]
     },
     "execution_count": 260,
     "metadata": {},
     "output_type": "execute_result"
    }
   ],
   "source": [
    "resultados"
   ]
  },
  {
   "cell_type": "markdown",
   "metadata": {},
   "source": [
    "MLP y Naive Bayes tienen un buen desempeño en términos de recall, pero son deficientes en términos de AUC y precision. Esto se debe a que estos modelos asumen independencia entre las características, lo que puede no ser válido en muchos casos. SVM tiene un desempeño más balanceado entre recall y precision, ya que es capaz de capturar relaciones complejas entre las características. XGBoosting tiene el mejor desempeño general, con un alto AUC y precision y es el modelo que escogemos para clasificar. "
   ]
  }
 ],
 "metadata": {
  "kernelspec": {
   "display_name": "ml_venv",
   "language": "python",
   "name": "python3"
  },
  "language_info": {
   "codemirror_mode": {
    "name": "ipython",
    "version": 3
   },
   "file_extension": ".py",
   "mimetype": "text/x-python",
   "name": "python",
   "nbconvert_exporter": "python",
   "pygments_lexer": "ipython3",
   "version": "3.9.17"
  },
  "orig_nbformat": 4
 },
 "nbformat": 4,
 "nbformat_minor": 2
}
